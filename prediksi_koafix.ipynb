{
  "cells": [
    {
      "cell_type": "markdown",
      "metadata": {
        "id": "view-in-github",
        "colab_type": "text"
      },
      "source": [
        "<a href=\"https://colab.research.google.com/github/Maulana2798/identifikasi/blob/main/prediksi_koafix.ipynb\" target=\"_parent\"><img src=\"https://colab.research.google.com/assets/colab-badge.svg\" alt=\"Open In Colab\"/></a>"
      ]
    },
    {
      "cell_type": "code",
      "execution_count": 1,
      "metadata": {
        "id": "fd6oB-6-4ZqT",
        "colab": {
          "base_uri": "https://localhost:8080/"
        },
        "outputId": "23ec3aef-d898-40ea-8b43-26a7e801910a"
      },
      "outputs": [
        {
          "output_type": "stream",
          "name": "stdout",
          "text": [
            "2.9.2\n"
          ]
        }
      ],
      "source": [
        "#import library tensorflow\n",
        "import tensorflow as tf\n",
        "from tensorflow.keras.preprocessing.image import ImageDataGenerator\n",
        "\n",
        "#memasitikan versi tensorflow\n",
        "print(tf.__version__)"
      ]
    },
    {
      "cell_type": "code",
      "execution_count": 2,
      "metadata": {
        "id": "LBN92ZJs4n0z",
        "colab": {
          "base_uri": "https://localhost:8080/"
        },
        "outputId": "fb4a1b67-6b4a-4721-81cd-2958c76b0e11"
      },
      "outputs": [
        {
          "output_type": "stream",
          "name": "stdout",
          "text": [
            "Drive already mounted at /content/drive; to attempt to forcibly remount, call drive.mount(\"/content/drive\", force_remount=True).\n"
          ]
        }
      ],
      "source": [
        "from google.colab import drive\n",
        "drive.mount('/content/drive')"
      ]
    },
    {
      "cell_type": "code",
      "execution_count": 3,
      "metadata": {
        "id": "uIOlI7w03Prp"
      },
      "outputs": [],
      "source": [
        "#melakukan extract file zip\n",
        "import zipfile,os\n",
        "local_zip = '/content/drive/MyDrive/Skripsi/Program/koa2.zip'\n",
        "base_dir = '/content/koa/koa-val-image'\n",
        "zip_ref = zipfile.ZipFile(local_zip, 'r')\n",
        "zip_ref.extractall('/content')\n",
        "zip_ref.close()\n"
      ]
    },
    {
      "cell_type": "code",
      "execution_count": 4,
      "metadata": {
        "id": "Dm7YZ3mW3syH"
      },
      "outputs": [],
      "source": [
        "#mendefinisikan nama direktori untuk data latih dan data validasi\n",
        "train_dir = os.path.join(base_dir, 'koa')\n",
        "validation_dir = os.path.join(base_dir, 'koa/koa-val-image')"
      ]
    },
    {
      "cell_type": "code",
      "execution_count": 5,
      "metadata": {
        "id": "2ASkHV87316L",
        "colab": {
          "base_uri": "https://localhost:8080/"
        },
        "outputId": "31bc045d-1459-4a12-e265-472dfef91cbd"
      },
      "outputs": [
        {
          "output_type": "execute_result",
          "data": {
            "text/plain": [
              "['jarum_hitam',\n",
              " 'sisiak_aluih',\n",
              " 'hiu_gadang',\n",
              " 'tali_aluih',\n",
              " 'sisiak_bendera',\n",
              " 'suduang_aluih',\n",
              " 'pacah_manih',\n",
              " 'bengkok_gadang',\n",
              " 'batuang_manih',\n",
              " 'hiu_kuciang',\n",
              " 'suduang_pinggang',\n",
              " 'hiu_pinci',\n",
              " 'babi_aluih',\n",
              " 'sisiak_gadang',\n",
              " 'babi_gadang',\n",
              " 'hiu_babak',\n",
              " 'hiu_bungo',\n",
              " 'tali_merah',\n",
              " 'bengkok_hitam',\n",
              " 'jarum_gadang',\n",
              " 'tali_bulek',\n",
              " 'jarum_aluih',\n",
              " 'bengkok_aluih',\n",
              " 'batuang_aluih',\n",
              " 'pacah_delapan',\n",
              " 'hiu_hitam',\n",
              " 'babi_pusek',\n",
              " 'pacah_aluih',\n",
              " 'suduang_hitam',\n",
              " 'koa-val-image',\n",
              " 'batuang_anam']"
            ]
          },
          "metadata": {},
          "execution_count": 5
        }
      ],
      "source": [
        "#cek direktori data train\n",
        "os.listdir('/content/koa')"
      ]
    },
    {
      "cell_type": "code",
      "execution_count": 6,
      "metadata": {
        "id": "TluoRcZH312O",
        "colab": {
          "base_uri": "https://localhost:8080/"
        },
        "outputId": "846bc779-0e39-48f4-d4b8-034148eaa035"
      },
      "outputs": [
        {
          "output_type": "execute_result",
          "data": {
            "text/plain": [
              "['jarum_hitam',\n",
              " 'sisiak_aluih',\n",
              " 'hiu_gadang',\n",
              " 'tali_aluih',\n",
              " 'sisiak_bendera',\n",
              " 'suduang_aluih',\n",
              " 'pacah_manih',\n",
              " 'bengkok_gadang',\n",
              " 'batuang_manih',\n",
              " 'hiu_kuciang',\n",
              " 'suduang_pinggang',\n",
              " 'hiu_pinci',\n",
              " 'babi_aluih',\n",
              " 'sisiak_gadang',\n",
              " 'babi_gadang',\n",
              " 'hiu_babak',\n",
              " 'hiu_bungo',\n",
              " 'tali_merah',\n",
              " 'bengkok_hitam',\n",
              " 'jarum_gadang',\n",
              " 'tali_bulek',\n",
              " 'jarum_aluih',\n",
              " 'bengkok_aluih',\n",
              " 'batuang_aluih',\n",
              " 'pacah_delapan',\n",
              " 'hiu_hitam',\n",
              " 'babi_pusek',\n",
              " 'pacah_aluih',\n",
              " 'suduang_hitam',\n",
              " 'batuang_anam']"
            ]
          },
          "metadata": {},
          "execution_count": 6
        }
      ],
      "source": [
        "#cek direktori data valiadtion\n",
        "os.listdir('/content/koa/koa-val-image')"
      ]
    },
    {
      "cell_type": "code",
      "execution_count": 7,
      "metadata": {
        "id": "c00JwmNp31x1"
      },
      "outputs": [],
      "source": [
        "#membuat direktori rockpaperscissors pada data training\n",
        "train_babi_aluih_dir = os.path.join(train_dir, 'babi_aluih')\n",
        "train_babi_gadang_dir = os.path.join(train_dir, 'babi_gadang')\n",
        "train_babi_pusek_dir = os.path.join(train_dir, 'babi_pusek')\n",
        "train_batuang_aluih_dir = os.path.join(train_dir, 'batuang_aluih')\n",
        "train_batuang_anam_dir = os.path.join(train_dir, 'batuang_anam')\n",
        "train_batuang_manih_dir = os.path.join(train_dir, 'batuang_manih')\n",
        "train_bengkok_aluih_dir = os.path.join(train_dir, 'bengkok_aluih')\n",
        "train_bengkok_gadang_dir = os.path.join(train_dir, 'bengkok_gadang')\n",
        "train_bengkok_hitam_dir = os.path.join(train_dir, 'bengkok_hitam')\n",
        "train_hiu_babak_dir = os.path.join(train_dir, 'hiu_babak')\n",
        "train_hiu_bungo_dir = os.path.join(train_dir, 'hiu_bungo')\n",
        "train_hiu_gadang_dir = os.path.join(train_dir, 'hiu_gadang')\n",
        "train_hiu_hitam_dir = os.path.join(train_dir, 'hiu_hitam')\n",
        "train_hiu_kuciang_dir = os.path.join(train_dir, 'hiu_kuciang')\n",
        "train_hiu__pinci_dir = os.path.join(train_dir, 'hiu_pinci')\n",
        "train_jarum_aluih_dir = os.path.join(train_dir, 'jarum_aluih')\n",
        "train_jarum_gadang_dir = os.path.join(train_dir, 'jarum_gadang')\n",
        "train_jarum_hitam_dir = os.path.join(train_dir, 'jarum_hitam')\n",
        "train_pacah_aluih_dir = os.path.join(train_dir, 'pacah_aluih')\n",
        "train_pacah_delapan_dir = os.path.join(train_dir, 'pacah_delapan')\n",
        "train_pacah_manih_dir = os.path.join(train_dir, 'pacah_manih')\n",
        "train_sisiak_aluih_dir = os.path.join(train_dir, 'sisiak_aluih')\n",
        "train_sisiak_bendera_dir = os.path.join(train_dir, 'sisiak_bendera')\n",
        "train_sisiak_gadang_dir = os.path.join(train_dir, 'sisiak_gadang')\n",
        "train_suduang_aluih_dir = os.path.join(train_dir, 'suduang_aluih')\n",
        "train_suduang_hitam_dir = os.path.join(train_dir, 'suduang_hitam')\n",
        "train_suduang_pinggang_dir = os.path.join(train_dir, 'suduang_pinggang')\n",
        "train_tali_aluih_dir = os.path.join(train_dir, 'tali_aluih')\n",
        "train_tali_bulek_dir = os.path.join(train_dir, 'tali_bulek')\n",
        "train_tali_merah_dir = os.path.join(train_dir, 'tali_merah')\n",
        "\n",
        "#membuat direktori rockpaperscissor pada data c=validasi\n",
        "validation_babi_aluih_dir = os.path.join(validation_dir, 'babi_aluih')\n",
        "validation_babi_gadang_dir = os.path.join(validation_dir, 'babi_gadang')\n",
        "validation_babi_pusek_dir = os.path.join(validation_dir, 'babi_pusek')\n",
        "validation_batuang_aluih_dir = os.path.join(validation_dir, 'batuang_aluih')\n",
        "validation_batuang_anam_dir = os.path.join(validation_dir, 'batuang_anam')\n",
        "validation_batuang_manih_dir = os.path.join(validation_dir, 'batuang_manih')\n",
        "validation_bengkok_aluih_dir = os.path.join(validation_dir, 'bengkok_aluih')\n",
        "validation_bengkok_gadang_dir = os.path.join(validation_dir, 'bengkok_gadang')\n",
        "validation_bengkok_hitam_dir = os.path.join(validation_dir, 'bengkok_hitam')\n",
        "validation_hiu_babak_dir = os.path.join(validation_dir, 'hiu_babak')\n",
        "validation_hiu_bungo_dir = os.path.join(validation_dir, 'hiu_bungo')\n",
        "validation_hiu_gadang_dir = os.path.join(validation_dir, 'hiu_gadang')\n",
        "validation_hiu_hitam_dir = os.path.join(validation_dir, 'hiu_hitam')\n",
        "validation_hiu_kuciang_dir = os.path.join(validation_dir, 'hiu_kuciang')\n",
        "validation_hiu__pinci_dir = os.path.join(validation_dir, 'hiu_pinci')\n",
        "validation_jarum_aluih_dir = os.path.join(validation_dir, 'jarum_aluih')\n",
        "validation_jarum_gadang_dir = os.path.join(validation_dir, 'jarum_gadang')\n",
        "validation_jarum_hitam_dir = os.path.join(validation_dir, 'jarum_hitam')\n",
        "validation_pacah_aluih_dir = os.path.join(validation_dir, 'pacah_aluih')\n",
        "validation_pacah_delapan_dir = os.path.join(validation_dir, 'pacah_delapan')\n",
        "validation_pacah_manih_dir = os.path.join(validation_dir, 'pacah_manih')\n",
        "validation_sisiak_aluih_dir = os.path.join(validation_dir, 'sisiak_aluih')\n",
        "validation_sisiak_bendera_dir = os.path.join(validation_dir, 'sisiak_bendera')\n",
        "validation_sisiak_gadang_dir = os.path.join(validation_dir, 'sisiak_gadang')\n",
        "validation_suduang_aluih_dir = os.path.join(validation_dir, 'suduang_aluih')\n",
        "validation_suduang_hitam_dir = os.path.join(validation_dir, 'suduang_hitam')\n",
        "validation_suduang_pinggang_dir = os.path.join(validation_dir, 'suduang_pinggang')\n",
        "validation_tali_aluih_dir = os.path.join(validation_dir, 'tali_aluih')\n",
        "validation_tali_bulek_dir = os.path.join(validation_dir, 'tali_bulek')\n",
        "validation_tali_merah_dir = os.path.join(validation_dir, 'tali_merah')"
      ]
    },
    {
      "cell_type": "code",
      "execution_count": 8,
      "metadata": {
        "id": "1h1jilVq31so"
      },
      "outputs": [],
      "source": [
        "#membuat objek untuk data training\n",
        "from tensorflow.keras.preprocessing.image import ImageDataGenerator\n",
        "\n",
        "train_datagen = ImageDataGenerator(\n",
        "                    rescale = 1./255,\n",
        "                    rotation_range = 20,\n",
        "                    horizontal_flip = True,\n",
        "                    shear_range = 0.2,\n",
        "                    fill_mode = 'nearest',\n",
        "                    validation_split = 0.2 #ukuran validation 20%\n",
        ")"
      ]
    },
    {
      "cell_type": "code",
      "execution_count": 9,
      "metadata": {
        "id": "IfpincMa31lA",
        "colab": {
          "base_uri": "https://localhost:8080/"
        },
        "outputId": "fc0813e9-1d2e-442b-a96b-ee07a03b297e"
      },
      "outputs": [
        {
          "output_type": "stream",
          "name": "stdout",
          "text": [
            "Found 2400 images belonging to 30 classes.\n",
            "Found 600 images belonging to 30 classes.\n"
          ]
        }
      ],
      "source": [
        "#mempersiapkan data latih yang akan dipelajari model\n",
        "train_generator = train_datagen.flow_from_directory(\n",
        "        base_dir,\n",
        "        target_size = (150, 100),\n",
        "        batch_size = 32,\n",
        "        subset = 'training',\n",
        "        class_mode = 'categorical'\n",
        "        #shuffle = True\n",
        ")\n",
        "\n",
        "validation_generator = train_datagen.flow_from_directory(\n",
        "        base_dir,\n",
        "        target_size = (150, 100),\n",
        "        batch_size = 32,\n",
        "        subset = 'validation',\n",
        "        class_mode = 'categorical'\n",
        "        #shuffle = True\n",
        ")"
      ]
    },
    {
      "cell_type": "code",
      "execution_count": 10,
      "metadata": {
        "id": "T98S5G-E31dH"
      },
      "outputs": [],
      "source": [
        "#membangun model sequential\n",
        "from tensorflow.keras.optimizers import  RMSprop\n",
        "from tensorflow.keras.models import  Sequential\n",
        "from tensorflow.keras.optimizers import Adam\n",
        "from tensorflow.keras.layers import Flatten, Conv2D, MaxPooling2D, Dense, Dropout\n",
        "\n",
        "model = tf.keras.models.Sequential([\n",
        "    tf.keras.layers.Conv2D(32, (3,3), activation='relu', input_shape=(150, 100, 3)),\n",
        "    tf.keras.layers.MaxPool2D(2, 2),\n",
        "    tf.keras.layers.Conv2D(64, (3,3), activation='relu'),\n",
        "    tf.keras.layers.MaxPool2D(2, 2),\n",
        "    tf.keras.layers.Conv2D(128, (3,3), activation='relu'),\n",
        "    tf.keras.layers.MaxPool2D(2, 2),\n",
        "    tf.keras.layers.Conv2D(128, (3,3), activation='relu'),\n",
        "    tf.keras.layers.MaxPool2D(2, 2),\n",
        "\n",
        "    tf.keras.layers.Dropout(0.5),\n",
        "    tf.keras.layers.Flatten(),\n",
        "    tf.keras.layers.Dense(512, activation='relu'),\n",
        "    tf.keras.layers.Dense(30, activation='softmax')\n",
        "])  "
      ]
    },
    {
      "cell_type": "code",
      "execution_count": 11,
      "metadata": {
        "id": "4NWc1cqF4S-S"
      },
      "outputs": [],
      "source": [
        "# compile model dengan 'adam' optimizer loss function 'categorical_crossentropy'\n",
        "\n",
        "model.compile(\n",
        "         loss ='categorical_crossentropy',\n",
        "         optimizer = tf.optimizers.Adam(),\n",
        "         metrics = ['accuracy']\n",
        ")"
      ]
    },
    {
      "cell_type": "code",
      "execution_count": 12,
      "metadata": {
        "id": "NEeh0GnY4S6u",
        "colab": {
          "base_uri": "https://localhost:8080/"
        },
        "outputId": "38b82faf-ada6-40bd-92d3-25adcf8227db"
      },
      "outputs": [
        {
          "output_type": "stream",
          "name": "stdout",
          "text": [
            "Model: \"sequential\"\n",
            "_________________________________________________________________\n",
            " Layer (type)                Output Shape              Param #   \n",
            "=================================================================\n",
            " conv2d (Conv2D)             (None, 148, 98, 32)       896       \n",
            "                                                                 \n",
            " max_pooling2d (MaxPooling2D  (None, 74, 49, 32)       0         \n",
            " )                                                               \n",
            "                                                                 \n",
            " conv2d_1 (Conv2D)           (None, 72, 47, 64)        18496     \n",
            "                                                                 \n",
            " max_pooling2d_1 (MaxPooling  (None, 36, 23, 64)       0         \n",
            " 2D)                                                             \n",
            "                                                                 \n",
            " conv2d_2 (Conv2D)           (None, 34, 21, 128)       73856     \n",
            "                                                                 \n",
            " max_pooling2d_2 (MaxPooling  (None, 17, 10, 128)      0         \n",
            " 2D)                                                             \n",
            "                                                                 \n",
            " conv2d_3 (Conv2D)           (None, 15, 8, 128)        147584    \n",
            "                                                                 \n",
            " max_pooling2d_3 (MaxPooling  (None, 7, 4, 128)        0         \n",
            " 2D)                                                             \n",
            "                                                                 \n",
            " dropout (Dropout)           (None, 7, 4, 128)         0         \n",
            "                                                                 \n",
            " flatten (Flatten)           (None, 3584)              0         \n",
            "                                                                 \n",
            " dense (Dense)               (None, 512)               1835520   \n",
            "                                                                 \n",
            " dense_1 (Dense)             (None, 30)                15390     \n",
            "                                                                 \n",
            "=================================================================\n",
            "Total params: 2,091,742\n",
            "Trainable params: 2,091,742\n",
            "Non-trainable params: 0\n",
            "_________________________________________________________________\n"
          ]
        }
      ],
      "source": [
        "#ringkasan model\n",
        "model.summary()"
      ]
    },
    {
      "cell_type": "code",
      "execution_count": 13,
      "metadata": {
        "id": "WwuK2-st4S3P"
      },
      "outputs": [],
      "source": [
        "#callback untuk stop traing jika akurasi telah dicapai\n",
        "class Callback(tf.keras.callbacks.Callback):\n",
        "  def on_epoch_end(self, epoch, logs = None):\n",
        "    if(logs.get('accuracy') > 0.90 and logs.get('val_accuracy') > 0.90):\n",
        "      print('\\nIn Epoch', epoch, '\\nAccuracy has reach = %2.2f%%' %(logs['accuracy']*100), 'Training stop.')\n",
        "      print('\\nIn Epoch', epoch, '\\nVal Accuracy has reach = %2.2f%%' %(logs['val_accuracy']*100), 'Training stop.')\n",
        "      self.model.stop_training = True\n",
        "callbacks = Callback()"
      ]
    },
    {
      "cell_type": "code",
      "execution_count": 14,
      "metadata": {
        "id": "Z4eCst0o4Sz_",
        "colab": {
          "base_uri": "https://localhost:8080/"
        },
        "outputId": "62429c45-1813-46cf-fa19-49fa75214746"
      },
      "outputs": [
        {
          "output_type": "stream",
          "name": "stdout",
          "text": [
            "Epoch 1/100\n",
            "10/10 - 15s - loss: 3.4245 - accuracy: 0.0344 - val_loss: 3.4009 - val_accuracy: 0.0234 - 15s/epoch - 1s/step\n",
            "Epoch 2/100\n",
            "10/10 - 13s - loss: 3.3980 - accuracy: 0.0437 - val_loss: 3.3938 - val_accuracy: 0.0469 - 13s/epoch - 1s/step\n",
            "Epoch 3/100\n",
            "10/10 - 13s - loss: 3.4084 - accuracy: 0.0406 - val_loss: 3.4031 - val_accuracy: 0.0469 - 13s/epoch - 1s/step\n",
            "Epoch 4/100\n",
            "10/10 - 13s - loss: 3.3955 - accuracy: 0.0562 - val_loss: 3.4016 - val_accuracy: 0.0234 - 13s/epoch - 1s/step\n",
            "Epoch 5/100\n",
            "10/10 - 14s - loss: 3.4049 - accuracy: 0.0344 - val_loss: 3.3961 - val_accuracy: 0.0312 - 14s/epoch - 1s/step\n",
            "Epoch 6/100\n",
            "10/10 - 14s - loss: 3.4002 - accuracy: 0.0312 - val_loss: 3.4032 - val_accuracy: 0.0391 - 14s/epoch - 1s/step\n",
            "Epoch 7/100\n",
            "10/10 - 15s - loss: 3.4028 - accuracy: 0.0219 - val_loss: 3.4046 - val_accuracy: 0.0156 - 15s/epoch - 2s/step\n",
            "Epoch 8/100\n",
            "10/10 - 13s - loss: 3.4014 - accuracy: 0.0188 - val_loss: 3.4046 - val_accuracy: 0.0312 - 13s/epoch - 1s/step\n",
            "Epoch 9/100\n",
            "10/10 - 13s - loss: 3.3988 - accuracy: 0.0344 - val_loss: 3.4028 - val_accuracy: 0.0547 - 13s/epoch - 1s/step\n",
            "Epoch 10/100\n",
            "10/10 - 13s - loss: 3.4010 - accuracy: 0.0469 - val_loss: 3.3961 - val_accuracy: 0.0469 - 13s/epoch - 1s/step\n",
            "Epoch 11/100\n",
            "10/10 - 13s - loss: 3.3733 - accuracy: 0.0281 - val_loss: 3.3769 - val_accuracy: 0.0547 - 13s/epoch - 1s/step\n",
            "Epoch 12/100\n",
            "10/10 - 13s - loss: 3.3248 - accuracy: 0.0500 - val_loss: 3.2503 - val_accuracy: 0.0859 - 13s/epoch - 1s/step\n",
            "Epoch 13/100\n",
            "10/10 - 13s - loss: 3.0804 - accuracy: 0.1562 - val_loss: 2.7424 - val_accuracy: 0.2734 - 13s/epoch - 1s/step\n",
            "Epoch 14/100\n",
            "10/10 - 14s - loss: 2.6697 - accuracy: 0.2188 - val_loss: 2.4995 - val_accuracy: 0.3672 - 14s/epoch - 1s/step\n",
            "Epoch 15/100\n",
            "10/10 - 13s - loss: 2.2606 - accuracy: 0.3531 - val_loss: 2.0729 - val_accuracy: 0.3516 - 13s/epoch - 1s/step\n",
            "Epoch 16/100\n",
            "10/10 - 13s - loss: 1.5941 - accuracy: 0.5125 - val_loss: 1.2817 - val_accuracy: 0.5625 - 13s/epoch - 1s/step\n",
            "Epoch 17/100\n",
            "10/10 - 13s - loss: 1.2087 - accuracy: 0.6250 - val_loss: 1.0864 - val_accuracy: 0.6406 - 13s/epoch - 1s/step\n",
            "Epoch 18/100\n",
            "10/10 - 13s - loss: 1.0184 - accuracy: 0.6531 - val_loss: 0.8582 - val_accuracy: 0.7266 - 13s/epoch - 1s/step\n",
            "Epoch 19/100\n",
            "10/10 - 13s - loss: 1.0012 - accuracy: 0.7031 - val_loss: 0.6008 - val_accuracy: 0.7578 - 13s/epoch - 1s/step\n",
            "Epoch 20/100\n",
            "10/10 - 13s - loss: 0.6540 - accuracy: 0.7937 - val_loss: 0.5561 - val_accuracy: 0.8281 - 13s/epoch - 1s/step\n",
            "Epoch 21/100\n",
            "10/10 - 13s - loss: 0.3715 - accuracy: 0.8813 - val_loss: 0.3011 - val_accuracy: 0.9062 - 13s/epoch - 1s/step\n",
            "Epoch 22/100\n",
            "10/10 - 13s - loss: 0.3107 - accuracy: 0.8938 - val_loss: 0.2126 - val_accuracy: 0.9375 - 13s/epoch - 1s/step\n",
            "Epoch 23/100\n",
            "\n",
            "In Epoch 22 \n",
            "Accuracy has reach = 91.87% Training stop.\n",
            "\n",
            "In Epoch 22 \n",
            "Val Accuracy has reach = 91.41% Training stop.\n",
            "10/10 - 15s - loss: 0.2951 - accuracy: 0.9187 - val_loss: 0.2520 - val_accuracy: 0.9141 - 15s/epoch - 2s/step\n"
          ]
        }
      ],
      "source": [
        "#latih model dengan model.fit\n",
        "history = model.fit(\n",
        "      train_generator,\n",
        "      steps_per_epoch=10,\n",
        "      epochs=100,\n",
        "      validation_data=validation_generator,\n",
        "      validation_steps=4,\n",
        "      #shuffle = True,\n",
        "      verbose=2,\n",
        "      callbacks = [Callback()]\n",
        ")"
      ]
    },
    {
      "cell_type": "code",
      "execution_count": 15,
      "metadata": {
        "id": "5F37vmN94hut",
        "colab": {
          "base_uri": "https://localhost:8080/",
          "height": 295
        },
        "outputId": "3ff763ff-c225-4a2a-c271-5b2527d1cf1f"
      },
      "outputs": [
        {
          "output_type": "display_data",
          "data": {
            "text/plain": [
              "<Figure size 432x288 with 1 Axes>"
            ],
            "image/png": "[encoded data removed]"
          },
          "metadata": {
            "needs_background": "light"
          }
        }
      ],
      "source": [
        "#plot akurasi\n",
        "import matplotlib.pyplot as plt\n",
        "plt.plot(history.history['accuracy'])\n",
        "plt.plot(history.history['val_accuracy'])\n",
        "plt.title('Akurasi Model')\n",
        "plt.ylabel('accuracy')\n",
        "plt.xlabel('epoch')\n",
        "plt.legend(['train', 'test'], loc='upper left')\n",
        "plt.show()"
      ]
    },
    {
      "cell_type": "code",
      "execution_count": 16,
      "metadata": {
        "id": "MhhQerCd4i-C",
        "colab": {
          "base_uri": "https://localhost:8080/",
          "height": 295
        },
        "outputId": "4ae34552-9c80-4406-ac3a-8b61c927dd20"
      },
      "outputs": [
        {
          "output_type": "display_data",
          "data": {
            "text/plain": [
              "<Figure size 432x288 with 1 Axes>"
            ],
            "image/png": "[encoded data removed]"
          },
          "metadata": {
            "needs_background": "light"
          }
        }
      ],
      "source": [
        "#plot loss\n",
        "plt.plot(history.history['loss'])\n",
        "plt.plot(history.history['val_loss'])\n",
        "plt.title('Loss Model')\n",
        "plt.ylabel('loss')\n",
        "plt.xlabel('epoch')\n",
        "plt.legend(['train', 'test'], loc='upper left')\n",
        "plt.show()"
      ]
    },
    {
      "cell_type": "code",
      "execution_count": 57,
      "metadata": {
        "id": "r_kDJonw4i2w",
        "colab": {
          "base_uri": "https://localhost:8080/",
          "height": 382
        },
        "outputId": "c7889ab1-fd70-4e1d-e8d5-94ce41ab108e"
      },
      "outputs": [
        {
          "output_type": "display_data",
          "data": {
            "text/plain": [
              "<IPython.core.display.HTML object>"
            ],
            "text/html": [
              "\n",
              "     <input type=\"file\" id=\"files-3d78aee6-566b-48d5-885e-4f24a32c3248\" name=\"files[]\" multiple disabled\n",
              "        style=\"border:none\" />\n",
              "     <output id=\"result-3d78aee6-566b-48d5-885e-4f24a32c3248\">\n",
              "      Upload widget is only available when the cell has been executed in the\n",
              "      current browser session. Please rerun this cell to enable.\n",
              "      </output>\n",
              "      <script>// Copyright 2017 Google LLC\n",
              "//\n",
              "// Licensed under the Apache License, Version 2.0 (the \"License\");\n",
              "// you may not use this file except in compliance with the License.\n",
              "// You may obtain a copy of the License at\n",
              "//\n",
              "//      http://www.apache.org/licenses/LICENSE-2.0\n",
              "//\n",
              "// Unless required by applicable law or agreed to in writing, software\n",
              "// distributed under the License is distributed on an \"AS IS\" BASIS,\n",
              "// WITHOUT WARRANTIES OR CONDITIONS OF ANY KIND, either express or implied.\n",
              "// See the License for the specific language governing permissions and\n",
              "// limitations under the License.\n",
              "\n",
              "/**\n",
              " * @fileoverview Helpers for google.colab Python module.\n",
              " */\n",
              "(function(scope) {\n",
              "function span(text, styleAttributes = {}) {\n",
              "  const element = document.createElement('span');\n",
              "  element.textContent = text;\n",
              "  for (const key of Object.keys(styleAttributes)) {\n",
              "    element.style[key] = styleAttributes[key];\n",
              "  }\n",
              "  return element;\n",
              "}\n",
              "\n",
              "// Max number of bytes which will be uploaded at a time.\n",
              "const MAX_PAYLOAD_SIZE = 100 * 1024;\n",
              "\n",
              "function _uploadFiles(inputId, outputId) {\n",
              "  const steps = uploadFilesStep(inputId, outputId);\n",
              "  const outputElement = document.getElementById(outputId);\n",
              "  // Cache steps on the outputElement to make it available for the next call\n",
              "  // to uploadFilesContinue from Python.\n",
              "  outputElement.steps = steps;\n",
              "\n",
              "  return _uploadFilesContinue(outputId);\n",
              "}\n",
              "\n",
              "// This is roughly an async generator (not supported in the browser yet),\n",
              "// where there are multiple asynchronous steps and the Python side is going\n",
              "// to poll for completion of each step.\n",
              "// This uses a Promise to block the python side on completion of each step,\n",
              "// then passes the result of the previous step as the input to the next step.\n",
              "function _uploadFilesContinue(outputId) {\n",
              "  const outputElement = document.getElementById(outputId);\n",
              "  const steps = outputElement.steps;\n",
              "\n",
              "  const next = steps.next(outputElement.lastPromiseValue);\n",
              "  return Promise.resolve(next.value.promise).then((value) => {\n",
              "    // Cache the last promise value to make it available to the next\n",
              "    // step of the generator.\n",
              "    outputElement.lastPromiseValue = value;\n",
              "    return next.value.response;\n",
              "  });\n",
              "}\n",
              "\n",
              "/**\n",
              " * Generator function which is called between each async step of the upload\n",
              " * process.\n",
              " * @param {string} inputId Element ID of the input file picker element.\n",
              " * @param {string} outputId Element ID of the output display.\n",
              " * @return {!Iterable<!Object>} Iterable of next steps.\n",
              " */\n",
              "function* uploadFilesStep(inputId, outputId) {\n",
              "  const inputElement = document.getElementById(inputId);\n",
              "  inputElement.disabled = false;\n",
              "\n",
              "  const outputElement = document.getElementById(outputId);\n",
              "  outputElement.innerHTML = '';\n",
              "\n",
              "  const pickedPromise = new Promise((resolve) => {\n",
              "    inputElement.addEventListener('change', (e) => {\n",
              "      resolve(e.target.files);\n",
              "    });\n",
              "  });\n",
              "\n",
              "  const cancel = document.createElement('button');\n",
              "  inputElement.parentElement.appendChild(cancel);\n",
              "  cancel.textContent = 'Cancel upload';\n",
              "  const cancelPromise = new Promise((resolve) => {\n",
              "    cancel.onclick = () => {\n",
              "      resolve(null);\n",
              "    };\n",
              "  });\n",
              "\n",
              "  // Wait for the user to pick the files.\n",
              "  const files = yield {\n",
              "    promise: Promise.race([pickedPromise, cancelPromise]),\n",
              "    response: {\n",
              "      action: 'starting',\n",
              "    }\n",
              "  };\n",
              "\n",
              "  cancel.remove();\n",
              "\n",
              "  // Disable the input element since further picks are not allowed.\n",
              "  inputElement.disabled = true;\n",
              "\n",
              "  if (!files) {\n",
              "    return {\n",
              "      response: {\n",
              "        action: 'complete',\n",
              "      }\n",
              "    };\n",
              "  }\n",
              "\n",
              "  for (const file of files) {\n",
              "    const li = document.createElement('li');\n",
              "    li.append(span(file.name, {fontWeight: 'bold'}));\n",
              "    li.append(span(\n",
              "        `(${file.type || 'n/a'}) - ${file.size} bytes, ` +\n",
              "        `last modified: ${\n",
              "            file.lastModifiedDate ? file.lastModifiedDate.toLocaleDateString() :\n",
              "                                    'n/a'} - `));\n",
              "    const percent = span('0% done');\n",
              "    li.appendChild(percent);\n",
              "\n",
              "    outputElement.appendChild(li);\n",
              "\n",
              "    const fileDataPromise = new Promise((resolve) => {\n",
              "      const reader = new FileReader();\n",
              "      reader.onload = (e) => {\n",
              "        resolve(e.target.result);\n",
              "      };\n",
              "      reader.readAsArrayBuffer(file);\n",
              "    });\n",
              "    // Wait for the data to be ready.\n",
              "    let fileData = yield {\n",
              "      promise: fileDataPromise,\n",
              "      response: {\n",
              "        action: 'continue',\n",
              "      }\n",
              "    };\n",
              "\n",
              "    // Use a chunked sending to avoid message size limits. See b/62115660.\n",
              "    let position = 0;\n",
              "    do {\n",
              "      const length = Math.min(fileData.byteLength - position, MAX_PAYLOAD_SIZE);\n",
              "      const chunk = new Uint8Array(fileData, position, length);\n",
              "      position += length;\n",
              "\n",
              "      const base64 = btoa(String.fromCharCode.apply(null, chunk));\n",
              "      yield {\n",
              "        response: {\n",
              "          action: 'append',\n",
              "          file: file.name,\n",
              "          data: base64,\n",
              "        },\n",
              "      };\n",
              "\n",
              "      let percentDone = fileData.byteLength === 0 ?\n",
              "          100 :\n",
              "          Math.round((position / fileData.byteLength) * 100);\n",
              "      percent.textContent = `${percentDone}% done`;\n",
              "\n",
              "    } while (position < fileData.byteLength);\n",
              "  }\n",
              "\n",
              "  // All done.\n",
              "  yield {\n",
              "    response: {\n",
              "      action: 'complete',\n",
              "    }\n",
              "  };\n",
              "}\n",
              "\n",
              "scope.google = scope.google || {};\n",
              "scope.google.colab = scope.google.colab || {};\n",
              "scope.google.colab._files = {\n",
              "  _uploadFiles,\n",
              "  _uploadFilesContinue,\n",
              "};\n",
              "})(self);\n",
              "</script> "
            ]
          },
          "metadata": {}
        },
        {
          "output_type": "stream",
          "name": "stdout",
          "text": [
            "Saving hiu_pinci (38).jpg to hiu_pinci (38).jpg\n",
            "1/1 [==============================] - 0s 27ms/step\n",
            "hiu_pinci (38).jpg\n",
            "hiu_pinci\n"
          ]
        },
        {
          "output_type": "display_data",
          "data": {
            "text/plain": [
              "<Figure size 432x288 with 1 Axes>"
            ],
            "image/png": "[encoded data removed]"
          },
          "metadata": {
            "needs_background": "light"
          }
        }
      ],
      "source": [
        "#Output prediksi dari model \n",
        "\n",
        "import tensorflow.keras\n",
        "import numpy as np\n",
        "from google.colab import files\n",
        "from tensorflow.keras.preprocessing import image\n",
        "import matplotlib.pyplot as plt\n",
        "import matplotlib.image as mpimg\n",
        "%matplotlib inline\n",
        "\n",
        "uploaded = files.upload()\n",
        " \n",
        "for fn in uploaded.keys():\n",
        "  #memprediksi\n",
        "  path = fn\n",
        "  gambar = image.load_img(path, target_size=(150,100))\n",
        "  imgplot = plt.imshow(gambar)\n",
        "  x = image.img_to_array(gambar)\n",
        "  x = np.expand_dims(x, axis=0)\n",
        " \n",
        "  images = np.vstack([x])\n",
        "  classes = model.predict(images, batch_size=16)\n",
        "\n",
        "  print(fn)\n",
        "  if classes[0, 0] == 1:\n",
        "    print(\"babi_aluih\")\n",
        "  elif classes[0, 1] == 1:\n",
        "    print(\"babai_gadang\")\n",
        "  elif classes[0, 2] == 1:\n",
        "    print(\"babi_pusek\")\n",
        "  elif classes[0, 3] == 1:\n",
        "    print(\"batuang_aluih\")\n",
        "  elif classes[0, 4] == 1:\n",
        "    print(\"batuang_anam\")\n",
        "  elif classes[0, 5] == 1:\n",
        "    print(\"batuang_manih\")\n",
        "  elif classes[0, 6] == 1:\n",
        "    print(\"bengkok_aluih\")\n",
        "  elif classes[0, 7] == 1:\n",
        "    print(\"bengkok_gadang\")\n",
        "  elif classes[0, 8] == 1:\n",
        "    print(\"bengkok_hitam\")\n",
        "  elif classes[0, 9] == 1:\n",
        "    print(\"hiu_babak\")\n",
        "  elif classes[0, 10] == 1:\n",
        "    print(\"hiu_bungo\")\n",
        "  elif classes[0, 11] == 1:\n",
        "    print(\"hiu_gadang\")\n",
        "  elif classes[0, 12] == 1:\n",
        "    print(\"hiu_hitam\")\n",
        "  elif classes[0, 13] == 1:\n",
        "    print(\"hiu_kuciang\")\n",
        "  elif classes[0, 14] == 1:\n",
        "    print(\"hiu_pinci\")\n",
        "  elif classes[0, 15] == 1:\n",
        "    print(\"jarum_aluih\")\n",
        "  elif classes[0, 16] == 1:\n",
        "    print(\"jarum_gadang\")\n",
        "  elif classes[0, 17] == 1:\n",
        "    print(\"jarum_hitam\")\n",
        "  elif classes[0, 18] == 1:\n",
        "    print(\"pacah_aluih\")\n",
        "  elif classes[0, 19] == 1:\n",
        "    print(\"pacah_delapan\")\n",
        "  elif classes[0, 20] == 1:\n",
        "    print(\"pacah_manih\")\n",
        "  elif classes[0, 21] == 1:\n",
        "    print(\"sisiak_aluih\")\n",
        "  elif classes[0, 22] == 1:\n",
        "    print(\"sisiak_bendera\")\n",
        "  elif classes[0, 23] == 1:\n",
        "    print(\"sisiak_gadang\")\n",
        "  elif classes[0, 24] == 1:\n",
        "    print(\"suduang_aluih\")\n",
        "  elif classes[0, 25] == 1:\n",
        "    print(\"suduang_hitam\")\n",
        "  elif classes[0, 26] == 1:\n",
        "    print(\"suduang_pinggang\")\n",
        "  elif classes[0, 27] == 1:\n",
        "    print(\"tali_aluih\")\n",
        "  elif classes[0, 28] == 1:\n",
        "    print(\"tali_bulek\")\n",
        "  elif classes[0, 29] == 1:\n",
        "    print(\"tali_merah\")\n",
        "  else:\n",
        "    print(\"no matching data\")"
      ]
    }
  ],
  "metadata": {
    "colab": {
      "collapsed_sections": [],
      "provenance": [],
      "authorship_tag": "ABX9TyML+8gJzXEwxdA67EGL1K2T",
      "include_colab_link": true
    },
    "kernelspec": {
      "display_name": "Python 3",
      "name": "python3"
    },
    "language_info": {
      "name": "python"
    }
  },
  "nbformat": 4,
  "nbformat_minor": 0
}