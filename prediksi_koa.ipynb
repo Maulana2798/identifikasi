{
  "cells": [
    {
      "cell_type": "markdown",
      "metadata": {
        "id": "view-in-github",
        "colab_type": "text"
      },
      "source": [
        "<a href=\"https://colab.research.google.com/github/Maulana2798/identifikasi/blob/main/prediksi_koa.ipynb\" target=\"_parent\"><img src=\"https://colab.research.google.com/assets/colab-badge.svg\" alt=\"Open In Colab\"/></a>"
      ]
    },
    {
      "cell_type": "code",
      "execution_count": 1,
      "metadata": {
        "colab": {
          "base_uri": "https://localhost:8080/"
        },
        "id": "fd6oB-6-4ZqT",
        "outputId": "8584f3a0-dae1-4171-88e7-6272843ac67f"
      },
      "outputs": [
        {
          "output_type": "stream",
          "name": "stdout",
          "text": [
            "2.9.2\n"
          ]
        }
      ],
      "source": [
        "#import library tensorflow\n",
        "import tensorflow as tf\n",
        "from tensorflow.keras.preprocessing.image import ImageDataGenerator\n",
        "\n",
        "#memasitikan versi tensorflow\n",
        "print(tf.__version__)"
      ]
    },
    {
      "cell_type": "code",
      "execution_count": 2,
      "metadata": {
        "colab": {
          "base_uri": "https://localhost:8080/"
        },
        "id": "LBN92ZJs4n0z",
        "outputId": "9e60e309-1438-4f05-8357-7f67b3af1857"
      },
      "outputs": [
        {
          "output_type": "stream",
          "name": "stdout",
          "text": [
            "Mounted at /content/drive\n"
          ]
        }
      ],
      "source": [
        "from google.colab import drive\n",
        "drive.mount('/content/drive')"
      ]
    },
    {
      "cell_type": "code",
      "execution_count": 3,
      "metadata": {
        "id": "uIOlI7w03Prp"
      },
      "outputs": [],
      "source": [
        "#melakukan extract file zip\n",
        "import zipfile,os\n",
        "local_zip = '/content/drive/MyDrive/Skripsi/Program/koa3.zip'\n",
        "base_dir = '/content/koa/koa-val-image'\n",
        "zip_ref = zipfile.ZipFile(local_zip, 'r')\n",
        "zip_ref.extractall('/content')\n",
        "zip_ref.close()\n"
      ]
    },
    {
      "cell_type": "code",
      "execution_count": 4,
      "metadata": {
        "id": "Dm7YZ3mW3syH"
      },
      "outputs": [],
      "source": [
        "#mendefinisikan nama direktori untuk data latih dan data validasi\n",
        "train_dir = os.path.join(base_dir, 'koa')\n",
        "validation_dir = os.path.join(base_dir, 'koa/koa-val-image')"
      ]
    },
    {
      "cell_type": "code",
      "execution_count": 5,
      "metadata": {
        "colab": {
          "base_uri": "https://localhost:8080/"
        },
        "id": "2ASkHV87316L",
        "outputId": "3a5bd32e-4424-4998-af1b-6e8b40316efa"
      },
      "outputs": [
        {
          "output_type": "execute_result",
          "data": {
            "text/plain": [
              "['jarum_hitam',\n",
              " 'sisiak_aluih',\n",
              " 'hiu_gadang',\n",
              " 'tali_aluih',\n",
              " 'sisiak_bendera',\n",
              " 'suduang_aluih',\n",
              " 'pacah_manih',\n",
              " 'bengkok_gadang',\n",
              " 'batuang_manih',\n",
              " 'hiu_kuciang',\n",
              " 'suduang_pinggang',\n",
              " 'hiu_pinci',\n",
              " 'babi_aluih',\n",
              " 'sisiak_gadang',\n",
              " 'babi_gadang',\n",
              " 'hiu_babak',\n",
              " 'hiu_bungo',\n",
              " 'tali_merah',\n",
              " 'bengkok_hitam',\n",
              " 'jarum_gadang',\n",
              " 'tali_bulek',\n",
              " 'jarum_aluih',\n",
              " 'bengkok_aluih',\n",
              " 'batuang_aluih',\n",
              " 'pacah_delapan',\n",
              " 'hiu_hitam',\n",
              " 'babi_pusek',\n",
              " 'pacah_aluih',\n",
              " 'suduang_hitam',\n",
              " 'koa-val-image',\n",
              " 'batuang_anam']"
            ]
          },
          "metadata": {},
          "execution_count": 5
        }
      ],
      "source": [
        "#cek direktori data train\n",
        "os.listdir('/content/koa')"
      ]
    },
    {
      "cell_type": "code",
      "execution_count": 6,
      "metadata": {
        "colab": {
          "base_uri": "https://localhost:8080/"
        },
        "id": "TluoRcZH312O",
        "outputId": "7a9cc580-dfb8-40a7-8fcd-d1a0968a430b"
      },
      "outputs": [
        {
          "output_type": "execute_result",
          "data": {
            "text/plain": [
              "['jarum_hitam',\n",
              " 'sisiak_aluih',\n",
              " 'hiu_gadang',\n",
              " 'tali_aluih',\n",
              " 'sisiak_bendera',\n",
              " 'suduang_aluih',\n",
              " 'pacah_manih',\n",
              " 'bengkok_gadang',\n",
              " 'batuang_manih',\n",
              " 'hiu_kuciang',\n",
              " 'suduang_pinggang',\n",
              " 'hiu_pinci',\n",
              " 'babi_aluih',\n",
              " 'sisiak_gadang',\n",
              " 'babi_gadang',\n",
              " 'hiu_babak',\n",
              " 'hiu_bungo',\n",
              " 'tali_merah',\n",
              " 'bengkok_hitam',\n",
              " 'jarum_gadang',\n",
              " 'tali_bulek',\n",
              " 'jarum_aluih',\n",
              " 'bengkok_aluih',\n",
              " 'batuang_aluih',\n",
              " 'pacah_delapan',\n",
              " 'hiu_hitam',\n",
              " 'babi_pusek',\n",
              " 'pacah_aluih',\n",
              " 'suduang_hitam',\n",
              " 'batuang_anam']"
            ]
          },
          "metadata": {},
          "execution_count": 6
        }
      ],
      "source": [
        "#cek direktori data valiadtion\n",
        "os.listdir('/content/koa/koa-val-image')"
      ]
    },
    {
      "cell_type": "code",
      "execution_count": 7,
      "metadata": {
        "id": "c00JwmNp31x1"
      },
      "outputs": [],
      "source": [
        "#membuat direktori rockpaperscissors pada data training\n",
        "train_babi_aluih_dir = os.path.join(train_dir, 'babi_aluih')\n",
        "train_babi_gadang_dir = os.path.join(train_dir, 'babi_gadang')\n",
        "train_babi_pusek_dir = os.path.join(train_dir, 'babi_pusek')\n",
        "train_batuang_aluih_dir = os.path.join(train_dir, 'batuang_aluih')\n",
        "train_batuang_anam_dir = os.path.join(train_dir, 'batuang_anam')\n",
        "train_batuang_manih_dir = os.path.join(train_dir, 'batuang_manih')\n",
        "train_bengkok_aluih_dir = os.path.join(train_dir, 'bengkok_aluih')\n",
        "train_bengkok_gadang_dir = os.path.join(train_dir, 'bengkok_gadang')\n",
        "train_bengkok_hitam_dir = os.path.join(train_dir, 'bengkok_hitam')\n",
        "train_hiu_babak_dir = os.path.join(train_dir, 'hiu_babak')\n",
        "train_hiu_bungo_dir = os.path.join(train_dir, 'hiu_bungo')\n",
        "train_hiu_gadang_dir = os.path.join(train_dir, 'hiu_gadang')\n",
        "train_hiu_hitam_dir = os.path.join(train_dir, 'hiu_hitam')\n",
        "train_hiu_kuciang_dir = os.path.join(train_dir, 'hiu_kuciang')\n",
        "train_hiu__pinci_dir = os.path.join(train_dir, 'hiu_pinci')\n",
        "train_jarum_aluih_dir = os.path.join(train_dir, 'jarum_aluih')\n",
        "train_jarum_gadang_dir = os.path.join(train_dir, 'jarum_gadang')\n",
        "train_jarum_hitam_dir = os.path.join(train_dir, 'jarum_hitam')\n",
        "train_pacah_aluih_dir = os.path.join(train_dir, 'pacah_aluih')\n",
        "train_pacah_delapan_dir = os.path.join(train_dir, 'pacah_delapan')\n",
        "train_pacah_manih_dir = os.path.join(train_dir, 'pacah_manih')\n",
        "train_sisiak_aluih_dir = os.path.join(train_dir, 'sisiak_aluih')\n",
        "train_sisiak_bendera_dir = os.path.join(train_dir, 'sisiak_bendera')\n",
        "train_sisiak_gadang_dir = os.path.join(train_dir, 'sisiak_gadang')\n",
        "train_suduang_aluih_dir = os.path.join(train_dir, 'suduang_aluih')\n",
        "train_suduang_hitam_dir = os.path.join(train_dir, 'suduang_hitam')\n",
        "train_suduang_pinggang_dir = os.path.join(train_dir, 'suduang_pinggang')\n",
        "train_tali_aluih_dir = os.path.join(train_dir, 'tali_aluih')\n",
        "train_tali_bulek_dir = os.path.join(train_dir, 'tali_bulek')\n",
        "train_tali_merah_dir = os.path.join(train_dir, 'tali_merah')\n",
        "\n",
        "#membuat direktori rockpaperscissor pada data c=validasi\n",
        "validation_babi_aluih_dir = os.path.join(validation_dir, 'babi_aluih')\n",
        "validation_babi_gadang_dir = os.path.join(validation_dir, 'babi_gadang')\n",
        "validation_babi_pusek_dir = os.path.join(validation_dir, 'babi_pusek')\n",
        "validation_batuang_aluih_dir = os.path.join(validation_dir, 'batuang_aluih')\n",
        "validation_batuang_anam_dir = os.path.join(validation_dir, 'batuang_anam')\n",
        "validation_batuang_manih_dir = os.path.join(validation_dir, 'batuang_manih')\n",
        "validation_bengkok_aluih_dir = os.path.join(validation_dir, 'bengkok_aluih')\n",
        "validation_bengkok_gadang_dir = os.path.join(validation_dir, 'bengkok_gadang')\n",
        "validation_bengkok_hitam_dir = os.path.join(validation_dir, 'bengkok_hitam')\n",
        "validation_hiu_babak_dir = os.path.join(validation_dir, 'hiu_babak')\n",
        "validation_hiu_bungo_dir = os.path.join(validation_dir, 'hiu_bungo')\n",
        "validation_hiu_gadang_dir = os.path.join(validation_dir, 'hiu_gadang')\n",
        "validation_hiu_hitam_dir = os.path.join(validation_dir, 'hiu_hitam')\n",
        "validation_hiu_kuciang_dir = os.path.join(validation_dir, 'hiu_kuciang')\n",
        "validation_hiu__pinci_dir = os.path.join(validation_dir, 'hiu_pinci')\n",
        "validation_jarum_aluih_dir = os.path.join(validation_dir, 'jarum_aluih')\n",
        "validation_jarum_gadang_dir = os.path.join(validation_dir, 'jarum_gadang')\n",
        "validation_jarum_hitam_dir = os.path.join(validation_dir, 'jarum_hitam')\n",
        "validation_pacah_aluih_dir = os.path.join(validation_dir, 'pacah_aluih')\n",
        "validation_pacah_delapan_dir = os.path.join(validation_dir, 'pacah_delapan')\n",
        "validation_pacah_manih_dir = os.path.join(validation_dir, 'pacah_manih')\n",
        "validation_sisiak_aluih_dir = os.path.join(validation_dir, 'sisiak_aluih')\n",
        "validation_sisiak_bendera_dir = os.path.join(validation_dir, 'sisiak_bendera')\n",
        "validation_sisiak_gadang_dir = os.path.join(validation_dir, 'sisiak_gadang')\n",
        "validation_suduang_aluih_dir = os.path.join(validation_dir, 'suduang_aluih')\n",
        "validation_suduang_hitam_dir = os.path.join(validation_dir, 'suduang_hitam')\n",
        "validation_suduang_pinggang_dir = os.path.join(validation_dir, 'suduang_pinggang')\n",
        "validation_tali_aluih_dir = os.path.join(validation_dir, 'tali_aluih')\n",
        "validation_tali_bulek_dir = os.path.join(validation_dir, 'tali_bulek')\n",
        "validation_tali_merah_dir = os.path.join(validation_dir, 'tali_merah')"
      ]
    },
    {
      "cell_type": "code",
      "execution_count": 8,
      "metadata": {
        "id": "1h1jilVq31so"
      },
      "outputs": [],
      "source": [
        "#membuat objek untuk data training\n",
        "from tensorflow.keras.preprocessing.image import ImageDataGenerator\n",
        "\n",
        "train_datagen = ImageDataGenerator(\n",
        "                    rescale = 1./255,\n",
        "                    rotation_range = 20,\n",
        "                    horizontal_flip = True,\n",
        "                    shear_range = 0.2,\n",
        "                    fill_mode = 'nearest',\n",
        "                    validation_split = 0.2 #ukuran validation 20%\n",
        ")"
      ]
    },
    {
      "cell_type": "code",
      "execution_count": 9,
      "metadata": {
        "colab": {
          "base_uri": "https://localhost:8080/"
        },
        "id": "IfpincMa31lA",
        "outputId": "46ebd15a-bf4c-4d45-d7e4-d73e9731bfe2"
      },
      "outputs": [
        {
          "output_type": "stream",
          "name": "stdout",
          "text": [
            "Found 4104 images belonging to 30 classes.\n",
            "Found 1026 images belonging to 30 classes.\n"
          ]
        }
      ],
      "source": [
        "#mempersiapkan data latih yang akan dipelajari model\n",
        "train_generator = train_datagen.flow_from_directory(\n",
        "        base_dir,\n",
        "        target_size = (200, 100),\n",
        "        batch_size = 16,\n",
        "        subset = 'training',\n",
        "        class_mode = 'categorical'\n",
        "        #shuffle = True\n",
        ")\n",
        "\n",
        "validation_generator = train_datagen.flow_from_directory(\n",
        "        base_dir,\n",
        "        target_size = (200, 100),\n",
        "        batch_size = 16,\n",
        "        subset = 'validation',\n",
        "        class_mode = 'categorical'\n",
        "        #shuffle = True\n",
        ")"
      ]
    },
    {
      "cell_type": "code",
      "execution_count": 10,
      "metadata": {
        "id": "T98S5G-E31dH"
      },
      "outputs": [],
      "source": [
        "#membangun model sequential\n",
        "from tensorflow.keras.optimizers import  RMSprop\n",
        "from tensorflow.keras.models import  Sequential\n",
        "from tensorflow.keras.optimizers import Adam\n",
        "from tensorflow.keras.layers import Flatten, Conv2D, MaxPooling2D, Dense, Dropout\n",
        "\n",
        "model = tf.keras.models.Sequential([\n",
        "    tf.keras.layers.Conv2D(32, (3,3), activation='relu', input_shape=(200, 100, 3)),\n",
        "    tf.keras.layers.MaxPool2D(2, 2),\n",
        "    tf.keras.layers.Conv2D(64, (3,3), activation='relu'),\n",
        "    tf.keras.layers.MaxPool2D(2, 2),\n",
        "    tf.keras.layers.Conv2D(128, (3,3), activation='relu'),\n",
        "    tf.keras.layers.MaxPool2D(2, 2),\n",
        "    tf.keras.layers.Conv2D(128, (3,3), activation='relu'),\n",
        "    tf.keras.layers.MaxPool2D(2, 2),\n",
        "\n",
        "    tf.keras.layers.Dropout(0.5),\n",
        "    tf.keras.layers.Flatten(),\n",
        "    tf.keras.layers.Dense(512, activation='relu'),\n",
        "    tf.keras.layers.Dense(30, activation='softmax')\n",
        "])  "
      ]
    },
    {
      "cell_type": "code",
      "execution_count": 11,
      "metadata": {
        "id": "4NWc1cqF4S-S"
      },
      "outputs": [],
      "source": [
        "# compile model dengan 'adam' optimizer loss function 'categorical_crossentropy'\n",
        "\n",
        "model.compile(\n",
        "         loss ='categorical_crossentropy',\n",
        "         optimizer = tf.optimizers.Adam(),\n",
        "         metrics = ['accuracy']\n",
        ")"
      ]
    },
    {
      "cell_type": "code",
      "execution_count": 12,
      "metadata": {
        "colab": {
          "base_uri": "https://localhost:8080/"
        },
        "id": "NEeh0GnY4S6u",
        "outputId": "19b78867-7a06-467d-9b79-5705ab15c03c"
      },
      "outputs": [
        {
          "output_type": "stream",
          "name": "stdout",
          "text": [
            "Model: \"sequential\"\n",
            "_________________________________________________________________\n",
            " Layer (type)                Output Shape              Param #   \n",
            "=================================================================\n",
            " conv2d (Conv2D)             (None, 198, 98, 32)       896       \n",
            "                                                                 \n",
            " max_pooling2d (MaxPooling2D  (None, 99, 49, 32)       0         \n",
            " )                                                               \n",
            "                                                                 \n",
            " conv2d_1 (Conv2D)           (None, 97, 47, 64)        18496     \n",
            "                                                                 \n",
            " max_pooling2d_1 (MaxPooling  (None, 48, 23, 64)       0         \n",
            " 2D)                                                             \n",
            "                                                                 \n",
            " conv2d_2 (Conv2D)           (None, 46, 21, 128)       73856     \n",
            "                                                                 \n",
            " max_pooling2d_2 (MaxPooling  (None, 23, 10, 128)      0         \n",
            " 2D)                                                             \n",
            "                                                                 \n",
            " conv2d_3 (Conv2D)           (None, 21, 8, 128)        147584    \n",
            "                                                                 \n",
            " max_pooling2d_3 (MaxPooling  (None, 10, 4, 128)       0         \n",
            " 2D)                                                             \n",
            "                                                                 \n",
            " dropout (Dropout)           (None, 10, 4, 128)        0         \n",
            "                                                                 \n",
            " flatten (Flatten)           (None, 5120)              0         \n",
            "                                                                 \n",
            " dense (Dense)               (None, 512)               2621952   \n",
            "                                                                 \n",
            " dense_1 (Dense)             (None, 30)                15390     \n",
            "                                                                 \n",
            "=================================================================\n",
            "Total params: 2,878,174\n",
            "Trainable params: 2,878,174\n",
            "Non-trainable params: 0\n",
            "_________________________________________________________________\n"
          ]
        }
      ],
      "source": [
        "#ringkasan model\n",
        "model.summary()"
      ]
    },
    {
      "cell_type": "code",
      "execution_count": 13,
      "metadata": {
        "id": "WwuK2-st4S3P"
      },
      "outputs": [],
      "source": [
        "#callback untuk stop traing jika akurasi telah dicapai\n",
        "class Callback(tf.keras.callbacks.Callback):\n",
        "  def on_epoch_end(self, epoch, logs = None):\n",
        "    if(logs.get('accuracy') >= 0.90 and logs.get('val_accuracy') >= 0.90):\n",
        "      print('\\nIn Epoch', epoch, '\\nAccuracy has reach = %2.2f%%' %(logs['accuracy']*100), 'Training stop.')\n",
        "      print('\\nIn Epoch', epoch, '\\nVal Accuracy has reach = %2.2f%%' %(logs['val_accuracy']*100), 'Training stop.')\n",
        "      self.model.stop_training = True\n",
        "callbacks = Callback()"
      ]
    },
    {
      "cell_type": "code",
      "execution_count": 14,
      "metadata": {
        "colab": {
          "base_uri": "https://localhost:8080/"
        },
        "id": "Z4eCst0o4Sz_",
        "outputId": "bf94c285-aec5-4aef-9c49-3ba35315f59b"
      },
      "outputs": [
        {
          "output_type": "stream",
          "name": "stdout",
          "text": [
            "Epoch 1/300\n",
            "10/10 - 10s - loss: 3.4469 - accuracy: 0.0250 - val_loss: 3.4078 - val_accuracy: 0.0000e+00 - 10s/epoch - 1s/step\n",
            "Epoch 2/300\n",
            "10/10 - 8s - loss: 3.4056 - accuracy: 0.0625 - val_loss: 3.4031 - val_accuracy: 0.0312 - 8s/epoch - 837ms/step\n",
            "Epoch 3/300\n",
            "10/10 - 8s - loss: 3.4041 - accuracy: 0.0312 - val_loss: 3.3970 - val_accuracy: 0.0781 - 8s/epoch - 842ms/step\n",
            "Epoch 4/300\n",
            "10/10 - 8s - loss: 3.4028 - accuracy: 0.0188 - val_loss: 3.4020 - val_accuracy: 0.0156 - 8s/epoch - 843ms/step\n",
            "Epoch 5/300\n",
            "10/10 - 8s - loss: 3.4018 - accuracy: 0.0197 - val_loss: 3.4014 - val_accuracy: 0.0000e+00 - 8s/epoch - 803ms/step\n",
            "Epoch 6/300\n",
            "10/10 - 8s - loss: 3.4005 - accuracy: 0.0437 - val_loss: 3.4007 - val_accuracy: 0.0156 - 8s/epoch - 838ms/step\n",
            "Epoch 7/300\n",
            "10/10 - 8s - loss: 3.3925 - accuracy: 0.0625 - val_loss: 3.4058 - val_accuracy: 0.0469 - 8s/epoch - 839ms/step\n",
            "Epoch 8/300\n",
            "10/10 - 10s - loss: 3.3831 - accuracy: 0.0312 - val_loss: 3.3944 - val_accuracy: 0.0156 - 10s/epoch - 985ms/step\n",
            "Epoch 9/300\n",
            "10/10 - 9s - loss: 3.3766 - accuracy: 0.0625 - val_loss: 3.3022 - val_accuracy: 0.0469 - 9s/epoch - 863ms/step\n",
            "Epoch 10/300\n",
            "10/10 - 8s - loss: 3.3612 - accuracy: 0.0562 - val_loss: 3.0203 - val_accuracy: 0.0938 - 8s/epoch - 840ms/step\n",
            "Epoch 11/300\n",
            "10/10 - 8s - loss: 3.3273 - accuracy: 0.0437 - val_loss: 3.0764 - val_accuracy: 0.0781 - 8s/epoch - 837ms/step\n",
            "Epoch 12/300\n",
            "10/10 - 8s - loss: 3.0941 - accuracy: 0.1125 - val_loss: 3.2091 - val_accuracy: 0.0469 - 8s/epoch - 834ms/step\n",
            "Epoch 13/300\n",
            "10/10 - 8s - loss: 3.0589 - accuracy: 0.0938 - val_loss: 3.1757 - val_accuracy: 0.0781 - 8s/epoch - 843ms/step\n",
            "Epoch 14/300\n",
            "10/10 - 8s - loss: 2.9758 - accuracy: 0.1500 - val_loss: 3.1350 - val_accuracy: 0.1094 - 8s/epoch - 843ms/step\n",
            "Epoch 15/300\n",
            "10/10 - 8s - loss: 2.9866 - accuracy: 0.1813 - val_loss: 3.1520 - val_accuracy: 0.1250 - 8s/epoch - 840ms/step\n",
            "Epoch 16/300\n",
            "10/10 - 8s - loss: 2.9825 - accuracy: 0.1312 - val_loss: 3.0316 - val_accuracy: 0.1406 - 8s/epoch - 834ms/step\n",
            "Epoch 17/300\n",
            "10/10 - 8s - loss: 2.8809 - accuracy: 0.1688 - val_loss: 3.1867 - val_accuracy: 0.1562 - 8s/epoch - 848ms/step\n",
            "Epoch 18/300\n",
            "10/10 - 8s - loss: 2.9191 - accuracy: 0.1750 - val_loss: 3.0806 - val_accuracy: 0.1875 - 8s/epoch - 838ms/step\n",
            "Epoch 19/300\n",
            "10/10 - 8s - loss: 2.9613 - accuracy: 0.1688 - val_loss: 3.3315 - val_accuracy: 0.1719 - 8s/epoch - 840ms/step\n",
            "Epoch 20/300\n",
            "10/10 - 8s - loss: 2.7558 - accuracy: 0.2250 - val_loss: 2.6862 - val_accuracy: 0.2031 - 8s/epoch - 833ms/step\n",
            "Epoch 21/300\n",
            "10/10 - 8s - loss: 2.4698 - accuracy: 0.2688 - val_loss: 2.7483 - val_accuracy: 0.2500 - 8s/epoch - 838ms/step\n",
            "Epoch 22/300\n",
            "10/10 - 8s - loss: 2.4027 - accuracy: 0.2812 - val_loss: 2.2394 - val_accuracy: 0.4219 - 8s/epoch - 843ms/step\n",
            "Epoch 23/300\n",
            "10/10 - 8s - loss: 2.0928 - accuracy: 0.4125 - val_loss: 2.2606 - val_accuracy: 0.3750 - 8s/epoch - 839ms/step\n",
            "Epoch 24/300\n",
            "10/10 - 9s - loss: 1.8675 - accuracy: 0.4187 - val_loss: 1.7107 - val_accuracy: 0.4531 - 9s/epoch - 920ms/step\n",
            "Epoch 25/300\n",
            "10/10 - 9s - loss: 1.7676 - accuracy: 0.4437 - val_loss: 1.7832 - val_accuracy: 0.4688 - 9s/epoch - 879ms/step\n",
            "Epoch 26/300\n",
            "10/10 - 8s - loss: 1.6676 - accuracy: 0.4750 - val_loss: 1.2679 - val_accuracy: 0.6250 - 8s/epoch - 836ms/step\n",
            "Epoch 27/300\n",
            "10/10 - 8s - loss: 1.3110 - accuracy: 0.5813 - val_loss: 1.5166 - val_accuracy: 0.4688 - 8s/epoch - 837ms/step\n",
            "Epoch 28/300\n",
            "10/10 - 8s - loss: 1.3589 - accuracy: 0.5658 - val_loss: 1.5295 - val_accuracy: 0.4531 - 8s/epoch - 800ms/step\n",
            "Epoch 29/300\n",
            "10/10 - 8s - loss: 1.2964 - accuracy: 0.5875 - val_loss: 1.0102 - val_accuracy: 0.7500 - 8s/epoch - 836ms/step\n",
            "Epoch 30/300\n",
            "10/10 - 8s - loss: 1.0434 - accuracy: 0.6500 - val_loss: 1.0915 - val_accuracy: 0.7031 - 8s/epoch - 832ms/step\n",
            "Epoch 31/300\n",
            "10/10 - 8s - loss: 1.1369 - accuracy: 0.6500 - val_loss: 1.3020 - val_accuracy: 0.6094 - 8s/epoch - 836ms/step\n",
            "Epoch 32/300\n",
            "10/10 - 8s - loss: 0.9434 - accuracy: 0.7188 - val_loss: 0.9407 - val_accuracy: 0.6719 - 8s/epoch - 840ms/step\n",
            "Epoch 33/300\n",
            "10/10 - 8s - loss: 0.7258 - accuracy: 0.7750 - val_loss: 0.7655 - val_accuracy: 0.7500 - 8s/epoch - 829ms/step\n",
            "Epoch 34/300\n",
            "10/10 - 8s - loss: 0.6697 - accuracy: 0.7750 - val_loss: 0.5940 - val_accuracy: 0.7812 - 8s/epoch - 833ms/step\n",
            "Epoch 35/300\n",
            "10/10 - 8s - loss: 0.6986 - accuracy: 0.7812 - val_loss: 0.3967 - val_accuracy: 0.9219 - 8s/epoch - 838ms/step\n",
            "Epoch 36/300\n",
            "10/10 - 8s - loss: 0.6027 - accuracy: 0.8062 - val_loss: 0.4209 - val_accuracy: 0.8594 - 8s/epoch - 833ms/step\n",
            "Epoch 37/300\n",
            "10/10 - 8s - loss: 0.4045 - accuracy: 0.9000 - val_loss: 0.5000 - val_accuracy: 0.8438 - 8s/epoch - 834ms/step\n",
            "Epoch 38/300\n",
            "10/10 - 8s - loss: 0.6425 - accuracy: 0.7812 - val_loss: 0.4758 - val_accuracy: 0.8750 - 8s/epoch - 840ms/step\n",
            "Epoch 39/300\n",
            "10/10 - 8s - loss: 0.6040 - accuracy: 0.8250 - val_loss: 0.5514 - val_accuracy: 0.8594 - 8s/epoch - 833ms/step\n",
            "Epoch 40/300\n",
            "10/10 - 10s - loss: 0.4016 - accuracy: 0.8750 - val_loss: 0.2802 - val_accuracy: 0.9375 - 10s/epoch - 1s/step\n",
            "Epoch 41/300\n",
            "10/10 - 8s - loss: 0.2828 - accuracy: 0.8938 - val_loss: 0.3740 - val_accuracy: 0.9062 - 8s/epoch - 844ms/step\n",
            "Epoch 42/300\n",
            "10/10 - 8s - loss: 0.4142 - accuracy: 0.8687 - val_loss: 0.1796 - val_accuracy: 0.9531 - 8s/epoch - 846ms/step\n",
            "Epoch 43/300\n",
            "10/10 - 8s - loss: 0.3545 - accuracy: 0.8562 - val_loss: 0.4833 - val_accuracy: 0.8281 - 8s/epoch - 832ms/step\n",
            "Epoch 44/300\n",
            "10/10 - 8s - loss: 0.2992 - accuracy: 0.9250 - val_loss: 0.4422 - val_accuracy: 0.8281 - 8s/epoch - 832ms/step\n",
            "Epoch 45/300\n",
            "\n",
            "In Epoch 44 \n",
            "Accuracy has reach = 91.87% Training stop.\n",
            "\n",
            "In Epoch 44 \n",
            "Val Accuracy has reach = 93.75% Training stop.\n",
            "10/10 - 8s - loss: 0.2759 - accuracy: 0.9187 - val_loss: 0.1474 - val_accuracy: 0.9375 - 8s/epoch - 840ms/step\n"
          ]
        }
      ],
      "source": [
        "#latih model dengan model.fit\n",
        "history = model.fit(\n",
        "      train_generator,\n",
        "      steps_per_epoch=10,\n",
        "      epochs=300,\n",
        "      validation_data=validation_generator,\n",
        "      validation_steps=4,\n",
        "      #shuffle = True,\n",
        "      verbose=2,\n",
        "      callbacks = [Callback()]\n",
        ")"
      ]
    },
    {
      "cell_type": "code",
      "execution_count": 15,
      "metadata": {
        "colab": {
          "base_uri": "https://localhost:8080/",
          "height": 295
        },
        "id": "5F37vmN94hut",
        "outputId": "b7a28650-86a2-4c12-b67b-3419577c06f5"
      },
      "outputs": [
        {
          "output_type": "display_data",
          "data": {
            "text/plain": [
              "<Figure size 432x288 with 1 Axes>"
            ],
            "image/png": "[encoded data removed]"
          },
          "metadata": {
            "needs_background": "light"
          }
        }
      ],
      "source": [
        "#plot akurasi\n",
        "import matplotlib.pyplot as plt\n",
        "plt.plot(history.history['accuracy'])\n",
        "plt.plot(history.history['val_accuracy'])\n",
        "plt.title('Akurasi Model')\n",
        "plt.ylabel('accuracy')\n",
        "plt.xlabel('epoch')\n",
        "plt.legend(['train', 'test'], loc='upper left')\n",
        "plt.show()"
      ]
    },
    {
      "cell_type": "code",
      "execution_count": 16,
      "metadata": {
        "colab": {
          "base_uri": "https://localhost:8080/",
          "height": 295
        },
        "id": "MhhQerCd4i-C",
        "outputId": "86ace48b-599e-40d4-c127-c5329621006e"
      },
      "outputs": [
        {
          "output_type": "display_data",
          "data": {
            "text/plain": [
              "<Figure size 432x288 with 1 Axes>"
            ],
            "image/png": "[encoded data removed]"
          },
          "metadata": {
            "needs_background": "light"
          }
        }
      ],
      "source": [
        "#plot loss\n",
        "plt.plot(history.history['loss'])\n",
        "plt.plot(history.history['val_loss'])\n",
        "plt.title('Loss Model')\n",
        "plt.ylabel('loss')\n",
        "plt.xlabel('epoch')\n",
        "plt.legend(['train', 'test'], loc='upper left')\n",
        "plt.show()"
      ]
    },
    {
      "cell_type": "code",
      "execution_count": 49,
      "metadata": {
        "colab": {
          "base_uri": "https://localhost:8080/",
          "height": 382
        },
        "id": "r_kDJonw4i2w",
        "outputId": "99a311d3-c45c-4608-d14c-ebad32af12a9"
      },
      "outputs": [
        {
          "output_type": "display_data",
          "data": {
            "text/plain": [
              "<IPython.core.display.HTML object>"
            ],
            "text/html": [
              "\n",
              "     <input type=\"file\" id=\"files-f5e1b32c-0886-43a4-88ac-504bddaabc0a\" name=\"files[]\" multiple disabled\n",
              "        style=\"border:none\" />\n",
              "     <output id=\"result-f5e1b32c-0886-43a4-88ac-504bddaabc0a\">\n",
              "      Upload widget is only available when the cell has been executed in the\n",
              "      current browser session. Please rerun this cell to enable.\n",
              "      </output>\n",
              "      <script>// Copyright 2017 Google LLC\n",
              "//\n",
              "// Licensed under the Apache License, Version 2.0 (the \"License\");\n",
              "// you may not use this file except in compliance with the License.\n",
              "// You may obtain a copy of the License at\n",
              "//\n",
              "//      http://www.apache.org/licenses/LICENSE-2.0\n",
              "//\n",
              "// Unless required by applicable law or agreed to in writing, software\n",
              "// distributed under the License is distributed on an \"AS IS\" BASIS,\n",
              "// WITHOUT WARRANTIES OR CONDITIONS OF ANY KIND, either express or implied.\n",
              "// See the License for the specific language governing permissions and\n",
              "// limitations under the License.\n",
              "\n",
              "/**\n",
              " * @fileoverview Helpers for google.colab Python module.\n",
              " */\n",
              "(function(scope) {\n",
              "function span(text, styleAttributes = {}) {\n",
              "  const element = document.createElement('span');\n",
              "  element.textContent = text;\n",
              "  for (const key of Object.keys(styleAttributes)) {\n",
              "    element.style[key] = styleAttributes[key];\n",
              "  }\n",
              "  return element;\n",
              "}\n",
              "\n",
              "// Max number of bytes which will be uploaded at a time.\n",
              "const MAX_PAYLOAD_SIZE = 100 * 1024;\n",
              "\n",
              "function _uploadFiles(inputId, outputId) {\n",
              "  const steps = uploadFilesStep(inputId, outputId);\n",
              "  const outputElement = document.getElementById(outputId);\n",
              "  // Cache steps on the outputElement to make it available for the next call\n",
              "  // to uploadFilesContinue from Python.\n",
              "  outputElement.steps = steps;\n",
              "\n",
              "  return _uploadFilesContinue(outputId);\n",
              "}\n",
              "\n",
              "// This is roughly an async generator (not supported in the browser yet),\n",
              "// where there are multiple asynchronous steps and the Python side is going\n",
              "// to poll for completion of each step.\n",
              "// This uses a Promise to block the python side on completion of each step,\n",
              "// then passes the result of the previous step as the input to the next step.\n",
              "function _uploadFilesContinue(outputId) {\n",
              "  const outputElement = document.getElementById(outputId);\n",
              "  const steps = outputElement.steps;\n",
              "\n",
              "  const next = steps.next(outputElement.lastPromiseValue);\n",
              "  return Promise.resolve(next.value.promise).then((value) => {\n",
              "    // Cache the last promise value to make it available to the next\n",
              "    // step of the generator.\n",
              "    outputElement.lastPromiseValue = value;\n",
              "    return next.value.response;\n",
              "  });\n",
              "}\n",
              "\n",
              "/**\n",
              " * Generator function which is called between each async step of the upload\n",
              " * process.\n",
              " * @param {string} inputId Element ID of the input file picker element.\n",
              " * @param {string} outputId Element ID of the output display.\n",
              " * @return {!Iterable<!Object>} Iterable of next steps.\n",
              " */\n",
              "function* uploadFilesStep(inputId, outputId) {\n",
              "  const inputElement = document.getElementById(inputId);\n",
              "  inputElement.disabled = false;\n",
              "\n",
              "  const outputElement = document.getElementById(outputId);\n",
              "  outputElement.innerHTML = '';\n",
              "\n",
              "  const pickedPromise = new Promise((resolve) => {\n",
              "    inputElement.addEventListener('change', (e) => {\n",
              "      resolve(e.target.files);\n",
              "    });\n",
              "  });\n",
              "\n",
              "  const cancel = document.createElement('button');\n",
              "  inputElement.parentElement.appendChild(cancel);\n",
              "  cancel.textContent = 'Cancel upload';\n",
              "  const cancelPromise = new Promise((resolve) => {\n",
              "    cancel.onclick = () => {\n",
              "      resolve(null);\n",
              "    };\n",
              "  });\n",
              "\n",
              "  // Wait for the user to pick the files.\n",
              "  const files = yield {\n",
              "    promise: Promise.race([pickedPromise, cancelPromise]),\n",
              "    response: {\n",
              "      action: 'starting',\n",
              "    }\n",
              "  };\n",
              "\n",
              "  cancel.remove();\n",
              "\n",
              "  // Disable the input element since further picks are not allowed.\n",
              "  inputElement.disabled = true;\n",
              "\n",
              "  if (!files) {\n",
              "    return {\n",
              "      response: {\n",
              "        action: 'complete',\n",
              "      }\n",
              "    };\n",
              "  }\n",
              "\n",
              "  for (const file of files) {\n",
              "    const li = document.createElement('li');\n",
              "    li.append(span(file.name, {fontWeight: 'bold'}));\n",
              "    li.append(span(\n",
              "        `(${file.type || 'n/a'}) - ${file.size} bytes, ` +\n",
              "        `last modified: ${\n",
              "            file.lastModifiedDate ? file.lastModifiedDate.toLocaleDateString() :\n",
              "                                    'n/a'} - `));\n",
              "    const percent = span('0% done');\n",
              "    li.appendChild(percent);\n",
              "\n",
              "    outputElement.appendChild(li);\n",
              "\n",
              "    const fileDataPromise = new Promise((resolve) => {\n",
              "      const reader = new FileReader();\n",
              "      reader.onload = (e) => {\n",
              "        resolve(e.target.result);\n",
              "      };\n",
              "      reader.readAsArrayBuffer(file);\n",
              "    });\n",
              "    // Wait for the data to be ready.\n",
              "    let fileData = yield {\n",
              "      promise: fileDataPromise,\n",
              "      response: {\n",
              "        action: 'continue',\n",
              "      }\n",
              "    };\n",
              "\n",
              "    // Use a chunked sending to avoid message size limits. See b/62115660.\n",
              "    let position = 0;\n",
              "    do {\n",
              "      const length = Math.min(fileData.byteLength - position, MAX_PAYLOAD_SIZE);\n",
              "      const chunk = new Uint8Array(fileData, position, length);\n",
              "      position += length;\n",
              "\n",
              "      const base64 = btoa(String.fromCharCode.apply(null, chunk));\n",
              "      yield {\n",
              "        response: {\n",
              "          action: 'append',\n",
              "          file: file.name,\n",
              "          data: base64,\n",
              "        },\n",
              "      };\n",
              "\n",
              "      let percentDone = fileData.byteLength === 0 ?\n",
              "          100 :\n",
              "          Math.round((position / fileData.byteLength) * 100);\n",
              "      percent.textContent = `${percentDone}% done`;\n",
              "\n",
              "    } while (position < fileData.byteLength);\n",
              "  }\n",
              "\n",
              "  // All done.\n",
              "  yield {\n",
              "    response: {\n",
              "      action: 'complete',\n",
              "    }\n",
              "  };\n",
              "}\n",
              "\n",
              "scope.google = scope.google || {};\n",
              "scope.google.colab = scope.google.colab || {};\n",
              "scope.google.colab._files = {\n",
              "  _uploadFiles,\n",
              "  _uploadFilesContinue,\n",
              "};\n",
              "})(self);\n",
              "</script> "
            ]
          },
          "metadata": {}
        },
        {
          "output_type": "stream",
          "name": "stdout",
          "text": [
            "Saving tali_merah.jpg to tali_merah (1).jpg\n",
            "1/1 [==============================] - 0s 30ms/step\n",
            "tali_merah.jpg\n",
            "tali_merah\n"
          ]
        },
        {
          "output_type": "display_data",
          "data": {
            "text/plain": [
              "<Figure size 432x288 with 1 Axes>"
            ],
            "image/png": "[encoded data removed]"
          },
          "metadata": {
            "needs_background": "light"
          }
        }
      ],
      "source": [
        "#Output prediksi dari model \n",
        "\n",
        "import tensorflow.keras\n",
        "import numpy as np\n",
        "from google.colab import files\n",
        "from tensorflow.keras.preprocessing import image\n",
        "import matplotlib.pyplot as plt\n",
        "import matplotlib.image as mpimg\n",
        "%matplotlib inline\n",
        "\n",
        "uploaded = files.upload()\n",
        " \n",
        "for fn in uploaded.keys():\n",
        "  #memprediksi\n",
        "  path = fn\n",
        "  gambar = image.load_img(path, target_size=(200,100))\n",
        "  imgplot = plt.imshow(gambar)\n",
        "  x = image.img_to_array(gambar)\n",
        "  x = np.expand_dims(x, axis=0)\n",
        " \n",
        "  images = np.vstack([x])\n",
        "  classes = model.predict(images, batch_size=16)\n",
        "\n",
        "  print(fn)\n",
        "  if classes[0, 0] == 1:\n",
        "    print(\"babi_aluih\")\n",
        "  elif classes[0, 1] == 1:\n",
        "    print(\"babai_gadang\")\n",
        "  elif classes[0, 2] == 1:\n",
        "    print(\"babi_pusek\")\n",
        "  elif classes[0, 3] == 1:\n",
        "    print(\"batuang_aluih\")\n",
        "  elif classes[0, 4] == 1:\n",
        "    print(\"batuang_anam\")\n",
        "  elif classes[0, 5] == 1:\n",
        "    print(\"batuang_manih\")\n",
        "  elif classes[0, 6] == 1:\n",
        "    print(\"bengkok_aluih\")\n",
        "  elif classes[0, 7] == 1:\n",
        "    print(\"bengkok_gadang\")\n",
        "  elif classes[0, 8] == 1:\n",
        "    print(\"bengkok_hitam\")\n",
        "  elif classes[0, 9] == 1:\n",
        "    print(\"hiu_babak\")\n",
        "  elif classes[0, 10] == 1:\n",
        "    print(\"hiu_bungo\")\n",
        "  elif classes[0, 11] == 1:\n",
        "    print(\"hiu_gadang\")\n",
        "  elif classes[0, 12] == 1:\n",
        "    print(\"hiu_hitam\")\n",
        "  elif classes[0, 13] == 1:\n",
        "    print(\"hiu_kuciang\")\n",
        "  elif classes[0, 14] == 1:\n",
        "    print(\"hiu_pinci\")\n",
        "  elif classes[0, 15] == 1:\n",
        "    print(\"jarum_aluih\")\n",
        "  elif classes[0, 16] == 1:\n",
        "    print(\"jarum_gadang\")\n",
        "  elif classes[0, 17] == 1:\n",
        "    print(\"jarum_hitam\")\n",
        "  elif classes[0, 18] == 1:\n",
        "    print(\"pacah_aluih\")\n",
        "  elif classes[0, 19] == 1:\n",
        "    print(\"pacah_delapan\")\n",
        "  elif classes[0, 20] == 1:\n",
        "    print(\"pacah_manih\")\n",
        "  elif classes[0, 21] == 1:\n",
        "    print(\"sisiak_aluih\")\n",
        "  elif classes[0, 22] == 1:\n",
        "    print(\"sisiak_bendera\")\n",
        "  elif classes[0, 23] == 1:\n",
        "    print(\"sisiak_gadang\")\n",
        "  elif classes[0, 24] == 1:\n",
        "    print(\"suduang_aluih\")\n",
        "  elif classes[0, 25] == 1:\n",
        "    print(\"suduang_hitam\")\n",
        "  elif classes[0, 26] == 1:\n",
        "    print(\"suduang_pinggang\")\n",
        "  elif classes[0, 27] == 1:\n",
        "    print(\"tali_aluih\")\n",
        "  elif classes[0, 28] == 1:\n",
        "    print(\"tali_bulek\")\n",
        "  elif classes[0, 29] == 1:\n",
        "    print(\"tali_merah\")\n",
        "  else:\n",
        "    print(\"no matching data\")"
      ]
    }
  ],
  "metadata": {
    "colab": {
      "collapsed_sections": [],
      "provenance": [],
      "authorship_tag": "ABX9TyMffUgBFbt6A4CezYl/JcE2",
      "include_colab_link": true
    },
    "kernelspec": {
      "display_name": "Python 3",
      "name": "python3"
    },
    "language_info": {
      "name": "python"
    }
  },
  "nbformat": 4,
  "nbformat_minor": 0
}