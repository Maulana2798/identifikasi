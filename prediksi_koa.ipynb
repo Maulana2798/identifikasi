{
  "cells": [
    {
      "cell_type": "markdown",
      "metadata": {
        "id": "view-in-github",
        "colab_type": "text"
      },
      "source": [
        "<a href=\"https://colab.research.google.com/github/Maulana2798/identifikasi/blob/main/prediksi_koa.ipynb\" target=\"_parent\"><img src=\"https://colab.research.google.com/assets/colab-badge.svg\" alt=\"Open In Colab\"/></a>"
      ]
    },
    {
      "cell_type": "code",
      "execution_count": 1,
      "metadata": {
        "colab": {
          "base_uri": "https://localhost:8080/"
        },
        "id": "fd6oB-6-4ZqT",
        "outputId": "00804306-6067-4b53-9784-b548c13c70bc"
      },
      "outputs": [
        {
          "output_type": "stream",
          "name": "stdout",
          "text": [
            "2.9.2\n"
          ]
        }
      ],
      "source": [
        "#import library tensorflow\n",
        "import tensorflow as tf\n",
        "from tensorflow.keras.preprocessing.image import ImageDataGenerator\n",
        "\n",
        "#memasitikan versi tensorflow\n",
        "print(tf.__version__)"
      ]
    },
    {
      "cell_type": "code",
      "execution_count": 2,
      "metadata": {
        "colab": {
          "base_uri": "https://localhost:8080/"
        },
        "id": "LBN92ZJs4n0z",
        "outputId": "dcb6550d-e445-4d99-e28c-1be4c7812f22"
      },
      "outputs": [
        {
          "output_type": "stream",
          "name": "stdout",
          "text": [
            "Mounted at /content/drive\n"
          ]
        }
      ],
      "source": [
        "from google.colab import drive\n",
        "drive.mount('/content/drive')"
      ]
    },
    {
      "cell_type": "code",
      "execution_count": 3,
      "metadata": {
        "id": "uIOlI7w03Prp"
      },
      "outputs": [],
      "source": [
        "#melakukan extract file zip\n",
        "import zipfile,os\n",
        "local_zip = '/content/drive/MyDrive/Skripsi/Program/koa_baru.zip'\n",
        "base_dir = '/content/koa/koa-val-image'\n",
        "zip_ref = zipfile.ZipFile(local_zip, 'r')\n",
        "zip_ref.extractall('/content')\n",
        "zip_ref.close()\n"
      ]
    },
    {
      "cell_type": "code",
      "execution_count": 4,
      "metadata": {
        "id": "Dm7YZ3mW3syH"
      },
      "outputs": [],
      "source": [
        "#mendefinisikan nama direktori untuk data latih dan data validasi\n",
        "train_dir = os.path.join(base_dir, 'koa')\n",
        "validation_dir = os.path.join(base_dir, 'koa/koa-val-image')"
      ]
    },
    {
      "cell_type": "code",
      "execution_count": 5,
      "metadata": {
        "colab": {
          "base_uri": "https://localhost:8080/"
        },
        "id": "2ASkHV87316L",
        "outputId": "5b1a5b60-e5fe-45c0-fcc4-ef9debc1c3f7"
      },
      "outputs": [
        {
          "output_type": "execute_result",
          "data": {
            "text/plain": [
              "['sisiak_bendera',\n",
              " 'pacah_aluih',\n",
              " 'tali_merah',\n",
              " 'hiu_hitam',\n",
              " 'hiu_bungo',\n",
              " 'bengkok_hitam',\n",
              " 'tali_aluih',\n",
              " 'babi_aluih',\n",
              " 'batuang_manih',\n",
              " 'jarum_aluih',\n",
              " 'jarum_hitam',\n",
              " 'batuang_anam',\n",
              " 'suduang_hitam',\n",
              " 'jarum_gadang',\n",
              " 'suduang_aluih',\n",
              " 'bengkok_aluih',\n",
              " 'hiu_babak',\n",
              " 'pacah_delapan',\n",
              " 'sisiak_aluih',\n",
              " 'sisiak_gadang',\n",
              " 'hiu_kuciang',\n",
              " 'batuang_aluih',\n",
              " 'bengkok_gadang',\n",
              " 'babi_gadang',\n",
              " 'pacah_manih',\n",
              " 'suduang_pinggang',\n",
              " 'hiu_pinci',\n",
              " 'koa-val-image',\n",
              " 'hiu_gadang',\n",
              " 'babi_pusek',\n",
              " 'tali_bulek']"
            ]
          },
          "metadata": {},
          "execution_count": 5
        }
      ],
      "source": [
        "#cek direktori data train\n",
        "os.listdir('/content/koa')"
      ]
    },
    {
      "cell_type": "code",
      "execution_count": 6,
      "metadata": {
        "colab": {
          "base_uri": "https://localhost:8080/"
        },
        "id": "TluoRcZH312O",
        "outputId": "1912561f-5b42-442b-d9d1-99f3895698db"
      },
      "outputs": [
        {
          "output_type": "execute_result",
          "data": {
            "text/plain": [
              "['sisiak_bendera',\n",
              " 'pacah_aluih',\n",
              " 'tali_merah',\n",
              " 'hiu_hitam',\n",
              " 'hiu_bungo',\n",
              " 'bengkok_hitam',\n",
              " 'tali_aluih',\n",
              " 'babi_aluih',\n",
              " 'batuang_manih',\n",
              " 'jarum_aluih',\n",
              " 'jarum_hitam',\n",
              " 'batuang_anam',\n",
              " 'suduang_hitam',\n",
              " 'jarum_gadang',\n",
              " 'suduang_aluih',\n",
              " 'bengkok_aluih',\n",
              " 'hiu_babak',\n",
              " 'pacah_delapan',\n",
              " 'sisiak_aluih',\n",
              " 'sisiak_gadang',\n",
              " 'hiu_kuciang',\n",
              " 'batuang_aluih',\n",
              " 'bengkok_gadang',\n",
              " 'babi_gadang',\n",
              " 'pacah_manih',\n",
              " 'suduang_pinggang',\n",
              " 'hiu_pinci',\n",
              " 'hiu_gadang',\n",
              " 'babi_pusek',\n",
              " 'tali_bulek']"
            ]
          },
          "metadata": {},
          "execution_count": 6
        }
      ],
      "source": [
        "#cek direktori data valiadtion\n",
        "os.listdir('/content/koa/koa-val-image')"
      ]
    },
    {
      "cell_type": "code",
      "execution_count": 7,
      "metadata": {
        "id": "c00JwmNp31x1"
      },
      "outputs": [],
      "source": [
        "#membuat direktori koa pada data training\n",
        "train_babi_aluih_dir = os.path.join(train_dir, 'babi_aluih')\n",
        "train_babi_gadang_dir = os.path.join(train_dir, 'babi_gadang')\n",
        "train_babi_pusek_dir = os.path.join(train_dir, 'babi_pusek')\n",
        "train_batuang_aluih_dir = os.path.join(train_dir, 'batuang_aluih')\n",
        "train_batuang_anam_dir = os.path.join(train_dir, 'batuang_anam')\n",
        "train_batuang_manih_dir = os.path.join(train_dir, 'batuang_manih')\n",
        "train_bengkok_aluih_dir = os.path.join(train_dir, 'bengkok_aluih')\n",
        "train_bengkok_gadang_dir = os.path.join(train_dir, 'bengkok_gadang')\n",
        "train_bengkok_hitam_dir = os.path.join(train_dir, 'bengkok_hitam')\n",
        "train_hiu_babak_dir = os.path.join(train_dir, 'hiu_babak')\n",
        "train_hiu_bungo_dir = os.path.join(train_dir, 'hiu_bungo')\n",
        "train_hiu_gadang_dir = os.path.join(train_dir, 'hiu_gadang')\n",
        "train_hiu_hitam_dir = os.path.join(train_dir, 'hiu_hitam')\n",
        "train_hiu_kuciang_dir = os.path.join(train_dir, 'hiu_kuciang')\n",
        "train_hiu__pinci_dir = os.path.join(train_dir, 'hiu_pinci')\n",
        "train_jarum_aluih_dir = os.path.join(train_dir, 'jarum_aluih')\n",
        "train_jarum_gadang_dir = os.path.join(train_dir, 'jarum_gadang')\n",
        "train_jarum_hitam_dir = os.path.join(train_dir, 'jarum_hitam')\n",
        "train_pacah_aluih_dir = os.path.join(train_dir, 'pacah_aluih')\n",
        "train_pacah_delapan_dir = os.path.join(train_dir, 'pacah_delapan')\n",
        "train_pacah_manih_dir = os.path.join(train_dir, 'pacah_manih')\n",
        "train_sisiak_aluih_dir = os.path.join(train_dir, 'sisiak_aluih')\n",
        "train_sisiak_bendera_dir = os.path.join(train_dir, 'sisiak_bendera')\n",
        "train_sisiak_gadang_dir = os.path.join(train_dir, 'sisiak_gadang')\n",
        "train_suduang_aluih_dir = os.path.join(train_dir, 'suduang_aluih')\n",
        "train_suduang_hitam_dir = os.path.join(train_dir, 'suduang_hitam')\n",
        "train_suduang_pinggang_dir = os.path.join(train_dir, 'suduang_pinggang')\n",
        "train_tali_aluih_dir = os.path.join(train_dir, 'tali_aluih')\n",
        "train_tali_bulek_dir = os.path.join(train_dir, 'tali_bulek')\n",
        "train_tali_merah_dir = os.path.join(train_dir, 'tali_merah')\n",
        "\n",
        "#membuat direktori koa pada data c=validasi\n",
        "validation_babi_aluih_dir = os.path.join(validation_dir, 'babi_aluih')\n",
        "validation_babi_gadang_dir = os.path.join(validation_dir, 'babi_gadang')\n",
        "validation_babi_pusek_dir = os.path.join(validation_dir, 'babi_pusek')\n",
        "validation_batuang_aluih_dir = os.path.join(validation_dir, 'batuang_aluih')\n",
        "validation_batuang_anam_dir = os.path.join(validation_dir, 'batuang_anam')\n",
        "validation_batuang_manih_dir = os.path.join(validation_dir, 'batuang_manih')\n",
        "validation_bengkok_aluih_dir = os.path.join(validation_dir, 'bengkok_aluih')\n",
        "validation_bengkok_gadang_dir = os.path.join(validation_dir, 'bengkok_gadang')\n",
        "validation_bengkok_hitam_dir = os.path.join(validation_dir, 'bengkok_hitam')\n",
        "validation_hiu_babak_dir = os.path.join(validation_dir, 'hiu_babak')\n",
        "validation_hiu_bungo_dir = os.path.join(validation_dir, 'hiu_bungo')\n",
        "validation_hiu_gadang_dir = os.path.join(validation_dir, 'hiu_gadang')\n",
        "validation_hiu_hitam_dir = os.path.join(validation_dir, 'hiu_hitam')\n",
        "validation_hiu_kuciang_dir = os.path.join(validation_dir, 'hiu_kuciang')\n",
        "validation_hiu__pinci_dir = os.path.join(validation_dir, 'hiu_pinci')\n",
        "validation_jarum_aluih_dir = os.path.join(validation_dir, 'jarum_aluih')\n",
        "validation_jarum_gadang_dir = os.path.join(validation_dir, 'jarum_gadang')\n",
        "validation_jarum_hitam_dir = os.path.join(validation_dir, 'jarum_hitam')\n",
        "validation_pacah_aluih_dir = os.path.join(validation_dir, 'pacah_aluih')\n",
        "validation_pacah_delapan_dir = os.path.join(validation_dir, 'pacah_delapan')\n",
        "validation_pacah_manih_dir = os.path.join(validation_dir, 'pacah_manih')\n",
        "validation_sisiak_aluih_dir = os.path.join(validation_dir, 'sisiak_aluih')\n",
        "validation_sisiak_bendera_dir = os.path.join(validation_dir, 'sisiak_bendera')\n",
        "validation_sisiak_gadang_dir = os.path.join(validation_dir, 'sisiak_gadang')\n",
        "validation_suduang_aluih_dir = os.path.join(validation_dir, 'suduang_aluih')\n",
        "validation_suduang_hitam_dir = os.path.join(validation_dir, 'suduang_hitam')\n",
        "validation_suduang_pinggang_dir = os.path.join(validation_dir, 'suduang_pinggang')\n",
        "validation_tali_aluih_dir = os.path.join(validation_dir, 'tali_aluih')\n",
        "validation_tali_bulek_dir = os.path.join(validation_dir, 'tali_bulek')\n",
        "validation_tali_merah_dir = os.path.join(validation_dir, 'tali_merah')"
      ]
    },
    {
      "cell_type": "code",
      "execution_count": 8,
      "metadata": {
        "id": "1h1jilVq31so"
      },
      "outputs": [],
      "source": [
        "#membuat image augmantation untuk data training\n",
        "from tensorflow.keras.preprocessing.image import ImageDataGenerator\n",
        "\n",
        "train_datagen = ImageDataGenerator(\n",
        "                    rescale = 1./255,\n",
        "                    rotation_range = 20,\n",
        "                    horizontal_flip = True,\n",
        "                    shear_range = 0.2,\n",
        "                    fill_mode = 'nearest',\n",
        "                    validation_split = 0.2 #ukuran validation 20%\n",
        ")"
      ]
    },
    {
      "cell_type": "code",
      "execution_count": 9,
      "metadata": {
        "colab": {
          "base_uri": "https://localhost:8080/"
        },
        "id": "IfpincMa31lA",
        "outputId": "66772f73-106f-41c3-9191-d549823ec521"
      },
      "outputs": [
        {
          "output_type": "stream",
          "name": "stdout",
          "text": [
            "Found 4080 images belonging to 30 classes.\n",
            "Found 1020 images belonging to 30 classes.\n"
          ]
        }
      ],
      "source": [
        "#mempersiapkan data latih yang akan dipelajari model\n",
        "train_generator = train_datagen.flow_from_directory(\n",
        "        base_dir,\n",
        "        target_size = (200, 100),\n",
        "        subset = 'training',\n",
        "        class_mode = 'categorical',\n",
        ")\n",
        "\n",
        "validation_generator = train_datagen.flow_from_directory(\n",
        "        base_dir,\n",
        "        target_size = (200, 100),\n",
        "        subset = 'validation',\n",
        "        class_mode = 'categorical',\n",
        ")"
      ]
    },
    {
      "cell_type": "code",
      "execution_count": 10,
      "metadata": {
        "id": "T98S5G-E31dH"
      },
      "outputs": [],
      "source": [
        "#membangun model sequential\n",
        "from tensorflow.keras.optimizers import  RMSprop\n",
        "from tensorflow.keras.models import  Sequential\n",
        "from tensorflow.keras.optimizers import Adam\n",
        "from tensorflow.keras.layers import Flatten, Conv2D, MaxPooling2D, Dense, Dropout\n",
        "\n",
        "model = tf.keras.models.Sequential([\n",
        "    tf.keras.layers.Conv2D(16, (3,3), activation='relu', input_shape=(200, 100, 3)),\n",
        "    tf.keras.layers.MaxPool2D(2, 2),\n",
        "    \n",
        "    tf.keras.layers.Conv2D(32, (3,3), activation='relu'),\n",
        "    tf.keras.layers.MaxPool2D(2, 2),\n",
        "    \n",
        "    tf.keras.layers.Conv2D(64, (3,3), activation='relu'),\n",
        "    tf.keras.layers.MaxPool2D(2, 2),\n",
        "    \n",
        "    tf.keras.layers.Conv2D(128, (3,3), activation='relu'),\n",
        "    tf.keras.layers.MaxPool2D(2, 2),\n",
        "    \n",
        "    tf.keras.layers.Flatten(),\n",
        "    tf.keras.layers.Dropout(0.5),\n",
        "    tf.keras.layers.Dense(256, activation='relu'),\n",
        "    \n",
        "    tf.keras.layers.Dense(30, activation='softmax')\n",
        "])  "
      ]
    },
    {
      "cell_type": "code",
      "execution_count": 11,
      "metadata": {
        "id": "4NWc1cqF4S-S"
      },
      "outputs": [],
      "source": [
        "# compile model dengan 'adam' optimizer loss function 'categorical_crossentropy'\n",
        "\n",
        "model.compile(\n",
        "         loss ='categorical_crossentropy',\n",
        "         optimizer = tf.optimizers.Adam(),\n",
        "         metrics = ['accuracy']\n",
        ")"
      ]
    },
    {
      "cell_type": "code",
      "execution_count": 12,
      "metadata": {
        "colab": {
          "base_uri": "https://localhost:8080/"
        },
        "id": "NEeh0GnY4S6u",
        "outputId": "09f83f57-7c01-4833-aa29-0ed710f501ac"
      },
      "outputs": [
        {
          "output_type": "stream",
          "name": "stdout",
          "text": [
            "Model: \"sequential\"\n",
            "_________________________________________________________________\n",
            " Layer (type)                Output Shape              Param #   \n",
            "=================================================================\n",
            " conv2d (Conv2D)             (None, 198, 98, 16)       448       \n",
            "                                                                 \n",
            " max_pooling2d (MaxPooling2D  (None, 99, 49, 16)       0         \n",
            " )                                                               \n",
            "                                                                 \n",
            " conv2d_1 (Conv2D)           (None, 97, 47, 32)        4640      \n",
            "                                                                 \n",
            " max_pooling2d_1 (MaxPooling  (None, 48, 23, 32)       0         \n",
            " 2D)                                                             \n",
            "                                                                 \n",
            " conv2d_2 (Conv2D)           (None, 46, 21, 64)        18496     \n",
            "                                                                 \n",
            " max_pooling2d_2 (MaxPooling  (None, 23, 10, 64)       0         \n",
            " 2D)                                                             \n",
            "                                                                 \n",
            " conv2d_3 (Conv2D)           (None, 21, 8, 128)        73856     \n",
            "                                                                 \n",
            " max_pooling2d_3 (MaxPooling  (None, 10, 4, 128)       0         \n",
            " 2D)                                                             \n",
            "                                                                 \n",
            " flatten (Flatten)           (None, 5120)              0         \n",
            "                                                                 \n",
            " dropout (Dropout)           (None, 5120)              0         \n",
            "                                                                 \n",
            " dense (Dense)               (None, 256)               1310976   \n",
            "                                                                 \n",
            " dense_1 (Dense)             (None, 30)                7710      \n",
            "                                                                 \n",
            "=================================================================\n",
            "Total params: 1,416,126\n",
            "Trainable params: 1,416,126\n",
            "Non-trainable params: 0\n",
            "_________________________________________________________________\n"
          ]
        }
      ],
      "source": [
        "#ringkasan model\n",
        "model.summary()"
      ]
    },
    {
      "cell_type": "code",
      "execution_count": 13,
      "metadata": {
        "id": "WwuK2-st4S3P"
      },
      "outputs": [],
      "source": [
        "#callback untuk stop training jika akurasi telah dicapai\n",
        "class Callback(tf.keras.callbacks.Callback):\n",
        "  def on_epoch_end(self, epoch, logs = None):\n",
        "    if(logs.get('accuracy') > 0.95 and logs.get('val_accuracy') > 0.95):\n",
        "      print('\\nIn Epoch', epoch, '\\nAccuracy has reach = %2.2f%%' %(logs['accuracy']*100), 'Training stop.')\n",
        "      print('\\nIn Epoch', epoch, '\\nVal Accuracy has reach = %2.2f%%' %(logs['val_accuracy']*100), 'Training stop.')\n",
        "      self.model.stop_training = True\n",
        "callbacks = Callback()"
      ]
    },
    {
      "cell_type": "code",
      "execution_count": 14,
      "metadata": {
        "colab": {
          "base_uri": "https://localhost:8080/"
        },
        "id": "Z4eCst0o4Sz_",
        "outputId": "17508a59-6c61-4fac-c212-69504f7729b0"
      },
      "outputs": [
        {
          "output_type": "stream",
          "name": "stdout",
          "text": [
            "Epoch 1/50\n",
            "10/10 - 21s - loss: 3.4172 - accuracy: 0.0406 - val_loss: 3.3992 - val_accuracy: 0.0647 - 21s/epoch - 2s/step\n",
            "Epoch 2/50\n",
            "10/10 - 19s - loss: 3.3963 - accuracy: 0.0344 - val_loss: 3.3746 - val_accuracy: 0.0657 - 19s/epoch - 2s/step\n",
            "Epoch 3/50\n",
            "10/10 - 19s - loss: 3.3719 - accuracy: 0.0406 - val_loss: 3.2382 - val_accuracy: 0.0667 - 19s/epoch - 2s/step\n",
            "Epoch 4/50\n",
            "10/10 - 18s - loss: 3.1310 - accuracy: 0.1125 - val_loss: 3.1440 - val_accuracy: 0.0941 - 18s/epoch - 2s/step\n",
            "Epoch 5/50\n",
            "10/10 - 19s - loss: 3.1164 - accuracy: 0.1125 - val_loss: 3.1473 - val_accuracy: 0.0735 - 19s/epoch - 2s/step\n",
            "Epoch 6/50\n",
            "10/10 - 18s - loss: 3.1904 - accuracy: 0.0969 - val_loss: 3.0967 - val_accuracy: 0.0961 - 18s/epoch - 2s/step\n",
            "Epoch 7/50\n",
            "10/10 - 19s - loss: 3.1055 - accuracy: 0.0812 - val_loss: 3.0762 - val_accuracy: 0.0971 - 19s/epoch - 2s/step\n",
            "Epoch 8/50\n",
            "10/10 - 18s - loss: 2.9690 - accuracy: 0.1312 - val_loss: 3.0368 - val_accuracy: 0.1333 - 18s/epoch - 2s/step\n",
            "Epoch 9/50\n",
            "10/10 - 21s - loss: 3.0185 - accuracy: 0.1094 - val_loss: 2.9479 - val_accuracy: 0.1304 - 21s/epoch - 2s/step\n",
            "Epoch 10/50\n",
            "10/10 - 19s - loss: 2.8285 - accuracy: 0.1875 - val_loss: 2.7222 - val_accuracy: 0.2127 - 19s/epoch - 2s/step\n",
            "Epoch 11/50\n",
            "10/10 - 19s - loss: 2.6485 - accuracy: 0.2219 - val_loss: 2.5164 - val_accuracy: 0.2412 - 19s/epoch - 2s/step\n",
            "Epoch 12/50\n",
            "10/10 - 18s - loss: 2.4750 - accuracy: 0.2500 - val_loss: 2.4509 - val_accuracy: 0.2755 - 18s/epoch - 2s/step\n",
            "Epoch 13/50\n",
            "10/10 - 18s - loss: 2.3032 - accuracy: 0.3094 - val_loss: 2.1662 - val_accuracy: 0.3725 - 18s/epoch - 2s/step\n",
            "Epoch 14/50\n",
            "10/10 - 18s - loss: 2.1569 - accuracy: 0.3375 - val_loss: 1.8706 - val_accuracy: 0.4333 - 18s/epoch - 2s/step\n",
            "Epoch 15/50\n",
            "10/10 - 18s - loss: 1.8936 - accuracy: 0.3844 - val_loss: 1.5360 - val_accuracy: 0.5216 - 18s/epoch - 2s/step\n",
            "Epoch 16/50\n",
            "10/10 - 24s - loss: 1.5671 - accuracy: 0.4750 - val_loss: 1.6539 - val_accuracy: 0.4863 - 24s/epoch - 2s/step\n",
            "Epoch 17/50\n",
            "10/10 - 21s - loss: 1.4063 - accuracy: 0.5437 - val_loss: 1.2372 - val_accuracy: 0.5549 - 21s/epoch - 2s/step\n",
            "Epoch 18/50\n",
            "10/10 - 18s - loss: 1.2629 - accuracy: 0.5938 - val_loss: 0.9765 - val_accuracy: 0.6676 - 18s/epoch - 2s/step\n",
            "Epoch 19/50\n",
            "10/10 - 19s - loss: 1.0067 - accuracy: 0.6594 - val_loss: 0.8241 - val_accuracy: 0.7059 - 19s/epoch - 2s/step\n",
            "Epoch 20/50\n",
            "10/10 - 20s - loss: 0.9023 - accuracy: 0.6812 - val_loss: 0.6443 - val_accuracy: 0.8078 - 20s/epoch - 2s/step\n",
            "Epoch 21/50\n",
            "10/10 - 19s - loss: 0.7907 - accuracy: 0.7531 - val_loss: 0.6009 - val_accuracy: 0.8010 - 19s/epoch - 2s/step\n",
            "Epoch 22/50\n",
            "10/10 - 19s - loss: 0.6149 - accuracy: 0.8250 - val_loss: 0.5298 - val_accuracy: 0.8500 - 19s/epoch - 2s/step\n",
            "Epoch 23/50\n",
            "10/10 - 19s - loss: 0.5638 - accuracy: 0.8031 - val_loss: 0.3733 - val_accuracy: 0.8892 - 19s/epoch - 2s/step\n",
            "Epoch 24/50\n",
            "10/10 - 19s - loss: 0.4936 - accuracy: 0.8281 - val_loss: 0.3559 - val_accuracy: 0.8833 - 19s/epoch - 2s/step\n",
            "Epoch 25/50\n",
            "10/10 - 18s - loss: 0.5782 - accuracy: 0.8188 - val_loss: 0.3246 - val_accuracy: 0.9216 - 18s/epoch - 2s/step\n",
            "Epoch 26/50\n",
            "10/10 - 21s - loss: 0.4749 - accuracy: 0.8500 - val_loss: 0.2980 - val_accuracy: 0.8990 - 21s/epoch - 2s/step\n",
            "Epoch 27/50\n",
            "10/10 - 18s - loss: 0.4329 - accuracy: 0.8656 - val_loss: 0.2247 - val_accuracy: 0.9333 - 18s/epoch - 2s/step\n",
            "Epoch 28/50\n",
            "10/10 - 18s - loss: 0.4341 - accuracy: 0.8656 - val_loss: 0.2465 - val_accuracy: 0.9186 - 18s/epoch - 2s/step\n",
            "Epoch 29/50\n",
            "10/10 - 18s - loss: 0.3658 - accuracy: 0.8719 - val_loss: 0.1926 - val_accuracy: 0.9461 - 18s/epoch - 2s/step\n",
            "Epoch 30/50\n",
            "10/10 - 18s - loss: 0.2894 - accuracy: 0.9094 - val_loss: 0.2279 - val_accuracy: 0.9127 - 18s/epoch - 2s/step\n",
            "Epoch 31/50\n",
            "10/10 - 18s - loss: 0.3039 - accuracy: 0.9031 - val_loss: 0.1070 - val_accuracy: 0.9696 - 18s/epoch - 2s/step\n",
            "Epoch 32/50\n",
            "10/10 - 18s - loss: 0.2138 - accuracy: 0.9312 - val_loss: 0.1494 - val_accuracy: 0.9569 - 18s/epoch - 2s/step\n",
            "Epoch 33/50\n",
            "10/10 - 18s - loss: 0.2365 - accuracy: 0.9187 - val_loss: 0.0899 - val_accuracy: 0.9824 - 18s/epoch - 2s/step\n",
            "Epoch 34/50\n",
            "10/10 - 18s - loss: 0.1715 - accuracy: 0.9312 - val_loss: 0.1251 - val_accuracy: 0.9618 - 18s/epoch - 2s/step\n",
            "Epoch 35/50\n",
            "10/10 - 21s - loss: 0.2069 - accuracy: 0.9281 - val_loss: 0.1199 - val_accuracy: 0.9598 - 21s/epoch - 2s/step\n",
            "Epoch 36/50\n",
            "10/10 - 18s - loss: 0.2533 - accuracy: 0.9094 - val_loss: 0.1421 - val_accuracy: 0.9539 - 18s/epoch - 2s/step\n",
            "Epoch 37/50\n",
            "10/10 - 18s - loss: 0.1756 - accuracy: 0.9312 - val_loss: 0.1080 - val_accuracy: 0.9696 - 18s/epoch - 2s/step\n",
            "Epoch 38/50\n",
            "10/10 - 18s - loss: 0.1451 - accuracy: 0.9375 - val_loss: 0.0527 - val_accuracy: 0.9892 - 18s/epoch - 2s/step\n",
            "Epoch 39/50\n",
            "\n",
            "In Epoch 38 \n",
            "Accuracy has reach = 97.81% Training stop.\n",
            "\n",
            "In Epoch 38 \n",
            "Val Accuracy has reach = 98.24% Training stop.\n",
            "10/10 - 18s - loss: 0.0914 - accuracy: 0.9781 - val_loss: 0.0759 - val_accuracy: 0.9824 - 18s/epoch - 2s/step\n"
          ]
        }
      ],
      "source": [
        "#latih model\n",
        "history = model.fit(\n",
        "      train_generator,\n",
        "      batch_size=16,\n",
        "      steps_per_epoch=10, \n",
        "      epochs=50,\n",
        "      validation_data=validation_generator,\n",
        "      verbose=2,\n",
        "      shuffle=False,\n",
        "      callbacks = [Callback()]\n",
        ")"
      ]
    },
    {
      "cell_type": "code",
      "execution_count": 15,
      "metadata": {
        "colab": {
          "base_uri": "https://localhost:8080/",
          "height": 350
        },
        "id": "5F37vmN94hut",
        "outputId": "78133e5c-2f44-4ca8-cba9-36c92c68c982"
      },
      "outputs": [
        {
          "output_type": "display_data",
          "data": {
            "text/plain": [
              "<Figure size 720x360 with 1 Axes>"
            ],
            "image/png": "[encoded data removed]"
          },
          "metadata": {
            "needs_background": "light"
          }
        }
      ],
      "source": [
        "#plot akurasi\n",
        "import matplotlib.pyplot as plt\n",
        "\n",
        "plt.figure(figsize=(10,5))\n",
        "plt.title('Akurasi Model')\n",
        "plt.plot(history.history['accuracy'])\n",
        "plt.plot(history.history['val_accuracy'])\n",
        "plt.ylabel('accuracy')\n",
        "plt.xlabel('epoch')\n",
        "plt.legend(['train', 'test'], loc='upper left')\n",
        "plt.xticks([0,2,4,6,8,10,12,14,16,18,20,22,24,26,28,30,32,34,36,38,40,42,44,46,48,50])\n",
        "plt.grid(True)\n",
        "plt.show()"
      ]
    },
    {
      "cell_type": "code",
      "execution_count": 16,
      "metadata": {
        "colab": {
          "base_uri": "https://localhost:8080/",
          "height": 350
        },
        "id": "MhhQerCd4i-C",
        "outputId": "ba4fe3df-e811-47e9-bb91-4ad05b32ea1f"
      },
      "outputs": [
        {
          "output_type": "display_data",
          "data": {
            "text/plain": [
              "<Figure size 720x360 with 1 Axes>"
            ],
            "image/png": "[encoded data removed]"
          },
          "metadata": {
            "needs_background": "light"
          }
        }
      ],
      "source": [
        "#plot loss\n",
        "plt.rcParams['figure.figsize'] = (10, 5)\n",
        "plt.title('Loss Model')\n",
        "plt.plot(history.history['loss'])\n",
        "plt.plot(history.history['val_loss'])\n",
        "plt.ylabel('loss')\n",
        "plt.xlabel('epoch')\n",
        "plt.legend(['train', 'test'], loc='upper left')\n",
        "plt.xticks([0,2,4,6,8,10,12,14,16,18,20,22,24,26,28,30,32,34,36,38,40,42,44,46,48,50])\n",
        "plt.grid(True)\n",
        "plt.show()"
      ]
    },
    {
      "cell_type": "code",
      "execution_count": 17,
      "metadata": {
        "colab": {
          "base_uri": "https://localhost:8080/",
          "height": 382
        },
        "id": "r_kDJonw4i2w",
        "outputId": "cc389527-4add-4c5a-842b-746528f8e4b1"
      },
      "outputs": [
        {
          "output_type": "display_data",
          "data": {
            "text/plain": [
              "<IPython.core.display.HTML object>"
            ],
            "text/html": [
              "\n",
              "     <input type=\"file\" id=\"files-79c2994b-4ece-4e73-856e-8142aed76365\" name=\"files[]\" multiple disabled\n",
              "        style=\"border:none\" />\n",
              "     <output id=\"result-79c2994b-4ece-4e73-856e-8142aed76365\">\n",
              "      Upload widget is only available when the cell has been executed in the\n",
              "      current browser session. Please rerun this cell to enable.\n",
              "      </output>\n",
              "      <script>// Copyright 2017 Google LLC\n",
              "//\n",
              "// Licensed under the Apache License, Version 2.0 (the \"License\");\n",
              "// you may not use this file except in compliance with the License.\n",
              "// You may obtain a copy of the License at\n",
              "//\n",
              "//      http://www.apache.org/licenses/LICENSE-2.0\n",
              "//\n",
              "// Unless required by applicable law or agreed to in writing, software\n",
              "// distributed under the License is distributed on an \"AS IS\" BASIS,\n",
              "// WITHOUT WARRANTIES OR CONDITIONS OF ANY KIND, either express or implied.\n",
              "// See the License for the specific language governing permissions and\n",
              "// limitations under the License.\n",
              "\n",
              "/**\n",
              " * @fileoverview Helpers for google.colab Python module.\n",
              " */\n",
              "(function(scope) {\n",
              "function span(text, styleAttributes = {}) {\n",
              "  const element = document.createElement('span');\n",
              "  element.textContent = text;\n",
              "  for (const key of Object.keys(styleAttributes)) {\n",
              "    element.style[key] = styleAttributes[key];\n",
              "  }\n",
              "  return element;\n",
              "}\n",
              "\n",
              "// Max number of bytes which will be uploaded at a time.\n",
              "const MAX_PAYLOAD_SIZE = 100 * 1024;\n",
              "\n",
              "function _uploadFiles(inputId, outputId) {\n",
              "  const steps = uploadFilesStep(inputId, outputId);\n",
              "  const outputElement = document.getElementById(outputId);\n",
              "  // Cache steps on the outputElement to make it available for the next call\n",
              "  // to uploadFilesContinue from Python.\n",
              "  outputElement.steps = steps;\n",
              "\n",
              "  return _uploadFilesContinue(outputId);\n",
              "}\n",
              "\n",
              "// This is roughly an async generator (not supported in the browser yet),\n",
              "// where there are multiple asynchronous steps and the Python side is going\n",
              "// to poll for completion of each step.\n",
              "// This uses a Promise to block the python side on completion of each step,\n",
              "// then passes the result of the previous step as the input to the next step.\n",
              "function _uploadFilesContinue(outputId) {\n",
              "  const outputElement = document.getElementById(outputId);\n",
              "  const steps = outputElement.steps;\n",
              "\n",
              "  const next = steps.next(outputElement.lastPromiseValue);\n",
              "  return Promise.resolve(next.value.promise).then((value) => {\n",
              "    // Cache the last promise value to make it available to the next\n",
              "    // step of the generator.\n",
              "    outputElement.lastPromiseValue = value;\n",
              "    return next.value.response;\n",
              "  });\n",
              "}\n",
              "\n",
              "/**\n",
              " * Generator function which is called between each async step of the upload\n",
              " * process.\n",
              " * @param {string} inputId Element ID of the input file picker element.\n",
              " * @param {string} outputId Element ID of the output display.\n",
              " * @return {!Iterable<!Object>} Iterable of next steps.\n",
              " */\n",
              "function* uploadFilesStep(inputId, outputId) {\n",
              "  const inputElement = document.getElementById(inputId);\n",
              "  inputElement.disabled = false;\n",
              "\n",
              "  const outputElement = document.getElementById(outputId);\n",
              "  outputElement.innerHTML = '';\n",
              "\n",
              "  const pickedPromise = new Promise((resolve) => {\n",
              "    inputElement.addEventListener('change', (e) => {\n",
              "      resolve(e.target.files);\n",
              "    });\n",
              "  });\n",
              "\n",
              "  const cancel = document.createElement('button');\n",
              "  inputElement.parentElement.appendChild(cancel);\n",
              "  cancel.textContent = 'Cancel upload';\n",
              "  const cancelPromise = new Promise((resolve) => {\n",
              "    cancel.onclick = () => {\n",
              "      resolve(null);\n",
              "    };\n",
              "  });\n",
              "\n",
              "  // Wait for the user to pick the files.\n",
              "  const files = yield {\n",
              "    promise: Promise.race([pickedPromise, cancelPromise]),\n",
              "    response: {\n",
              "      action: 'starting',\n",
              "    }\n",
              "  };\n",
              "\n",
              "  cancel.remove();\n",
              "\n",
              "  // Disable the input element since further picks are not allowed.\n",
              "  inputElement.disabled = true;\n",
              "\n",
              "  if (!files) {\n",
              "    return {\n",
              "      response: {\n",
              "        action: 'complete',\n",
              "      }\n",
              "    };\n",
              "  }\n",
              "\n",
              "  for (const file of files) {\n",
              "    const li = document.createElement('li');\n",
              "    li.append(span(file.name, {fontWeight: 'bold'}));\n",
              "    li.append(span(\n",
              "        `(${file.type || 'n/a'}) - ${file.size} bytes, ` +\n",
              "        `last modified: ${\n",
              "            file.lastModifiedDate ? file.lastModifiedDate.toLocaleDateString() :\n",
              "                                    'n/a'} - `));\n",
              "    const percent = span('0% done');\n",
              "    li.appendChild(percent);\n",
              "\n",
              "    outputElement.appendChild(li);\n",
              "\n",
              "    const fileDataPromise = new Promise((resolve) => {\n",
              "      const reader = new FileReader();\n",
              "      reader.onload = (e) => {\n",
              "        resolve(e.target.result);\n",
              "      };\n",
              "      reader.readAsArrayBuffer(file);\n",
              "    });\n",
              "    // Wait for the data to be ready.\n",
              "    let fileData = yield {\n",
              "      promise: fileDataPromise,\n",
              "      response: {\n",
              "        action: 'continue',\n",
              "      }\n",
              "    };\n",
              "\n",
              "    // Use a chunked sending to avoid message size limits. See b/62115660.\n",
              "    let position = 0;\n",
              "    do {\n",
              "      const length = Math.min(fileData.byteLength - position, MAX_PAYLOAD_SIZE);\n",
              "      const chunk = new Uint8Array(fileData, position, length);\n",
              "      position += length;\n",
              "\n",
              "      const base64 = btoa(String.fromCharCode.apply(null, chunk));\n",
              "      yield {\n",
              "        response: {\n",
              "          action: 'append',\n",
              "          file: file.name,\n",
              "          data: base64,\n",
              "        },\n",
              "      };\n",
              "\n",
              "      let percentDone = fileData.byteLength === 0 ?\n",
              "          100 :\n",
              "          Math.round((position / fileData.byteLength) * 100);\n",
              "      percent.textContent = `${percentDone}% done`;\n",
              "\n",
              "    } while (position < fileData.byteLength);\n",
              "  }\n",
              "\n",
              "  // All done.\n",
              "  yield {\n",
              "    response: {\n",
              "      action: 'complete',\n",
              "    }\n",
              "  };\n",
              "}\n",
              "\n",
              "scope.google = scope.google || {};\n",
              "scope.google.colab = scope.google.colab || {};\n",
              "scope.google.colab._files = {\n",
              "  _uploadFiles,\n",
              "  _uploadFilesContinue,\n",
              "};\n",
              "})(self);\n",
              "</script> "
            ]
          },
          "metadata": {}
        },
        {
          "output_type": "stream",
          "name": "stdout",
          "text": [
            "Saving babi_aluih.jpg to babi_aluih.jpg\n",
            "1/1 [==============================] - 0s 169ms/step\n",
            "babi_aluih.jpg\n",
            "babi_aluih\n"
          ]
        },
        {
          "output_type": "display_data",
          "data": {
            "text/plain": [
              "<Figure size 432x288 with 1 Axes>"
            ],
            "image/png": "[encoded data removed]"
          },
          "metadata": {
            "needs_background": "light"
          }
        }
      ],
      "source": [
        "#Output prediksi dari model \n",
        "\n",
        "import tensorflow.keras\n",
        "import numpy as np\n",
        "from google.colab import files\n",
        "from tensorflow.keras.preprocessing import image\n",
        "import matplotlib.pyplot as plt\n",
        "import matplotlib.image as mpimg\n",
        "%matplotlib inline\n",
        "\n",
        "uploaded = files.upload()\n",
        " \n",
        "for fn in uploaded.keys():\n",
        "  #memprediksi\n",
        "  path = fn\n",
        "  gambar = image.load_img(path, target_size=(200,100))\n",
        "  imgplot = plt.imshow(gambar)\n",
        "  x = image.img_to_array(gambar)\n",
        "  x = np.expand_dims(x, axis=0)\n",
        " \n",
        "  images = np.vstack([x])\n",
        "  classes = model.predict(images, batch_size=16)\n",
        "  \n",
        "  print(fn)\n",
        "  if classes[0, 0] == 1:\n",
        "    print(\"babi_aluih\")\n",
        "  elif classes[0, 1] == 1:\n",
        "    print(\"babi_gadang\")\n",
        "  elif classes[0, 2] == 1:\n",
        "    print(\"babi_pusek\")\n",
        "  elif classes[0, 3] == 1:\n",
        "    print(\"batuang_aluih\")\n",
        "  elif classes[0, 4] == 1:\n",
        "    print(\"batuang_anam\")\n",
        "  elif classes[0, 5] == 1:\n",
        "    print(\"batuang_manih\")\n",
        "  elif classes[0, 6] == 1:\n",
        "    print(\"bengkok_aluih\")\n",
        "  elif classes[0, 7] == 1:\n",
        "    print(\"bengkok_gadang\")\n",
        "  elif classes[0, 8] == 1:\n",
        "    print(\"bengkok_hitam\")\n",
        "  elif classes[0, 9] == 1:\n",
        "    print(\"hiu_babak\")\n",
        "  elif classes[0, 10] == 1:\n",
        "    print(\"hiu_bungo\")\n",
        "  elif classes[0, 11] == 1:\n",
        "    print(\"hiu_gadang\")\n",
        "  elif classes[0, 12] == 1:\n",
        "    print(\"hiu_hitam\")\n",
        "  elif classes[0, 13] == 1:\n",
        "    print(\"hiu_kuciang\")\n",
        "  elif classes[0, 14] == 1:\n",
        "    print(\"hiu_pinci\")\n",
        "  elif classes[0, 15] == 1:\n",
        "    print(\"jarum_aluih\")\n",
        "  elif classes[0, 16] == 1:\n",
        "    print(\"jarum_gadang\")\n",
        "  elif classes[0, 17] == 1:\n",
        "    print(\"jarum_hitam\")\n",
        "  elif classes[0, 18] == 1:\n",
        "    print(\"pacah_aluih\")\n",
        "  elif classes[0, 19] == 1:\n",
        "    print(\"pacah_delapan\")\n",
        "  elif classes[0, 20] == 1:\n",
        "    print(\"pacah_manih\")\n",
        "  elif classes[0, 21] == 1:\n",
        "    print(\"sisiak_aluih\")\n",
        "  elif classes[0, 22] == 1:\n",
        "    print(\"sisiak_bendera\")\n",
        "  elif classes[0, 23] == 1:\n",
        "    print(\"sisiak_gadang\")\n",
        "  elif classes[0, 24] == 1:\n",
        "    print(\"suduang_aluih\")\n",
        "  elif classes[0, 25] == 1:\n",
        "    print(\"suduang_hitam\")\n",
        "  elif classes[0, 26] == 1:\n",
        "    print(\"suduang_pinggang\")\n",
        "  elif classes[0, 27] == 1:\n",
        "    print(\"tali_aluih\")\n",
        "  elif classes[0, 28] == 1:\n",
        "    print(\"tali_bulek\")\n",
        "  elif classes[0, 29] == 1:\n",
        "    print(\"tali_merah\")\n",
        "  else:\n",
        "    print(\"no matching data\")"
      ]
    },
    {
      "cell_type": "code",
      "source": [
        "#melakukan extract file zip\n",
        "import zipfile,os\n",
        "local_zip = '/content/drive/MyDrive/Skripsi/Program/test.zip'\n",
        "base_dir = '/content/test'\n",
        "zip_ref = zipfile.ZipFile(local_zip, 'r')\n",
        "zip_ref.extractall('/content')\n",
        "zip_ref.close()\n",
        "\n",
        "test_datagen = ImageDataGenerator(rescale=1./255)\n",
        "test_generator = test_datagen.flow_from_directory(base_dir, target_size=(200, 100), batch_size=32, shuffle=False)\n",
        "\n",
        "#Confution Matrix\n",
        "from sklearn.metrics import confusion_matrix\n",
        "from sklearn.metrics import classification_report\n",
        "\n",
        "Y_pred = model.predict(test_generator)\n",
        "y_pred = np.argmax(Y_pred, axis=1)\n",
        "\n",
        "print('Confusion Matrix')\n",
        "print(confusion_matrix(test_generator.classes, y_pred))"
      ],
      "metadata": {
        "colab": {
          "base_uri": "https://localhost:8080/"
        },
        "id": "nStqlgnR2-Tz",
        "outputId": "308c0903-640d-4b45-fb33-20883129fb88"
      },
      "execution_count": 18,
      "outputs": [
        {
          "output_type": "stream",
          "name": "stdout",
          "text": [
            "Found 90 images belonging to 30 classes.\n",
            "3/3 [==============================] - 1s 171ms/step\n",
            "Confusion Matrix\n",
            "[[3 0 0 0 0 0 0 0 0 0 0 0 0 0 0 0 0 0 0 0 0 0 0 0 0 0 0 0 0 0]\n",
            " [0 2 0 0 0 0 0 0 0 0 0 0 0 0 0 0 0 0 0 0 0 0 0 1 0 0 0 0 0 0]\n",
            " [0 0 3 0 0 0 0 0 0 0 0 0 0 0 0 0 0 0 0 0 0 0 0 0 0 0 0 0 0 0]\n",
            " [0 0 0 3 0 0 0 0 0 0 0 0 0 0 0 0 0 0 0 0 0 0 0 0 0 0 0 0 0 0]\n",
            " [0 0 0 0 3 0 0 0 0 0 0 0 0 0 0 0 0 0 0 0 0 0 0 0 0 0 0 0 0 0]\n",
            " [0 0 0 0 0 3 0 0 0 0 0 0 0 0 0 0 0 0 0 0 0 0 0 0 0 0 0 0 0 0]\n",
            " [0 0 0 0 0 0 3 0 0 0 0 0 0 0 0 0 0 0 0 0 0 0 0 0 0 0 0 0 0 0]\n",
            " [0 0 0 0 0 0 0 3 0 0 0 0 0 0 0 0 0 0 0 0 0 0 0 0 0 0 0 0 0 0]\n",
            " [0 0 0 0 0 0 0 0 3 0 0 0 0 0 0 0 0 0 0 0 0 0 0 0 0 0 0 0 0 0]\n",
            " [0 0 0 0 0 0 0 0 0 3 0 0 0 0 0 0 0 0 0 0 0 0 0 0 0 0 0 0 0 0]\n",
            " [0 0 0 0 0 0 0 0 0 0 3 0 0 0 0 0 0 0 0 0 0 0 0 0 0 0 0 0 0 0]\n",
            " [0 0 0 0 0 0 0 0 0 0 0 3 0 0 0 0 0 0 0 0 0 0 0 0 0 0 0 0 0 0]\n",
            " [0 0 0 0 0 0 0 0 0 0 0 0 3 0 0 0 0 0 0 0 0 0 0 0 0 0 0 0 0 0]\n",
            " [0 0 0 0 0 0 0 0 0 0 0 0 0 2 0 0 0 0 0 0 0 0 0 0 0 0 0 0 1 0]\n",
            " [0 0 0 0 0 0 0 0 0 0 0 0 0 0 3 0 0 0 0 0 0 0 0 0 0 0 0 0 0 0]\n",
            " [0 0 0 0 0 0 0 0 0 0 0 0 0 0 0 3 0 0 0 0 0 0 0 0 0 0 0 0 0 0]\n",
            " [0 0 0 0 0 0 0 0 0 0 0 0 0 0 0 0 3 0 0 0 0 0 0 0 0 0 0 0 0 0]\n",
            " [0 0 0 0 0 0 0 0 0 0 0 0 0 0 0 0 0 3 0 0 0 0 0 0 0 0 0 0 0 0]\n",
            " [0 0 0 0 0 0 0 0 0 0 0 0 0 0 0 0 0 0 3 0 0 0 0 0 0 0 0 0 0 0]\n",
            " [0 0 0 0 0 0 0 0 0 0 0 0 0 0 0 0 0 0 0 3 0 0 0 0 0 0 0 0 0 0]\n",
            " [0 0 0 0 0 0 0 0 0 0 0 0 0 0 0 0 0 0 0 0 3 0 0 0 0 0 0 0 0 0]\n",
            " [0 0 0 0 0 0 0 0 0 0 0 0 0 0 0 0 0 0 0 0 0 3 0 0 0 0 0 0 0 0]\n",
            " [0 0 0 0 0 0 0 0 0 0 0 0 0 0 0 0 0 0 0 0 0 0 3 0 0 0 0 0 0 0]\n",
            " [0 0 0 0 0 0 0 0 0 0 0 0 0 0 0 0 0 0 0 0 0 0 0 3 0 0 0 0 0 0]\n",
            " [0 0 0 0 0 0 0 0 0 0 0 0 0 0 0 0 0 0 0 0 0 0 0 0 3 0 0 0 0 0]\n",
            " [0 0 0 0 0 0 0 0 0 0 0 0 0 0 0 0 0 0 0 0 0 0 0 0 0 3 0 0 0 0]\n",
            " [0 0 0 0 0 0 0 0 0 0 0 0 0 0 0 0 0 0 0 0 0 0 0 0 0 0 3 0 0 0]\n",
            " [0 0 0 0 0 0 0 0 0 0 0 0 0 0 0 0 0 0 0 0 0 0 0 0 0 0 0 3 0 0]\n",
            " [0 0 0 0 0 0 0 0 0 0 0 0 0 0 0 0 0 0 0 0 0 0 0 0 0 0 0 0 3 0]\n",
            " [0 0 0 0 0 0 0 0 0 0 0 0 0 0 0 0 0 0 0 0 0 0 0 0 0 0 0 0 0 3]]\n"
          ]
        }
      ]
    },
    {
      "cell_type": "code",
      "source": [
        "import seaborn as sns\n",
        "import matplotlib.pyplot as plt\n",
        "f, ax = plt.subplots(figsize=(15,15))\n",
        "sns.heatmap(confusion_matrix(test_generator.classes, y_pred), annot=True, fmt=\".0f\", ax=ax)\n",
        "plt.xlabel(\"Predict Label\")\n",
        "plt.ylabel(\"True Label\")\n",
        "plt.show()"
      ],
      "metadata": {
        "colab": {
          "base_uri": "https://localhost:8080/",
          "height": 881
        },
        "id": "VBFBDoQm0pU8",
        "outputId": "b32df682-f203-4322-a7b9-c20f0201d641"
      },
      "execution_count": 25,
      "outputs": [
        {
          "output_type": "display_data",
          "data": {
            "text/plain": [
              "<Figure size 1080x1080 with 2 Axes>"
            ],
            "image/png": "[encoded data removed]"
          },
          "metadata": {
            "needs_background": "light"
          }
        }
      ]
    },
    {
      "cell_type": "code",
      "source": [
        "print('\\n Classification Report')\n",
        "target_names = ['babi_aluih',\n",
        " 'babi_gadang',\n",
        " 'babi_pusek',\n",
        " 'batuang_aluih',\n",
        " 'batuang_anam',\n",
        " 'batuang_manih',\n",
        " 'bengkok_aluih',\n",
        " 'bengkok_gadang',\n",
        " 'bengkok_hitam',\n",
        " 'hiu_babak',\n",
        " 'hiu_bungo',\n",
        " 'hiu_gadang',\n",
        " 'hiu_hitam',\n",
        " 'hiu_kuciang',\n",
        " 'hiu_pinci',\n",
        " 'jarum_aluih',\n",
        " 'jarum_gadang',\n",
        " 'jarum_hitam',\n",
        " 'suduang_aluih',\n",
        " 'suduang_hitam',\n",
        " 'suduang_pinggang',\n",
        " 'pacah_aluih',\n",
        " 'pacah_delapan',\n",
        " 'pacah_manih',\n",
        " 'sisiak_aluih',\n",
        " 'sisiak_gadang',\n",
        " 'sisiak_bendera',\n",
        " 'tali_aluih',\n",
        " 'tali_bulek',\n",
        " 'tali_merah']\n",
        "\n",
        "print(classification_report(test_generator.classes, y_pred, target_names=target_names))"
      ],
      "metadata": {
        "colab": {
          "base_uri": "https://localhost:8080/"
        },
        "id": "4E8g9FDDB08S",
        "outputId": "f9841632-0fb9-4139-82b1-51dec499014a"
      },
      "execution_count": 26,
      "outputs": [
        {
          "output_type": "stream",
          "name": "stdout",
          "text": [
            "\n",
            " Classification Report\n",
            "                  precision    recall  f1-score   support\n",
            "\n",
            "      babi_aluih       1.00      1.00      1.00         3\n",
            "     babi_gadang       1.00      0.67      0.80         3\n",
            "      babi_pusek       1.00      1.00      1.00         3\n",
            "   batuang_aluih       1.00      1.00      1.00         3\n",
            "    batuang_anam       1.00      1.00      1.00         3\n",
            "   batuang_manih       1.00      1.00      1.00         3\n",
            "   bengkok_aluih       1.00      1.00      1.00         3\n",
            "  bengkok_gadang       1.00      1.00      1.00         3\n",
            "   bengkok_hitam       1.00      1.00      1.00         3\n",
            "       hiu_babak       1.00      1.00      1.00         3\n",
            "       hiu_bungo       1.00      1.00      1.00         3\n",
            "      hiu_gadang       1.00      1.00      1.00         3\n",
            "       hiu_hitam       1.00      1.00      1.00         3\n",
            "     hiu_kuciang       1.00      0.67      0.80         3\n",
            "       hiu_pinci       1.00      1.00      1.00         3\n",
            "     jarum_aluih       1.00      1.00      1.00         3\n",
            "    jarum_gadang       1.00      1.00      1.00         3\n",
            "     jarum_hitam       1.00      1.00      1.00         3\n",
            "   suduang_aluih       1.00      1.00      1.00         3\n",
            "   suduang_hitam       1.00      1.00      1.00         3\n",
            "suduang_pinggang       1.00      1.00      1.00         3\n",
            "     pacah_aluih       1.00      1.00      1.00         3\n",
            "   pacah_delapan       1.00      1.00      1.00         3\n",
            "     pacah_manih       0.75      1.00      0.86         3\n",
            "    sisiak_aluih       1.00      1.00      1.00         3\n",
            "   sisiak_gadang       1.00      1.00      1.00         3\n",
            "  sisiak_bendera       1.00      1.00      1.00         3\n",
            "      tali_aluih       1.00      1.00      1.00         3\n",
            "      tali_bulek       0.75      1.00      0.86         3\n",
            "      tali_merah       1.00      1.00      1.00         3\n",
            "\n",
            "        accuracy                           0.98        90\n",
            "       macro avg       0.98      0.98      0.98        90\n",
            "    weighted avg       0.98      0.98      0.98        90\n",
            "\n"
          ]
        }
      ]
    }
  ],
  "metadata": {
    "colab": {
      "provenance": [],
      "authorship_tag": "ABX9TyN1X9K5gISqaZK8T2fEOqFc",
      "include_colab_link": true
    },
    "kernelspec": {
      "display_name": "Python 3",
      "name": "python3"
    },
    "language_info": {
      "name": "python"
    }
  },
  "nbformat": 4,
  "nbformat_minor": 0
}