{
  "nbformat": 4,
  "nbformat_minor": 0,
  "metadata": {
    "colab": {
      "provenance": [],
      "collapsed_sections": [],
      "authorship_tag": "ABX9TyPV/fWuOHvzYwSIx6mnv6HQ",
      "include_colab_link": true
    },
    "kernelspec": {
      "name": "python3",
      "display_name": "Python 3"
    },
    "language_info": {
      "name": "python"
    }
  },
  "cells": [
    {
      "cell_type": "markdown",
      "metadata": {
        "id": "view-in-github",
        "colab_type": "text"
      },
      "source": [
        "<a href=\"https://colab.research.google.com/github/Maulana2798/identifikasi/blob/main/prediksi_koa.ipynb\" target=\"_parent\"><img src=\"https://colab.research.google.com/assets/colab-badge.svg\" alt=\"Open In Colab\"/></a>"
      ]
    },
    {
      "cell_type": "code",
      "execution_count": 1,
      "metadata": {
        "colab": {
          "base_uri": "https://localhost:8080/"
        },
        "id": "fd6oB-6-4ZqT",
        "outputId": "dda178ea-4ad8-4f77-9790-51da1b5a654d"
      },
      "outputs": [
        {
          "output_type": "stream",
          "name": "stdout",
          "text": [
            "2.9.2\n"
          ]
        }
      ],
      "source": [
        "#import library tensorflow\n",
        "import tensorflow as tf\n",
        "from tensorflow.keras.preprocessing.image import ImageDataGenerator\n",
        "\n",
        "#memasitikan versi tensorflow\n",
        "print(tf.__version__)"
      ]
    },
    {
      "cell_type": "code",
      "source": [
        "from google.colab import drive\n",
        "drive.mount('/content/drive')"
      ],
      "metadata": {
        "colab": {
          "base_uri": "https://localhost:8080/"
        },
        "id": "LBN92ZJs4n0z",
        "outputId": "6fb64f3e-dba4-4fcf-8e9a-e68533a678d8"
      },
      "execution_count": 2,
      "outputs": [
        {
          "output_type": "stream",
          "name": "stdout",
          "text": [
            "Drive already mounted at /content/drive; to attempt to forcibly remount, call drive.mount(\"/content/drive\", force_remount=True).\n"
          ]
        }
      ]
    },
    {
      "cell_type": "code",
      "source": [
        "#melakukan extract file zip\n",
        "import zipfile,os\n",
        "local_zip = '/content/drive/MyDrive/Skripsi/Program/koa.zip'\n",
        "base_dir = '/content/koa/koa-val-image'\n",
        "zip_ref = zipfile.ZipFile(local_zip, 'r')\n",
        "zip_ref.extractall('/content')\n",
        "zip_ref.close()\n"
      ],
      "metadata": {
        "id": "uIOlI7w03Prp"
      },
      "execution_count": 3,
      "outputs": []
    },
    {
      "cell_type": "code",
      "source": [
        "#mendefinisikan nama direktori untuk data latih dan data validasi\n",
        "train_dir = os.path.join(base_dir, 'koa')\n",
        "validation_dir = os.path.join(base_dir, 'koa/koa-val-image')"
      ],
      "metadata": {
        "id": "Dm7YZ3mW3syH"
      },
      "execution_count": 4,
      "outputs": []
    },
    {
      "cell_type": "code",
      "source": [
        "#cek direktori data train\n",
        "os.listdir('/content/koa')"
      ],
      "metadata": {
        "colab": {
          "base_uri": "https://localhost:8080/"
        },
        "id": "2ASkHV87316L",
        "outputId": "9b16c406-dcf0-475d-a987-a2a290b58f02"
      },
      "execution_count": 5,
      "outputs": [
        {
          "output_type": "execute_result",
          "data": {
            "text/plain": [
              "['batuang_aluih',\n",
              " 'pacah_delapan',\n",
              " 'babi_pusek',\n",
              " 'tali_bulek',\n",
              " 'babi_gadang',\n",
              " 'suduang_hitam',\n",
              " 'hiu_pinci',\n",
              " 'suduang_pinggang',\n",
              " 'bengkok_hitam',\n",
              " 'tali_merah',\n",
              " 'pacah_aluih',\n",
              " 'batuang_anam',\n",
              " 'bengkok_gadang',\n",
              " 'hiu_gadang',\n",
              " 'jarum_aluih',\n",
              " 'sisiak_gadang',\n",
              " 'hiu_hitam',\n",
              " 'bengkok_aluih',\n",
              " 'babi_aluih',\n",
              " 'batuang_manih',\n",
              " 'jarum_gadang',\n",
              " 'jarum_hitam',\n",
              " 'pacah_manih',\n",
              " 'hiu_bungo',\n",
              " 'suduang_aluih',\n",
              " 'koa-val-image',\n",
              " 'sisiak_bendera',\n",
              " 'sisiak_aluih',\n",
              " 'tali_aluih',\n",
              " 'hiu_babak',\n",
              " 'hiu_kuciang']"
            ]
          },
          "metadata": {},
          "execution_count": 5
        }
      ]
    },
    {
      "cell_type": "code",
      "source": [
        "#cek direktori data valiadtion\n",
        "os.listdir('/content/koa/koa-val-image')"
      ],
      "metadata": {
        "colab": {
          "base_uri": "https://localhost:8080/"
        },
        "id": "TluoRcZH312O",
        "outputId": "beeabd85-4ffb-4e8a-ce24-32092d1fda31"
      },
      "execution_count": 6,
      "outputs": [
        {
          "output_type": "execute_result",
          "data": {
            "text/plain": [
              "['batuang_aluih',\n",
              " 'pacah_delapan',\n",
              " 'babi_pusek',\n",
              " 'tali_bulek',\n",
              " 'babi_gadang',\n",
              " 'suduang_hitam',\n",
              " 'hiu_pinci',\n",
              " 'suduang_pinggang',\n",
              " 'bengkok_hitam',\n",
              " 'tali_merah',\n",
              " 'pacah_aluih',\n",
              " 'batuang_anam',\n",
              " 'bengkok_gadang',\n",
              " 'hiu_gadang',\n",
              " 'jarum_aluih',\n",
              " 'sisiak_gadang',\n",
              " 'hiu_hitam',\n",
              " 'bengkok_aluih',\n",
              " 'babi_aluih',\n",
              " 'batuang_manih',\n",
              " 'jarum_gadang',\n",
              " 'jarum_hitam',\n",
              " 'pacah_manih',\n",
              " 'hiu_bungo',\n",
              " 'suduang_aluih',\n",
              " 'sisiak_bendera',\n",
              " 'sisiak_aluih',\n",
              " 'tali_aluih',\n",
              " 'hiu_babak',\n",
              " 'hiu_kuciang']"
            ]
          },
          "metadata": {},
          "execution_count": 6
        }
      ]
    },
    {
      "cell_type": "code",
      "source": [
        "#membuat direktori rockpaperscissors pada data training\n",
        "train_babi_aluih_dir = os.path.join(train_dir, 'babi_aluih')\n",
        "train_babi_gadang_dir = os.path.join(train_dir, 'babi_gadang')\n",
        "train_babi_pusek_dir = os.path.join(train_dir, 'babi_pusek')\n",
        "train_batuang_aluih_dir = os.path.join(train_dir, 'batuang_aluih')\n",
        "train_batuang_anam_dir = os.path.join(train_dir, 'batuang_anam')\n",
        "train_batuang_manih_dir = os.path.join(train_dir, 'batuang_manih')\n",
        "train_bengkok_aluih_dir = os.path.join(train_dir, 'bengkok_aluih')\n",
        "train_bengkok_gadang_dir = os.path.join(train_dir, 'bengkok_gadang')\n",
        "train_bengkok_hitam_dir = os.path.join(train_dir, 'bengkok_hitam')\n",
        "train_hiu_babak_dir = os.path.join(train_dir, 'hiu_babak')\n",
        "train_hiu_bungo_dir = os.path.join(train_dir, 'hiu_bungo')\n",
        "train_hiu_gadang_dir = os.path.join(train_dir, 'hiu_gadang')\n",
        "train_hiu_hitam_dir = os.path.join(train_dir, 'hiu_hitam')\n",
        "train_hiu_kuciang_dir = os.path.join(train_dir, 'hiu_kuciang')\n",
        "train_hiu__pinci_dir = os.path.join(train_dir, 'hiu_pinci')\n",
        "train_jarum_aluih_dir = os.path.join(train_dir, 'jarum_aluih')\n",
        "train_jarum_gadang_dir = os.path.join(train_dir, 'jarum_gadang')\n",
        "train_jarum_hitam_dir = os.path.join(train_dir, 'jarum_hitam')\n",
        "train_pacah_aluih_dir = os.path.join(train_dir, 'pacah_aluih')\n",
        "train_pacah_delapan_dir = os.path.join(train_dir, 'pacah_delapan')\n",
        "train_pacah_manih_dir = os.path.join(train_dir, 'pacah_manih')\n",
        "train_sisiak_aluih_dir = os.path.join(train_dir, 'sisiak_aluih')\n",
        "train_sisiak_bendera_dir = os.path.join(train_dir, 'sisiak_bendera')\n",
        "train_sisiak_gadang_dir = os.path.join(train_dir, 'sisiak_gadang')\n",
        "train_suduang_aluih_dir = os.path.join(train_dir, 'suduang_aluih')\n",
        "train_suduang_hitam_dir = os.path.join(train_dir, 'suduang_hitam')\n",
        "train_suduang_pinggang_dir = os.path.join(train_dir, 'suduang_pinggang')\n",
        "train_tali_aluih_dir = os.path.join(train_dir, 'tali_aluih')\n",
        "train_tali_bulek_dir = os.path.join(train_dir, 'tali_bulek')\n",
        "train_tali_merah_dir = os.path.join(train_dir, 'tali_merah')\n",
        "\n",
        "#membuat direktori rockpaperscissor pada data c=validasi\n",
        "validation_babi_aluih_dir = os.path.join(validation_dir, 'babi_aluih')\n",
        "validation_babi_gadang_dir = os.path.join(validation_dir, 'babi_gadang')\n",
        "validation_babi_pusek_dir = os.path.join(validation_dir, 'babi_pusek')\n",
        "validation_batuang_aluih_dir = os.path.join(validation_dir, 'batuang_aluih')\n",
        "validation_batuang_anam_dir = os.path.join(validation_dir, 'batuang_anam')\n",
        "validation_batuang_manih_dir = os.path.join(validation_dir, 'batuang_manih')\n",
        "validation_bengkok_aluih_dir = os.path.join(validation_dir, 'bengkok_aluih')\n",
        "validation_bengkok_gadang_dir = os.path.join(validation_dir, 'bengkok_gadang')\n",
        "validation_bengkok_hitam_dir = os.path.join(validation_dir, 'bengkok_hitam')\n",
        "validation_hiu_babak_dir = os.path.join(validation_dir, 'hiu_babak')\n",
        "validation_hiu_bungo_dir = os.path.join(validation_dir, 'hiu_bungo')\n",
        "validation_hiu_gadang_dir = os.path.join(validation_dir, 'hiu_gadang')\n",
        "validation_hiu_hitam_dir = os.path.join(validation_dir, 'hiu_hitam')\n",
        "validation_hiu_kuciang_dir = os.path.join(validation_dir, 'hiu_kuciang')\n",
        "validation_hiu__pinci_dir = os.path.join(validation_dir, 'hiu_pinci')\n",
        "validation_jarum_aluih_dir = os.path.join(validation_dir, 'jarum_aluih')\n",
        "validation_jarum_gadang_dir = os.path.join(validation_dir, 'jarum_gadang')\n",
        "validation_jarum_hitam_dir = os.path.join(validation_dir, 'jarum_hitam')\n",
        "validation_pacah_aluih_dir = os.path.join(validation_dir, 'pacah_aluih')\n",
        "validation_pacah_delapan_dir = os.path.join(validation_dir, 'pacah_delapan')\n",
        "validation_pacah_manih_dir = os.path.join(validation_dir, 'pacah_manih')\n",
        "validation_sisiak_aluih_dir = os.path.join(validation_dir, 'sisiak_aluih')\n",
        "validation_sisiak_bendera_dir = os.path.join(validation_dir, 'sisiak_bendera')\n",
        "validation_sisiak_gadang_dir = os.path.join(validation_dir, 'sisiak_gadang')\n",
        "validation_suduang_aluih_dir = os.path.join(validation_dir, 'suduang_aluih')\n",
        "validation_suduang_hitam_dir = os.path.join(validation_dir, 'suduang_hitam')\n",
        "validation_suduang_pinggang_dir = os.path.join(validation_dir, 'suduang_pinggang')\n",
        "validation_tali_aluih_dir = os.path.join(validation_dir, 'tali_aluih')\n",
        "validation_tali_bulek_dir = os.path.join(validation_dir, 'tali_bulek')\n",
        "validation_tali_merah_dir = os.path.join(validation_dir, 'tali_merah')"
      ],
      "metadata": {
        "id": "c00JwmNp31x1"
      },
      "execution_count": 7,
      "outputs": []
    },
    {
      "cell_type": "code",
      "source": [
        "#membuat objek untuk data training\n",
        "from tensorflow.keras.preprocessing.image import ImageDataGenerator\n",
        "\n",
        "train_datagen = ImageDataGenerator(\n",
        "                    rescale = 1./255,\n",
        "                    rotation_range = 20,\n",
        "                    horizontal_flip = True,\n",
        "                    shear_range = 0.2,\n",
        "                    fill_mode = 'nearest',\n",
        "                    validation_split = 0.2 #ukuran validation 20%\n",
        ")"
      ],
      "metadata": {
        "id": "1h1jilVq31so"
      },
      "execution_count": 8,
      "outputs": []
    },
    {
      "cell_type": "code",
      "source": [
        "#mempersiapkan data latih yang akan dipelajari model\n",
        "train_generator = train_datagen.flow_from_directory(\n",
        "        base_dir,\n",
        "        target_size = (100, 150),\n",
        "        batch_size = 4,\n",
        "        subset = 'training',\n",
        "        class_mode = 'categorical'\n",
        "        #shuffle = True\n",
        ")\n",
        "\n",
        "validation_generator = train_datagen.flow_from_directory(\n",
        "        base_dir,\n",
        "        target_size = (100, 150),\n",
        "        batch_size = 4,\n",
        "        subset = 'validation',\n",
        "        class_mode = 'categorical'\n",
        "        #shuffle = True\n",
        ")"
      ],
      "metadata": {
        "colab": {
          "base_uri": "https://localhost:8080/"
        },
        "id": "IfpincMa31lA",
        "outputId": "6d412472-9f59-4844-d1be-44d23de2382e"
      },
      "execution_count": 9,
      "outputs": [
        {
          "output_type": "stream",
          "name": "stdout",
          "text": [
            "Found 2360 images belonging to 30 classes.\n",
            "Found 590 images belonging to 30 classes.\n"
          ]
        }
      ]
    },
    {
      "cell_type": "code",
      "source": [
        "#membangun model sequential\n",
        "from tensorflow.keras.optimizers import  RMSprop\n",
        "from tensorflow.keras.models import  Sequential\n",
        "from tensorflow.keras.optimizers import Adam\n",
        "from tensorflow.keras.layers import Flatten, Conv2D, MaxPooling2D, Dense, Dropout\n",
        "\n",
        "model = tf.keras.models.Sequential([\n",
        "    tf.keras.layers.Conv2D(32, (3,3), activation='relu', input_shape=(100, 150, 3)),\n",
        "    tf.keras.layers.MaxPool2D(2, 2),\n",
        "    tf.keras.layers.Conv2D(64, (3,3), activation='relu'),\n",
        "    tf.keras.layers.MaxPool2D(2, 2),\n",
        "    tf.keras.layers.Conv2D(128, (3,3), activation='relu'),\n",
        "    tf.keras.layers.MaxPool2D(2, 2),\n",
        "    tf.keras.layers.Conv2D(128, (3,3), activation='relu'),\n",
        "    tf.keras.layers.MaxPool2D(2, 2),\n",
        "\n",
        "    tf.keras.layers.Dropout(0.5),\n",
        "    tf.keras.layers.Flatten(),\n",
        "    tf.keras.layers.Dense(512, activation='relu'),\n",
        "    tf.keras.layers.Dense(30, activation='softmax')\n",
        "])  "
      ],
      "metadata": {
        "id": "T98S5G-E31dH"
      },
      "execution_count": 10,
      "outputs": []
    },
    {
      "cell_type": "code",
      "source": [
        "# compile model dengan 'adam' optimizer loss function 'categorical_crossentropy'\n",
        "\n",
        "model.compile(\n",
        "         loss ='categorical_crossentropy',\n",
        "         optimizer = tf.optimizers.Adam(),\n",
        "         metrics = ['accuracy']\n",
        ")"
      ],
      "metadata": {
        "id": "4NWc1cqF4S-S"
      },
      "execution_count": 11,
      "outputs": []
    },
    {
      "cell_type": "code",
      "source": [
        "#ringkasan model\n",
        "model.summary()"
      ],
      "metadata": {
        "colab": {
          "base_uri": "https://localhost:8080/"
        },
        "id": "NEeh0GnY4S6u",
        "outputId": "4678f77d-e853-4bcf-960f-14c1e4827e3a"
      },
      "execution_count": 12,
      "outputs": [
        {
          "output_type": "stream",
          "name": "stdout",
          "text": [
            "Model: \"sequential\"\n",
            "_________________________________________________________________\n",
            " Layer (type)                Output Shape              Param #   \n",
            "=================================================================\n",
            " conv2d (Conv2D)             (None, 98, 148, 32)       896       \n",
            "                                                                 \n",
            " max_pooling2d (MaxPooling2D  (None, 49, 74, 32)       0         \n",
            " )                                                               \n",
            "                                                                 \n",
            " conv2d_1 (Conv2D)           (None, 47, 72, 64)        18496     \n",
            "                                                                 \n",
            " max_pooling2d_1 (MaxPooling  (None, 23, 36, 64)       0         \n",
            " 2D)                                                             \n",
            "                                                                 \n",
            " conv2d_2 (Conv2D)           (None, 21, 34, 128)       73856     \n",
            "                                                                 \n",
            " max_pooling2d_2 (MaxPooling  (None, 10, 17, 128)      0         \n",
            " 2D)                                                             \n",
            "                                                                 \n",
            " conv2d_3 (Conv2D)           (None, 8, 15, 128)        147584    \n",
            "                                                                 \n",
            " max_pooling2d_3 (MaxPooling  (None, 4, 7, 128)        0         \n",
            " 2D)                                                             \n",
            "                                                                 \n",
            " dropout (Dropout)           (None, 4, 7, 128)         0         \n",
            "                                                                 \n",
            " flatten (Flatten)           (None, 3584)              0         \n",
            "                                                                 \n",
            " dense (Dense)               (None, 512)               1835520   \n",
            "                                                                 \n",
            " dense_1 (Dense)             (None, 30)                15390     \n",
            "                                                                 \n",
            "=================================================================\n",
            "Total params: 2,091,742\n",
            "Trainable params: 2,091,742\n",
            "Non-trainable params: 0\n",
            "_________________________________________________________________\n"
          ]
        }
      ]
    },
    {
      "cell_type": "code",
      "source": [
        "#callback untuk stop traing jika akurasi telah dicapai\n",
        "class Callback(tf.keras.callbacks.Callback):\n",
        "  def on_epoch_end(self, epoch, logs = None):\n",
        "    if(logs.get('accuracy') > 0.90 and logs.get('val_accuracy') > 0.90):\n",
        "      print('\\nIn Epoch', epoch, '\\nAccuracy has reach = %2.2f%%' %(logs['accuracy']*100), 'Training stop.')\n",
        "      print('\\nIn Epoch', epoch, '\\nVal Accuracy has reach = %2.2f%%' %(logs['val_accuracy']*100), 'Training stop.')\n",
        "      self.model.stop_training = True\n",
        "callbacks = Callback()"
      ],
      "metadata": {
        "id": "WwuK2-st4S3P"
      },
      "execution_count": 13,
      "outputs": []
    },
    {
      "cell_type": "code",
      "source": [
        "#latih model dengan model.fit\n",
        "history = model.fit(\n",
        "      train_generator,\n",
        "      steps_per_epoch=30,\n",
        "      epochs=100,\n",
        "      validation_data=validation_generator,\n",
        "      validation_steps=4,\n",
        "      #shuffle = True,\n",
        "      verbose=2,\n",
        "      callbacks = [Callback()]\n",
        ")"
      ],
      "metadata": {
        "id": "Z4eCst0o4Sz_",
        "colab": {
          "base_uri": "https://localhost:8080/"
        },
        "outputId": "afd73fcc-1c48-4404-a3b5-d262b0573a56"
      },
      "execution_count": 14,
      "outputs": [
        {
          "output_type": "stream",
          "name": "stdout",
          "text": [
            "Epoch 1/100\n",
            "30/30 - 12s - loss: 3.4520 - accuracy: 0.0333 - val_loss: 3.3893 - val_accuracy: 0.0000e+00 - 12s/epoch - 392ms/step\n",
            "Epoch 2/100\n",
            "30/30 - 5s - loss: 3.4123 - accuracy: 0.0250 - val_loss: 3.3753 - val_accuracy: 0.1250 - 5s/epoch - 165ms/step\n",
            "Epoch 3/100\n",
            "30/30 - 5s - loss: 3.3981 - accuracy: 0.0333 - val_loss: 3.3824 - val_accuracy: 0.1250 - 5s/epoch - 163ms/step\n",
            "Epoch 4/100\n",
            "30/30 - 5s - loss: 3.2825 - accuracy: 0.0917 - val_loss: 2.9747 - val_accuracy: 0.1250 - 5s/epoch - 164ms/step\n",
            "Epoch 5/100\n",
            "30/30 - 5s - loss: 3.3989 - accuracy: 0.0667 - val_loss: 3.2193 - val_accuracy: 0.0000e+00 - 5s/epoch - 163ms/step\n",
            "Epoch 6/100\n",
            "30/30 - 5s - loss: 3.1235 - accuracy: 0.1000 - val_loss: 3.4233 - val_accuracy: 0.0000e+00 - 5s/epoch - 164ms/step\n",
            "Epoch 7/100\n",
            "30/30 - 5s - loss: 3.2483 - accuracy: 0.0333 - val_loss: 2.9898 - val_accuracy: 0.1875 - 5s/epoch - 163ms/step\n",
            "Epoch 8/100\n",
            "30/30 - 5s - loss: 3.1462 - accuracy: 0.0417 - val_loss: 3.1283 - val_accuracy: 0.1250 - 5s/epoch - 165ms/step\n",
            "Epoch 9/100\n",
            "30/30 - 5s - loss: 2.9382 - accuracy: 0.0833 - val_loss: 3.1362 - val_accuracy: 0.0625 - 5s/epoch - 165ms/step\n",
            "Epoch 10/100\n",
            "30/30 - 5s - loss: 3.0338 - accuracy: 0.1083 - val_loss: 3.0225 - val_accuracy: 0.1250 - 5s/epoch - 164ms/step\n",
            "Epoch 11/100\n",
            "30/30 - 5s - loss: 3.0147 - accuracy: 0.1333 - val_loss: 3.1300 - val_accuracy: 0.0625 - 5s/epoch - 163ms/step\n",
            "Epoch 12/100\n",
            "30/30 - 5s - loss: 2.9157 - accuracy: 0.1500 - val_loss: 3.2458 - val_accuracy: 0.1250 - 5s/epoch - 165ms/step\n",
            "Epoch 13/100\n",
            "30/30 - 5s - loss: 2.9476 - accuracy: 0.1750 - val_loss: 2.9435 - val_accuracy: 0.1250 - 5s/epoch - 163ms/step\n",
            "Epoch 14/100\n",
            "30/30 - 5s - loss: 2.8462 - accuracy: 0.1667 - val_loss: 2.7638 - val_accuracy: 0.1250 - 5s/epoch - 162ms/step\n",
            "Epoch 15/100\n",
            "30/30 - 5s - loss: 2.7859 - accuracy: 0.1333 - val_loss: 2.2687 - val_accuracy: 0.1250 - 5s/epoch - 163ms/step\n",
            "Epoch 16/100\n",
            "30/30 - 5s - loss: 2.4374 - accuracy: 0.2250 - val_loss: 2.3442 - val_accuracy: 0.1875 - 5s/epoch - 162ms/step\n",
            "Epoch 17/100\n",
            "30/30 - 5s - loss: 2.3660 - accuracy: 0.2333 - val_loss: 2.1311 - val_accuracy: 0.2500 - 5s/epoch - 162ms/step\n",
            "Epoch 18/100\n",
            "30/30 - 5s - loss: 2.1653 - accuracy: 0.3167 - val_loss: 2.1021 - val_accuracy: 0.3125 - 5s/epoch - 163ms/step\n",
            "Epoch 19/100\n",
            "30/30 - 6s - loss: 2.3837 - accuracy: 0.2500 - val_loss: 2.2277 - val_accuracy: 0.3125 - 6s/epoch - 202ms/step\n",
            "Epoch 20/100\n",
            "30/30 - 5s - loss: 2.0417 - accuracy: 0.2750 - val_loss: 1.5503 - val_accuracy: 0.6250 - 5s/epoch - 163ms/step\n",
            "Epoch 21/100\n",
            "30/30 - 5s - loss: 1.7861 - accuracy: 0.3917 - val_loss: 1.2595 - val_accuracy: 0.5000 - 5s/epoch - 162ms/step\n",
            "Epoch 22/100\n",
            "30/30 - 5s - loss: 1.4110 - accuracy: 0.4917 - val_loss: 1.1397 - val_accuracy: 0.4375 - 5s/epoch - 161ms/step\n",
            "Epoch 23/100\n",
            "30/30 - 5s - loss: 1.4827 - accuracy: 0.5333 - val_loss: 1.1152 - val_accuracy: 0.6875 - 5s/epoch - 161ms/step\n",
            "Epoch 24/100\n",
            "30/30 - 5s - loss: 1.3044 - accuracy: 0.6333 - val_loss: 0.6155 - val_accuracy: 0.8125 - 5s/epoch - 162ms/step\n",
            "Epoch 25/100\n",
            "30/30 - 5s - loss: 0.9872 - accuracy: 0.6583 - val_loss: 0.4583 - val_accuracy: 0.8750 - 5s/epoch - 161ms/step\n",
            "Epoch 26/100\n",
            "30/30 - 5s - loss: 0.7217 - accuracy: 0.7583 - val_loss: 1.0165 - val_accuracy: 0.8125 - 5s/epoch - 162ms/step\n",
            "Epoch 27/100\n",
            "30/30 - 5s - loss: 1.0865 - accuracy: 0.7000 - val_loss: 0.6015 - val_accuracy: 0.8125 - 5s/epoch - 161ms/step\n",
            "Epoch 28/100\n",
            "30/30 - 5s - loss: 0.8247 - accuracy: 0.7417 - val_loss: 0.3483 - val_accuracy: 0.8125 - 5s/epoch - 161ms/step\n",
            "Epoch 29/100\n",
            "30/30 - 5s - loss: 0.7290 - accuracy: 0.7417 - val_loss: 0.6009 - val_accuracy: 0.7500 - 5s/epoch - 161ms/step\n",
            "Epoch 30/100\n",
            "30/30 - 5s - loss: 0.6743 - accuracy: 0.7917 - val_loss: 0.2773 - val_accuracy: 0.9375 - 5s/epoch - 162ms/step\n",
            "Epoch 31/100\n",
            "30/30 - 5s - loss: 0.3577 - accuracy: 0.8917 - val_loss: 0.6358 - val_accuracy: 0.7500 - 5s/epoch - 162ms/step\n",
            "Epoch 32/100\n",
            "30/30 - 5s - loss: 0.3841 - accuracy: 0.8750 - val_loss: 0.4468 - val_accuracy: 0.8125 - 5s/epoch - 162ms/step\n",
            "Epoch 33/100\n",
            "30/30 - 5s - loss: 0.2894 - accuracy: 0.9167 - val_loss: 0.3370 - val_accuracy: 0.8750 - 5s/epoch - 161ms/step\n",
            "Epoch 34/100\n",
            "30/30 - 5s - loss: 0.3000 - accuracy: 0.8917 - val_loss: 0.5054 - val_accuracy: 0.9375 - 5s/epoch - 161ms/step\n",
            "Epoch 35/100\n",
            "\n",
            "In Epoch 34 \n",
            "Accuracy has reach = 91.67% Training stop.\n",
            "\n",
            "In Epoch 34 \n",
            "Val Accuracy has reach = 93.75% Training stop.\n",
            "30/30 - 5s - loss: 0.2208 - accuracy: 0.9167 - val_loss: 0.2710 - val_accuracy: 0.9375 - 5s/epoch - 159ms/step\n"
          ]
        }
      ]
    },
    {
      "cell_type": "code",
      "source": [
        "#plot akurasi\n",
        "import matplotlib.pyplot as plt\n",
        "plt.plot(history.history['accuracy'])\n",
        "plt.plot(history.history['val_accuracy'])\n",
        "plt.title('Akurasi Model')\n",
        "plt.ylabel('accuracy')\n",
        "plt.xlabel('epoch')\n",
        "plt.legend(['train', 'test'], loc='upper left')\n",
        "plt.show()"
      ],
      "metadata": {
        "id": "5F37vmN94hut",
        "colab": {
          "base_uri": "https://localhost:8080/",
          "height": 295
        },
        "outputId": "028d79f0-13fe-4fe1-98f2-92c780e2ac98"
      },
      "execution_count": 15,
      "outputs": [
        {
          "output_type": "display_data",
          "data": {
            "text/plain": [
              "<Figure size 432x288 with 1 Axes>"
            ],
            "image/png": "[encoded data removed]"
          },
          "metadata": {
            "needs_background": "light"
          }
        }
      ]
    },
    {
      "cell_type": "code",
      "source": [
        "#plot loss\n",
        "plt.plot(history.history['loss'])\n",
        "plt.plot(history.history['val_loss'])\n",
        "plt.title('Loss Model')\n",
        "plt.ylabel('loss')\n",
        "plt.xlabel('epoch')\n",
        "plt.legend(['train', 'test'], loc='upper left')\n",
        "plt.show()"
      ],
      "metadata": {
        "id": "MhhQerCd4i-C",
        "colab": {
          "base_uri": "https://localhost:8080/",
          "height": 295
        },
        "outputId": "9a066071-d525-4e65-eafc-55b4144f9e32"
      },
      "execution_count": 16,
      "outputs": [
        {
          "output_type": "display_data",
          "data": {
            "text/plain": [
              "<Figure size 432x288 with 1 Axes>"
            ],
            "image/png": "[encoded data removed]"
          },
          "metadata": {
            "needs_background": "light"
          }
        }
      ]
    },
    {
      "cell_type": "code",
      "source": [
        "#Output prediksi dari model \n",
        "\n",
        "import tensorflow.keras\n",
        "import numpy as np\n",
        "from google.colab import files\n",
        "from tensorflow.keras.preprocessing import image\n",
        "import matplotlib.pyplot as plt\n",
        "import matplotlib.image as mpimg\n",
        "%matplotlib inline\n",
        "\n",
        "uploaded = files.upload()\n",
        " \n",
        "for fn in uploaded.keys():\n",
        "  #memprediksi\n",
        "  path = fn\n",
        "  gambar = image.load_img(path, target_size=(100,150))\n",
        "  imgplot = plt.imshow(gambar)\n",
        "  x = image.img_to_array(gambar)\n",
        "  x = np.expand_dims(x, axis=0)\n",
        " \n",
        "  images = np.vstack([x])\n",
        "  classes = model.predict(images, batch_size=10)\n",
        "\n",
        "  print(fn)\n",
        "  if classes[0, 0] == 1:\n",
        "    print(\"babi_aluih\")\n",
        "  elif classes[0, 1] == 1:\n",
        "    print(\"babai_gadang\")\n",
        "  elif classes[0, 2] == 1:\n",
        "    print(\"babi_pusek\")\n",
        "  elif classes[0, 3] == 1:\n",
        "    print(\"batuang_aluih\")\n",
        "  elif classes[0, 4] == 1:\n",
        "    print(\"batuang_anam\")\n",
        "  elif classes[0, 5] == 1:\n",
        "    print(\"batuang_manih\")\n",
        "  elif classes[0, 6] == 1:\n",
        "    print(\"bengkok_aluih\")\n",
        "  elif classes[0, 7] == 1:\n",
        "    print(\"bengkok_gadang\")\n",
        "  elif classes[0, 8] == 1:\n",
        "    print(\"bengkok_hitam\")\n",
        "  elif classes[0, 9] == 1:\n",
        "    print(\"hiu_babak\")\n",
        "  elif classes[0, 10] == 1:\n",
        "    print(\"hiu_bungo\")\n",
        "  elif classes[0, 11] == 1:\n",
        "    print(\"hiu_gadang\")\n",
        "  elif classes[0, 12] == 1:\n",
        "    print(\"hiu_hitam\")\n",
        "  elif classes[0, 13] == 1:\n",
        "    print(\"hiu_kuciang\")\n",
        "  elif classes[0, 14] == 1:\n",
        "    print(\"hiu_pinci\")\n",
        "  elif classes[0, 15] == 1:\n",
        "    print(\"jarum_aluih\")\n",
        "  elif classes[0, 16] == 1:\n",
        "    print(\"jarum_gadang\")\n",
        "  elif classes[0, 17] == 1:\n",
        "    print(\"jarum_hitam\")\n",
        "  elif classes[0, 18] == 1:\n",
        "    print(\"pacah_aluih\")\n",
        "  elif classes[0, 19] == 1:\n",
        "    print(\"pacah_delapan\")\n",
        "  elif classes[0, 20] == 1:\n",
        "    print(\"pacah_manih\")\n",
        "  elif classes[0, 21] == 1:\n",
        "    print(\"sisiak_aluih\")\n",
        "  elif classes[0, 22] == 1:\n",
        "    print(\"sisiak_bendera\")\n",
        "  elif classes[0, 23] == 1:\n",
        "    print(\"sisiak_gadang\")\n",
        "  elif classes[0, 24] == 1:\n",
        "    print(\"suduang_aluih\")\n",
        "  elif classes[0, 25] == 1:\n",
        "    print(\"suduang_hitam\")\n",
        "  elif classes[0, 26] == 1:\n",
        "    print(\"suduang_pinggang\")\n",
        "  elif classes[0, 27] == 1:\n",
        "    print(\"tali_aluih\")\n",
        "  elif classes[0, 28] == 1:\n",
        "    print(\"tali_bulek\")\n",
        "  elif classes[0, 29] == 1:\n",
        "    print(\"tali_merah\")\n",
        "  else:\n",
        "    print(\"no matching data\")"
      ],
      "metadata": {
        "id": "r_kDJonw4i2w",
        "colab": {
          "base_uri": "https://localhost:8080/",
          "height": 381
        },
        "outputId": "c79ed6dd-a617-4e52-b24d-044cbf8f001b"
      },
      "execution_count": 17,
      "outputs": [
        {
          "output_type": "display_data",
          "data": {
            "text/plain": [
              "<IPython.core.display.HTML object>"
            ],
            "text/html": [
              "\n",
              "     <input type=\"file\" id=\"files-c8de111d-69af-4c3d-9213-0d8941e349c4\" name=\"files[]\" multiple disabled\n",
              "        style=\"border:none\" />\n",
              "     <output id=\"result-c8de111d-69af-4c3d-9213-0d8941e349c4\">\n",
              "      Upload widget is only available when the cell has been executed in the\n",
              "      current browser session. Please rerun this cell to enable.\n",
              "      </output>\n",
              "      <script>// Copyright 2017 Google LLC\n",
              "//\n",
              "// Licensed under the Apache License, Version 2.0 (the \"License\");\n",
              "// you may not use this file except in compliance with the License.\n",
              "// You may obtain a copy of the License at\n",
              "//\n",
              "//      http://www.apache.org/licenses/LICENSE-2.0\n",
              "//\n",
              "// Unless required by applicable law or agreed to in writing, software\n",
              "// distributed under the License is distributed on an \"AS IS\" BASIS,\n",
              "// WITHOUT WARRANTIES OR CONDITIONS OF ANY KIND, either express or implied.\n",
              "// See the License for the specific language governing permissions and\n",
              "// limitations under the License.\n",
              "\n",
              "/**\n",
              " * @fileoverview Helpers for google.colab Python module.\n",
              " */\n",
              "(function(scope) {\n",
              "function span(text, styleAttributes = {}) {\n",
              "  const element = document.createElement('span');\n",
              "  element.textContent = text;\n",
              "  for (const key of Object.keys(styleAttributes)) {\n",
              "    element.style[key] = styleAttributes[key];\n",
              "  }\n",
              "  return element;\n",
              "}\n",
              "\n",
              "// Max number of bytes which will be uploaded at a time.\n",
              "const MAX_PAYLOAD_SIZE = 100 * 1024;\n",
              "\n",
              "function _uploadFiles(inputId, outputId) {\n",
              "  const steps = uploadFilesStep(inputId, outputId);\n",
              "  const outputElement = document.getElementById(outputId);\n",
              "  // Cache steps on the outputElement to make it available for the next call\n",
              "  // to uploadFilesContinue from Python.\n",
              "  outputElement.steps = steps;\n",
              "\n",
              "  return _uploadFilesContinue(outputId);\n",
              "}\n",
              "\n",
              "// This is roughly an async generator (not supported in the browser yet),\n",
              "// where there are multiple asynchronous steps and the Python side is going\n",
              "// to poll for completion of each step.\n",
              "// This uses a Promise to block the python side on completion of each step,\n",
              "// then passes the result of the previous step as the input to the next step.\n",
              "function _uploadFilesContinue(outputId) {\n",
              "  const outputElement = document.getElementById(outputId);\n",
              "  const steps = outputElement.steps;\n",
              "\n",
              "  const next = steps.next(outputElement.lastPromiseValue);\n",
              "  return Promise.resolve(next.value.promise).then((value) => {\n",
              "    // Cache the last promise value to make it available to the next\n",
              "    // step of the generator.\n",
              "    outputElement.lastPromiseValue = value;\n",
              "    return next.value.response;\n",
              "  });\n",
              "}\n",
              "\n",
              "/**\n",
              " * Generator function which is called between each async step of the upload\n",
              " * process.\n",
              " * @param {string} inputId Element ID of the input file picker element.\n",
              " * @param {string} outputId Element ID of the output display.\n",
              " * @return {!Iterable<!Object>} Iterable of next steps.\n",
              " */\n",
              "function* uploadFilesStep(inputId, outputId) {\n",
              "  const inputElement = document.getElementById(inputId);\n",
              "  inputElement.disabled = false;\n",
              "\n",
              "  const outputElement = document.getElementById(outputId);\n",
              "  outputElement.innerHTML = '';\n",
              "\n",
              "  const pickedPromise = new Promise((resolve) => {\n",
              "    inputElement.addEventListener('change', (e) => {\n",
              "      resolve(e.target.files);\n",
              "    });\n",
              "  });\n",
              "\n",
              "  const cancel = document.createElement('button');\n",
              "  inputElement.parentElement.appendChild(cancel);\n",
              "  cancel.textContent = 'Cancel upload';\n",
              "  const cancelPromise = new Promise((resolve) => {\n",
              "    cancel.onclick = () => {\n",
              "      resolve(null);\n",
              "    };\n",
              "  });\n",
              "\n",
              "  // Wait for the user to pick the files.\n",
              "  const files = yield {\n",
              "    promise: Promise.race([pickedPromise, cancelPromise]),\n",
              "    response: {\n",
              "      action: 'starting',\n",
              "    }\n",
              "  };\n",
              "\n",
              "  cancel.remove();\n",
              "\n",
              "  // Disable the input element since further picks are not allowed.\n",
              "  inputElement.disabled = true;\n",
              "\n",
              "  if (!files) {\n",
              "    return {\n",
              "      response: {\n",
              "        action: 'complete',\n",
              "      }\n",
              "    };\n",
              "  }\n",
              "\n",
              "  for (const file of files) {\n",
              "    const li = document.createElement('li');\n",
              "    li.append(span(file.name, {fontWeight: 'bold'}));\n",
              "    li.append(span(\n",
              "        `(${file.type || 'n/a'}) - ${file.size} bytes, ` +\n",
              "        `last modified: ${\n",
              "            file.lastModifiedDate ? file.lastModifiedDate.toLocaleDateString() :\n",
              "                                    'n/a'} - `));\n",
              "    const percent = span('0% done');\n",
              "    li.appendChild(percent);\n",
              "\n",
              "    outputElement.appendChild(li);\n",
              "\n",
              "    const fileDataPromise = new Promise((resolve) => {\n",
              "      const reader = new FileReader();\n",
              "      reader.onload = (e) => {\n",
              "        resolve(e.target.result);\n",
              "      };\n",
              "      reader.readAsArrayBuffer(file);\n",
              "    });\n",
              "    // Wait for the data to be ready.\n",
              "    let fileData = yield {\n",
              "      promise: fileDataPromise,\n",
              "      response: {\n",
              "        action: 'continue',\n",
              "      }\n",
              "    };\n",
              "\n",
              "    // Use a chunked sending to avoid message size limits. See b/62115660.\n",
              "    let position = 0;\n",
              "    do {\n",
              "      const length = Math.min(fileData.byteLength - position, MAX_PAYLOAD_SIZE);\n",
              "      const chunk = new Uint8Array(fileData, position, length);\n",
              "      position += length;\n",
              "\n",
              "      const base64 = btoa(String.fromCharCode.apply(null, chunk));\n",
              "      yield {\n",
              "        response: {\n",
              "          action: 'append',\n",
              "          file: file.name,\n",
              "          data: base64,\n",
              "        },\n",
              "      };\n",
              "\n",
              "      let percentDone = fileData.byteLength === 0 ?\n",
              "          100 :\n",
              "          Math.round((position / fileData.byteLength) * 100);\n",
              "      percent.textContent = `${percentDone}% done`;\n",
              "\n",
              "    } while (position < fileData.byteLength);\n",
              "  }\n",
              "\n",
              "  // All done.\n",
              "  yield {\n",
              "    response: {\n",
              "      action: 'complete',\n",
              "    }\n",
              "  };\n",
              "}\n",
              "\n",
              "scope.google = scope.google || {};\n",
              "scope.google.colab = scope.google.colab || {};\n",
              "scope.google.colab._files = {\n",
              "  _uploadFiles,\n",
              "  _uploadFilesContinue,\n",
              "};\n",
              "})(self);\n",
              "</script> "
            ]
          },
          "metadata": {}
        },
        {
          "output_type": "stream",
          "name": "stdout",
          "text": [
            "Saving tali_merah (1).png to tali_merah (1).png\n",
            "1/1 [==============================] - 0s 118ms/step\n",
            "tali_merah (1).png\n",
            "tali_merah\n"
          ]
        },
        {
          "output_type": "display_data",
          "data": {
            "text/plain": [
              "<Figure size 432x288 with 1 Axes>"
            ],
            "image/png": "[encoded data removed]"
          },
          "metadata": {
            "needs_background": "light"
          }
        }
      ]
    }
  ]
}