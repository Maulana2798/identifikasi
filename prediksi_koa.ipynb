{
  "cells": [
    {
      "cell_type": "markdown",
      "metadata": {
        "id": "view-in-github",
        "colab_type": "text"
      },
      "source": [
        "<a href=\"https://colab.research.google.com/github/Maulana2798/identifikasi/blob/main/prediksi_koa.ipynb\" target=\"_parent\"><img src=\"https://colab.research.google.com/assets/colab-badge.svg\" alt=\"Open In Colab\"/></a>"
      ]
    },
    {
      "cell_type": "code",
      "execution_count": 1,
      "metadata": {
        "colab": {
          "base_uri": "https://localhost:8080/"
        },
        "id": "fd6oB-6-4ZqT",
        "outputId": "b6fdc6c4-181c-48ae-cb49-841b8dbadd6b"
      },
      "outputs": [
        {
          "output_type": "stream",
          "name": "stdout",
          "text": [
            "2.9.2\n"
          ]
        }
      ],
      "source": [
        "#import library tensorflow\n",
        "import tensorflow as tf\n",
        "from tensorflow.keras.preprocessing.image import ImageDataGenerator\n",
        "\n",
        "#memasitikan versi tensorflow\n",
        "print(tf.__version__)"
      ]
    },
    {
      "cell_type": "code",
      "execution_count": 2,
      "metadata": {
        "colab": {
          "base_uri": "https://localhost:8080/"
        },
        "id": "LBN92ZJs4n0z",
        "outputId": "a3282d9f-c21e-40f1-df7b-a0d07e49e434"
      },
      "outputs": [
        {
          "output_type": "stream",
          "name": "stdout",
          "text": [
            "Mounted at /content/drive\n"
          ]
        }
      ],
      "source": [
        "from google.colab import drive\n",
        "drive.mount('/content/drive')"
      ]
    },
    {
      "cell_type": "code",
      "execution_count": 3,
      "metadata": {
        "id": "uIOlI7w03Prp"
      },
      "outputs": [],
      "source": [
        "#melakukan extract file zip\n",
        "import zipfile,os\n",
        "local_zip = '/content/drive/MyDrive/Skripsi/Program/koa_baru.zip'\n",
        "base_dir = '/content/koa/koa-val-image'\n",
        "zip_ref = zipfile.ZipFile(local_zip, 'r')\n",
        "zip_ref.extractall('/content')\n",
        "zip_ref.close()\n"
      ]
    },
    {
      "cell_type": "code",
      "execution_count": 4,
      "metadata": {
        "id": "Dm7YZ3mW3syH"
      },
      "outputs": [],
      "source": [
        "#mendefinisikan nama direktori untuk data latih dan data validasi\n",
        "train_dir = os.path.join(base_dir, 'koa')\n",
        "validation_dir = os.path.join(base_dir, 'koa/koa-val-image')"
      ]
    },
    {
      "cell_type": "code",
      "execution_count": 5,
      "metadata": {
        "colab": {
          "base_uri": "https://localhost:8080/"
        },
        "id": "2ASkHV87316L",
        "outputId": "74f178d2-bf47-492a-dfc0-533913442b7d"
      },
      "outputs": [
        {
          "output_type": "execute_result",
          "data": {
            "text/plain": [
              "['tali_bulek',\n",
              " 'pacah_aluih',\n",
              " 'sisiak_bendera',\n",
              " 'suduang_aluih',\n",
              " 'batuang_aluih',\n",
              " 'hiu_bungo',\n",
              " 'babi_pusek',\n",
              " 'jarum_aluih',\n",
              " 'bengkok_hitam',\n",
              " 'babi_aluih',\n",
              " 'suduang_pinggang',\n",
              " 'sisiak_aluih',\n",
              " 'suduang_hitam',\n",
              " 'hiu_pinci',\n",
              " 'pacah_manih',\n",
              " 'koa-val-image',\n",
              " 'sisiak_gadang',\n",
              " 'bengkok_gadang',\n",
              " 'batuang_manih',\n",
              " 'hiu_babak',\n",
              " 'tali_aluih',\n",
              " 'bengkok_aluih',\n",
              " 'babi_gadang',\n",
              " 'pacah_delapan',\n",
              " 'jarum_gadang',\n",
              " 'hiu_hitam',\n",
              " 'batuang_anam',\n",
              " 'jarum_hitam',\n",
              " 'hiu_gadang',\n",
              " 'hiu_kuciang',\n",
              " 'tali_merah']"
            ]
          },
          "metadata": {},
          "execution_count": 5
        }
      ],
      "source": [
        "#cek direktori data train\n",
        "os.listdir('/content/koa')"
      ]
    },
    {
      "cell_type": "code",
      "execution_count": 6,
      "metadata": {
        "colab": {
          "base_uri": "https://localhost:8080/"
        },
        "id": "TluoRcZH312O",
        "outputId": "2f4a1a26-1873-4505-c19b-8acc344807e3"
      },
      "outputs": [
        {
          "output_type": "execute_result",
          "data": {
            "text/plain": [
              "['tali_bulek',\n",
              " 'pacah_aluih',\n",
              " 'sisiak_bendera',\n",
              " 'suduang_aluih',\n",
              " 'batuang_aluih',\n",
              " 'hiu_bungo',\n",
              " 'babi_pusek',\n",
              " 'jarum_aluih',\n",
              " 'bengkok_hitam',\n",
              " 'babi_aluih',\n",
              " 'suduang_pinggang',\n",
              " 'sisiak_aluih',\n",
              " 'suduang_hitam',\n",
              " 'hiu_pinci',\n",
              " 'pacah_manih',\n",
              " 'sisiak_gadang',\n",
              " 'bengkok_gadang',\n",
              " 'batuang_manih',\n",
              " 'hiu_babak',\n",
              " 'tali_aluih',\n",
              " 'bengkok_aluih',\n",
              " 'babi_gadang',\n",
              " 'pacah_delapan',\n",
              " 'jarum_gadang',\n",
              " 'hiu_hitam',\n",
              " 'batuang_anam',\n",
              " 'jarum_hitam',\n",
              " 'hiu_gadang',\n",
              " 'hiu_kuciang',\n",
              " 'tali_merah']"
            ]
          },
          "metadata": {},
          "execution_count": 6
        }
      ],
      "source": [
        "#cek direktori data valiadtion\n",
        "os.listdir('/content/koa/koa-val-image')"
      ]
    },
    {
      "cell_type": "code",
      "execution_count": 7,
      "metadata": {
        "id": "c00JwmNp31x1"
      },
      "outputs": [],
      "source": [
        "#membuat direktori koa pada data training\n",
        "train_babi_aluih_dir = os.path.join(train_dir, 'babi_aluih')\n",
        "train_babi_gadang_dir = os.path.join(train_dir, 'babi_gadang')\n",
        "train_babi_pusek_dir = os.path.join(train_dir, 'babi_pusek')\n",
        "train_batuang_aluih_dir = os.path.join(train_dir, 'batuang_aluih')\n",
        "train_batuang_anam_dir = os.path.join(train_dir, 'batuang_anam')\n",
        "train_batuang_manih_dir = os.path.join(train_dir, 'batuang_manih')\n",
        "train_bengkok_aluih_dir = os.path.join(train_dir, 'bengkok_aluih')\n",
        "train_bengkok_gadang_dir = os.path.join(train_dir, 'bengkok_gadang')\n",
        "train_bengkok_hitam_dir = os.path.join(train_dir, 'bengkok_hitam')\n",
        "train_hiu_babak_dir = os.path.join(train_dir, 'hiu_babak')\n",
        "train_hiu_bungo_dir = os.path.join(train_dir, 'hiu_bungo')\n",
        "train_hiu_gadang_dir = os.path.join(train_dir, 'hiu_gadang')\n",
        "train_hiu_hitam_dir = os.path.join(train_dir, 'hiu_hitam')\n",
        "train_hiu_kuciang_dir = os.path.join(train_dir, 'hiu_kuciang')\n",
        "train_hiu__pinci_dir = os.path.join(train_dir, 'hiu_pinci')\n",
        "train_jarum_aluih_dir = os.path.join(train_dir, 'jarum_aluih')\n",
        "train_jarum_gadang_dir = os.path.join(train_dir, 'jarum_gadang')\n",
        "train_jarum_hitam_dir = os.path.join(train_dir, 'jarum_hitam')\n",
        "train_pacah_aluih_dir = os.path.join(train_dir, 'pacah_aluih')\n",
        "train_pacah_delapan_dir = os.path.join(train_dir, 'pacah_delapan')\n",
        "train_pacah_manih_dir = os.path.join(train_dir, 'pacah_manih')\n",
        "train_sisiak_aluih_dir = os.path.join(train_dir, 'sisiak_aluih')\n",
        "train_sisiak_bendera_dir = os.path.join(train_dir, 'sisiak_bendera')\n",
        "train_sisiak_gadang_dir = os.path.join(train_dir, 'sisiak_gadang')\n",
        "train_suduang_aluih_dir = os.path.join(train_dir, 'suduang_aluih')\n",
        "train_suduang_hitam_dir = os.path.join(train_dir, 'suduang_hitam')\n",
        "train_suduang_pinggang_dir = os.path.join(train_dir, 'suduang_pinggang')\n",
        "train_tali_aluih_dir = os.path.join(train_dir, 'tali_aluih')\n",
        "train_tali_bulek_dir = os.path.join(train_dir, 'tali_bulek')\n",
        "train_tali_merah_dir = os.path.join(train_dir, 'tali_merah')\n",
        "\n",
        "#membuat direktori koa pada data c=validasi\n",
        "validation_babi_aluih_dir = os.path.join(validation_dir, 'babi_aluih')\n",
        "validation_babi_gadang_dir = os.path.join(validation_dir, 'babi_gadang')\n",
        "validation_babi_pusek_dir = os.path.join(validation_dir, 'babi_pusek')\n",
        "validation_batuang_aluih_dir = os.path.join(validation_dir, 'batuang_aluih')\n",
        "validation_batuang_anam_dir = os.path.join(validation_dir, 'batuang_anam')\n",
        "validation_batuang_manih_dir = os.path.join(validation_dir, 'batuang_manih')\n",
        "validation_bengkok_aluih_dir = os.path.join(validation_dir, 'bengkok_aluih')\n",
        "validation_bengkok_gadang_dir = os.path.join(validation_dir, 'bengkok_gadang')\n",
        "validation_bengkok_hitam_dir = os.path.join(validation_dir, 'bengkok_hitam')\n",
        "validation_hiu_babak_dir = os.path.join(validation_dir, 'hiu_babak')\n",
        "validation_hiu_bungo_dir = os.path.join(validation_dir, 'hiu_bungo')\n",
        "validation_hiu_gadang_dir = os.path.join(validation_dir, 'hiu_gadang')\n",
        "validation_hiu_hitam_dir = os.path.join(validation_dir, 'hiu_hitam')\n",
        "validation_hiu_kuciang_dir = os.path.join(validation_dir, 'hiu_kuciang')\n",
        "validation_hiu__pinci_dir = os.path.join(validation_dir, 'hiu_pinci')\n",
        "validation_jarum_aluih_dir = os.path.join(validation_dir, 'jarum_aluih')\n",
        "validation_jarum_gadang_dir = os.path.join(validation_dir, 'jarum_gadang')\n",
        "validation_jarum_hitam_dir = os.path.join(validation_dir, 'jarum_hitam')\n",
        "validation_pacah_aluih_dir = os.path.join(validation_dir, 'pacah_aluih')\n",
        "validation_pacah_delapan_dir = os.path.join(validation_dir, 'pacah_delapan')\n",
        "validation_pacah_manih_dir = os.path.join(validation_dir, 'pacah_manih')\n",
        "validation_sisiak_aluih_dir = os.path.join(validation_dir, 'sisiak_aluih')\n",
        "validation_sisiak_bendera_dir = os.path.join(validation_dir, 'sisiak_bendera')\n",
        "validation_sisiak_gadang_dir = os.path.join(validation_dir, 'sisiak_gadang')\n",
        "validation_suduang_aluih_dir = os.path.join(validation_dir, 'suduang_aluih')\n",
        "validation_suduang_hitam_dir = os.path.join(validation_dir, 'suduang_hitam')\n",
        "validation_suduang_pinggang_dir = os.path.join(validation_dir, 'suduang_pinggang')\n",
        "validation_tali_aluih_dir = os.path.join(validation_dir, 'tali_aluih')\n",
        "validation_tali_bulek_dir = os.path.join(validation_dir, 'tali_bulek')\n",
        "validation_tali_merah_dir = os.path.join(validation_dir, 'tali_merah')"
      ]
    },
    {
      "cell_type": "code",
      "execution_count": 8,
      "metadata": {
        "id": "1h1jilVq31so"
      },
      "outputs": [],
      "source": [
        "#membuat image augmantation untuk data training\n",
        "from tensorflow.keras.preprocessing.image import ImageDataGenerator\n",
        "\n",
        "train_datagen = ImageDataGenerator(\n",
        "                    rescale = 1./255,\n",
        "                    rotation_range = 20,\n",
        "                    horizontal_flip = True,\n",
        "                    shear_range = 0.2,\n",
        "                    fill_mode = 'nearest',\n",
        "                    validation_split = 0.2 #ukuran validation 20%\n",
        ")"
      ]
    },
    {
      "cell_type": "code",
      "execution_count": 9,
      "metadata": {
        "colab": {
          "base_uri": "https://localhost:8080/"
        },
        "id": "IfpincMa31lA",
        "outputId": "36c0a490-403c-4226-c367-caf5e1a454ec"
      },
      "outputs": [
        {
          "output_type": "stream",
          "name": "stdout",
          "text": [
            "Found 4080 images belonging to 30 classes.\n",
            "Found 1020 images belonging to 30 classes.\n"
          ]
        }
      ],
      "source": [
        "#mempersiapkan data latih yang akan dipelajari model\n",
        "train_generator = train_datagen.flow_from_directory(\n",
        "        base_dir,\n",
        "        target_size = (200, 100),\n",
        "        subset = 'training',\n",
        "        class_mode = 'categorical',\n",
        ")\n",
        "\n",
        "validation_generator = train_datagen.flow_from_directory(\n",
        "        base_dir,\n",
        "        target_size = (200, 100),\n",
        "        subset = 'validation',\n",
        "        class_mode = 'categorical',\n",
        ")"
      ]
    },
    {
      "cell_type": "code",
      "execution_count": 10,
      "metadata": {
        "id": "T98S5G-E31dH"
      },
      "outputs": [],
      "source": [
        "#membangun model sequential\n",
        "from tensorflow.keras.optimizers import  RMSprop\n",
        "from tensorflow.keras.models import  Sequential\n",
        "from tensorflow.keras.optimizers import Adam\n",
        "from tensorflow.keras.layers import Flatten, Conv2D, MaxPooling2D, Dense, Dropout\n",
        "\n",
        "model = tf.keras.models.Sequential([\n",
        "    tf.keras.layers.Conv2D(16, (3,3), activation='relu', input_shape=(200, 100, 3)),\n",
        "    tf.keras.layers.MaxPool2D(2, 2),\n",
        "    \n",
        "    tf.keras.layers.Conv2D(32, (3,3), activation='relu'),\n",
        "    tf.keras.layers.MaxPool2D(2, 2),\n",
        "    \n",
        "    tf.keras.layers.Conv2D(64, (3,3), activation='relu'),\n",
        "    tf.keras.layers.MaxPool2D(2, 2),\n",
        "    \n",
        "    tf.keras.layers.Conv2D(128, (3,3), activation='relu'),\n",
        "    tf.keras.layers.MaxPool2D(2, 2),\n",
        "    \n",
        "    tf.keras.layers.Flatten(),\n",
        "    tf.keras.layers.Dropout(0.5),\n",
        "    tf.keras.layers.Dense(256, activation='relu'),\n",
        "    \n",
        "    tf.keras.layers.Dense(30, activation='softmax')\n",
        "])  "
      ]
    },
    {
      "cell_type": "code",
      "execution_count": 11,
      "metadata": {
        "id": "4NWc1cqF4S-S"
      },
      "outputs": [],
      "source": [
        "# compile model dengan 'adam' optimizer loss function 'categorical_crossentropy'\n",
        "\n",
        "model.compile(\n",
        "         loss ='categorical_crossentropy',\n",
        "         optimizer = tf.optimizers.Adam(),\n",
        "         metrics = ['accuracy']\n",
        ")"
      ]
    },
    {
      "cell_type": "code",
      "execution_count": 12,
      "metadata": {
        "colab": {
          "base_uri": "https://localhost:8080/"
        },
        "id": "NEeh0GnY4S6u",
        "outputId": "4537c3e3-9296-4c6a-c30e-cfbe74fb0fff"
      },
      "outputs": [
        {
          "output_type": "stream",
          "name": "stdout",
          "text": [
            "Model: \"sequential\"\n",
            "_________________________________________________________________\n",
            " Layer (type)                Output Shape              Param #   \n",
            "=================================================================\n",
            " conv2d (Conv2D)             (None, 198, 98, 16)       448       \n",
            "                                                                 \n",
            " max_pooling2d (MaxPooling2D  (None, 99, 49, 16)       0         \n",
            " )                                                               \n",
            "                                                                 \n",
            " conv2d_1 (Conv2D)           (None, 97, 47, 32)        4640      \n",
            "                                                                 \n",
            " max_pooling2d_1 (MaxPooling  (None, 48, 23, 32)       0         \n",
            " 2D)                                                             \n",
            "                                                                 \n",
            " conv2d_2 (Conv2D)           (None, 46, 21, 64)        18496     \n",
            "                                                                 \n",
            " max_pooling2d_2 (MaxPooling  (None, 23, 10, 64)       0         \n",
            " 2D)                                                             \n",
            "                                                                 \n",
            " conv2d_3 (Conv2D)           (None, 21, 8, 128)        73856     \n",
            "                                                                 \n",
            " max_pooling2d_3 (MaxPooling  (None, 10, 4, 128)       0         \n",
            " 2D)                                                             \n",
            "                                                                 \n",
            " flatten (Flatten)           (None, 5120)              0         \n",
            "                                                                 \n",
            " dropout (Dropout)           (None, 5120)              0         \n",
            "                                                                 \n",
            " dense (Dense)               (None, 256)               1310976   \n",
            "                                                                 \n",
            " dense_1 (Dense)             (None, 30)                7710      \n",
            "                                                                 \n",
            "=================================================================\n",
            "Total params: 1,416,126\n",
            "Trainable params: 1,416,126\n",
            "Non-trainable params: 0\n",
            "_________________________________________________________________\n"
          ]
        }
      ],
      "source": [
        "#ringkasan model\n",
        "model.summary()"
      ]
    },
    {
      "cell_type": "code",
      "execution_count": 13,
      "metadata": {
        "id": "WwuK2-st4S3P"
      },
      "outputs": [],
      "source": [
        "#callback untuk stop training jika akurasi telah dicapai\n",
        "class Callback(tf.keras.callbacks.Callback):\n",
        "  def on_epoch_end(self, epoch, logs = None):\n",
        "    if(logs.get('accuracy') > 0.95 and logs.get('val_accuracy') > 0.95):\n",
        "      print('\\nIn Epoch', epoch, '\\nAccuracy has reach = %2.2f%%' %(logs['accuracy']*100), 'Training stop.')\n",
        "      print('\\nIn Epoch', epoch, '\\nVal Accuracy has reach = %2.2f%%' %(logs['val_accuracy']*100), 'Training stop.')\n",
        "      self.model.stop_training = True\n",
        "callbacks = Callback()"
      ]
    },
    {
      "cell_type": "code",
      "execution_count": 14,
      "metadata": {
        "colab": {
          "base_uri": "https://localhost:8080/"
        },
        "id": "Z4eCst0o4Sz_",
        "outputId": "7098b0e0-7939-4e39-c5d7-86b94a94b6ff"
      },
      "outputs": [
        {
          "output_type": "stream",
          "name": "stdout",
          "text": [
            "Epoch 1/50\n",
            "10/10 - 18s - loss: 3.4346 - accuracy: 0.0219 - val_loss: 3.4030 - val_accuracy: 0.0333 - 18s/epoch - 2s/step\n",
            "Epoch 2/50\n",
            "10/10 - 17s - loss: 3.3997 - accuracy: 0.0437 - val_loss: 3.4061 - val_accuracy: 0.0333 - 17s/epoch - 2s/step\n",
            "Epoch 3/50\n",
            "10/10 - 16s - loss: 3.4027 - accuracy: 0.0437 - val_loss: 3.4006 - val_accuracy: 0.0333 - 16s/epoch - 2s/step\n",
            "Epoch 4/50\n",
            "10/10 - 19s - loss: 3.3947 - accuracy: 0.0594 - val_loss: 3.4012 - val_accuracy: 0.0333 - 19s/epoch - 2s/step\n",
            "Epoch 5/50\n",
            "10/10 - 16s - loss: 3.4003 - accuracy: 0.0344 - val_loss: 3.3985 - val_accuracy: 0.0333 - 16s/epoch - 2s/step\n",
            "Epoch 6/50\n",
            "10/10 - 16s - loss: 3.4010 - accuracy: 0.0406 - val_loss: 3.3929 - val_accuracy: 0.0667 - 16s/epoch - 2s/step\n",
            "Epoch 7/50\n",
            "10/10 - 16s - loss: 3.3931 - accuracy: 0.0688 - val_loss: 3.3714 - val_accuracy: 0.0706 - 16s/epoch - 2s/step\n",
            "Epoch 8/50\n",
            "10/10 - 17s - loss: 3.3346 - accuracy: 0.0562 - val_loss: 3.2500 - val_accuracy: 0.0667 - 17s/epoch - 2s/step\n",
            "Epoch 9/50\n",
            "10/10 - 16s - loss: 3.1976 - accuracy: 0.0750 - val_loss: 3.1239 - val_accuracy: 0.1382 - 16s/epoch - 2s/step\n",
            "Epoch 10/50\n",
            "10/10 - 16s - loss: 3.0779 - accuracy: 0.1094 - val_loss: 3.1121 - val_accuracy: 0.1029 - 16s/epoch - 2s/step\n",
            "Epoch 11/50\n",
            "10/10 - 19s - loss: 3.0733 - accuracy: 0.1156 - val_loss: 3.1332 - val_accuracy: 0.1235 - 19s/epoch - 2s/step\n",
            "Epoch 12/50\n",
            "10/10 - 16s - loss: 3.1359 - accuracy: 0.0906 - val_loss: 3.0093 - val_accuracy: 0.1529 - 16s/epoch - 2s/step\n",
            "Epoch 13/50\n",
            "10/10 - 18s - loss: 3.0724 - accuracy: 0.1063 - val_loss: 2.8746 - val_accuracy: 0.1559 - 18s/epoch - 2s/step\n",
            "Epoch 14/50\n",
            "10/10 - 16s - loss: 2.8581 - accuracy: 0.1625 - val_loss: 2.7497 - val_accuracy: 0.1608 - 16s/epoch - 2s/step\n",
            "Epoch 15/50\n",
            "10/10 - 18s - loss: 2.6598 - accuracy: 0.2188 - val_loss: 2.4342 - val_accuracy: 0.2157 - 18s/epoch - 2s/step\n",
            "Epoch 16/50\n",
            "10/10 - 16s - loss: 2.4270 - accuracy: 0.2656 - val_loss: 2.2400 - val_accuracy: 0.3412 - 16s/epoch - 2s/step\n",
            "Epoch 17/50\n",
            "10/10 - 16s - loss: 2.1828 - accuracy: 0.3625 - val_loss: 1.8846 - val_accuracy: 0.4304 - 16s/epoch - 2s/step\n",
            "Epoch 18/50\n",
            "10/10 - 16s - loss: 2.1079 - accuracy: 0.3469 - val_loss: 2.0205 - val_accuracy: 0.3882 - 16s/epoch - 2s/step\n",
            "Epoch 19/50\n",
            "10/10 - 19s - loss: 1.7260 - accuracy: 0.4437 - val_loss: 1.5406 - val_accuracy: 0.4804 - 19s/epoch - 2s/step\n",
            "Epoch 20/50\n",
            "10/10 - 16s - loss: 1.5966 - accuracy: 0.4969 - val_loss: 1.2455 - val_accuracy: 0.6353 - 16s/epoch - 2s/step\n",
            "Epoch 21/50\n",
            "10/10 - 16s - loss: 1.4044 - accuracy: 0.5469 - val_loss: 1.1829 - val_accuracy: 0.6275 - 16s/epoch - 2s/step\n",
            "Epoch 22/50\n",
            "10/10 - 16s - loss: 1.3782 - accuracy: 0.5813 - val_loss: 1.0884 - val_accuracy: 0.6471 - 16s/epoch - 2s/step\n",
            "Epoch 23/50\n",
            "10/10 - 18s - loss: 1.1610 - accuracy: 0.6438 - val_loss: 0.8333 - val_accuracy: 0.7441 - 18s/epoch - 2s/step\n",
            "Epoch 24/50\n",
            "10/10 - 17s - loss: 0.8391 - accuracy: 0.7063 - val_loss: 0.6558 - val_accuracy: 0.7784 - 17s/epoch - 2s/step\n",
            "Epoch 25/50\n",
            "10/10 - 16s - loss: 0.9976 - accuracy: 0.6656 - val_loss: 0.8054 - val_accuracy: 0.7441 - 16s/epoch - 2s/step\n",
            "Epoch 26/50\n",
            "10/10 - 16s - loss: 0.9226 - accuracy: 0.7312 - val_loss: 0.6251 - val_accuracy: 0.8029 - 16s/epoch - 2s/step\n",
            "Epoch 27/50\n",
            "10/10 - 18s - loss: 0.8005 - accuracy: 0.7344 - val_loss: 0.4660 - val_accuracy: 0.8588 - 18s/epoch - 2s/step\n",
            "Epoch 28/50\n",
            "10/10 - 16s - loss: 0.5674 - accuracy: 0.8062 - val_loss: 0.4148 - val_accuracy: 0.8706 - 16s/epoch - 2s/step\n",
            "Epoch 29/50\n",
            "10/10 - 16s - loss: 0.4948 - accuracy: 0.8313 - val_loss: 0.3790 - val_accuracy: 0.8716 - 16s/epoch - 2s/step\n",
            "Epoch 30/50\n",
            "10/10 - 17s - loss: 0.5095 - accuracy: 0.8219 - val_loss: 0.3505 - val_accuracy: 0.8824 - 17s/epoch - 2s/step\n",
            "Epoch 31/50\n",
            "10/10 - 19s - loss: 0.5529 - accuracy: 0.8281 - val_loss: 0.2864 - val_accuracy: 0.9029 - 19s/epoch - 2s/step\n",
            "Epoch 32/50\n",
            "10/10 - 16s - loss: 0.4125 - accuracy: 0.8531 - val_loss: 0.2671 - val_accuracy: 0.9186 - 16s/epoch - 2s/step\n",
            "Epoch 33/50\n",
            "10/10 - 16s - loss: 0.3485 - accuracy: 0.8687 - val_loss: 0.2680 - val_accuracy: 0.9167 - 16s/epoch - 2s/step\n",
            "Epoch 34/50\n",
            "10/10 - 17s - loss: 0.2698 - accuracy: 0.9094 - val_loss: 0.1602 - val_accuracy: 0.9529 - 17s/epoch - 2s/step\n",
            "Epoch 35/50\n",
            "10/10 - 16s - loss: 0.2903 - accuracy: 0.9031 - val_loss: 0.1652 - val_accuracy: 0.9490 - 16s/epoch - 2s/step\n",
            "Epoch 36/50\n",
            "10/10 - 16s - loss: 0.2972 - accuracy: 0.8969 - val_loss: 0.1455 - val_accuracy: 0.9588 - 16s/epoch - 2s/step\n",
            "Epoch 37/50\n",
            "10/10 - 16s - loss: 0.1995 - accuracy: 0.9344 - val_loss: 0.1219 - val_accuracy: 0.9627 - 16s/epoch - 2s/step\n",
            "Epoch 38/50\n",
            "10/10 - 18s - loss: 0.1741 - accuracy: 0.9500 - val_loss: 0.1407 - val_accuracy: 0.9441 - 18s/epoch - 2s/step\n",
            "Epoch 39/50\n",
            "10/10 - 16s - loss: 0.1613 - accuracy: 0.9469 - val_loss: 0.0887 - val_accuracy: 0.9765 - 16s/epoch - 2s/step\n",
            "Epoch 40/50\n",
            "10/10 - 16s - loss: 0.2108 - accuracy: 0.9281 - val_loss: 0.1366 - val_accuracy: 0.9520 - 16s/epoch - 2s/step\n",
            "Epoch 41/50\n",
            "10/10 - 16s - loss: 0.2577 - accuracy: 0.9125 - val_loss: 0.1112 - val_accuracy: 0.9559 - 16s/epoch - 2s/step\n",
            "Epoch 42/50\n",
            "10/10 - 18s - loss: 0.2104 - accuracy: 0.9281 - val_loss: 0.0672 - val_accuracy: 0.9873 - 18s/epoch - 2s/step\n",
            "Epoch 43/50\n",
            "10/10 - 16s - loss: 0.1777 - accuracy: 0.9500 - val_loss: 0.1209 - val_accuracy: 0.9559 - 16s/epoch - 2s/step\n",
            "Epoch 44/50\n",
            "10/10 - 16s - loss: 0.1582 - accuracy: 0.9438 - val_loss: 0.1158 - val_accuracy: 0.9578 - 16s/epoch - 2s/step\n",
            "Epoch 45/50\n",
            "\n",
            "In Epoch 44 \n",
            "Accuracy has reach = 96.88% Training stop.\n",
            "\n",
            "In Epoch 44 \n",
            "Val Accuracy has reach = 98.24% Training stop.\n",
            "10/10 - 18s - loss: 0.1057 - accuracy: 0.9688 - val_loss: 0.0493 - val_accuracy: 0.9824 - 18s/epoch - 2s/step\n"
          ]
        }
      ],
      "source": [
        "#latih model\n",
        "history = model.fit(\n",
        "      train_generator,\n",
        "      batch_size=16,\n",
        "      steps_per_epoch=10, \n",
        "      epochs=50,\n",
        "      validation_data=validation_generator,\n",
        "      verbose=2,\n",
        "      shuffle=False,\n",
        "      callbacks = [Callback()]\n",
        ")"
      ]
    },
    {
      "cell_type": "code",
      "execution_count": 15,
      "metadata": {
        "colab": {
          "base_uri": "https://localhost:8080/",
          "height": 350
        },
        "id": "5F37vmN94hut",
        "outputId": "ef17b61d-9280-4080-8b76-9ba86564517b"
      },
      "outputs": [
        {
          "output_type": "display_data",
          "data": {
            "text/plain": [
              "<Figure size 720x360 with 1 Axes>"
            ],
            "image/png": "[encoded data removed]"
          },
          "metadata": {
            "needs_background": "light"
          }
        }
      ],
      "source": [
        "#plot akurasi\n",
        "import matplotlib.pyplot as plt\n",
        "\n",
        "plt.figure(figsize=(10,5))\n",
        "plt.title('Akurasi Model')\n",
        "plt.plot(history.history['accuracy'])\n",
        "plt.plot(history.history['val_accuracy'])\n",
        "plt.ylabel('accuracy')\n",
        "plt.xlabel('epoch')\n",
        "plt.legend(['train', 'test'], loc='upper left')\n",
        "plt.xticks([0,2,4,6,8,10,12,14,16,18,20,22,24,26,28,30,32,34,36,38,40,42,44,46,48,50])\n",
        "plt.grid(True)\n",
        "plt.show()"
      ]
    },
    {
      "cell_type": "code",
      "execution_count": 16,
      "metadata": {
        "colab": {
          "base_uri": "https://localhost:8080/",
          "height": 350
        },
        "id": "MhhQerCd4i-C",
        "outputId": "b9a3d489-18b8-4f2d-f9e0-4e1a083a7ca8"
      },
      "outputs": [
        {
          "output_type": "display_data",
          "data": {
            "text/plain": [
              "<Figure size 720x360 with 1 Axes>"
            ],
            "image/png": "[encoded data removed]"
          },
          "metadata": {
            "needs_background": "light"
          }
        }
      ],
      "source": [
        "#plot loss\n",
        "plt.rcParams['figure.figsize'] = (10, 5)\n",
        "plt.title('Loss Model')\n",
        "plt.plot(history.history['loss'])\n",
        "plt.plot(history.history['val_loss'])\n",
        "plt.ylabel('loss')\n",
        "plt.xlabel('epoch')\n",
        "plt.legend(['train', 'test'], loc='upper left')\n",
        "plt.xticks([0,2,4,6,8,10,12,14,16,18,20,22,24,26,28,30,32,34,36,38,40,42,44,46,48,50])\n",
        "plt.grid(True)\n",
        "plt.show()"
      ]
    },
    {
      "cell_type": "code",
      "execution_count": 19,
      "metadata": {
        "colab": {
          "base_uri": "https://localhost:8080/",
          "height": 382
        },
        "id": "r_kDJonw4i2w",
        "outputId": "36168f46-6dc9-4e70-937a-35d17fdad4f5"
      },
      "outputs": [
        {
          "output_type": "display_data",
          "data": {
            "text/plain": [
              "<IPython.core.display.HTML object>"
            ],
            "text/html": [
              "\n",
              "     <input type=\"file\" id=\"files-84114698-561b-491a-8391-5e95b1921880\" name=\"files[]\" multiple disabled\n",
              "        style=\"border:none\" />\n",
              "     <output id=\"result-84114698-561b-491a-8391-5e95b1921880\">\n",
              "      Upload widget is only available when the cell has been executed in the\n",
              "      current browser session. Please rerun this cell to enable.\n",
              "      </output>\n",
              "      <script>// Copyright 2017 Google LLC\n",
              "//\n",
              "// Licensed under the Apache License, Version 2.0 (the \"License\");\n",
              "// you may not use this file except in compliance with the License.\n",
              "// You may obtain a copy of the License at\n",
              "//\n",
              "//      http://www.apache.org/licenses/LICENSE-2.0\n",
              "//\n",
              "// Unless required by applicable law or agreed to in writing, software\n",
              "// distributed under the License is distributed on an \"AS IS\" BASIS,\n",
              "// WITHOUT WARRANTIES OR CONDITIONS OF ANY KIND, either express or implied.\n",
              "// See the License for the specific language governing permissions and\n",
              "// limitations under the License.\n",
              "\n",
              "/**\n",
              " * @fileoverview Helpers for google.colab Python module.\n",
              " */\n",
              "(function(scope) {\n",
              "function span(text, styleAttributes = {}) {\n",
              "  const element = document.createElement('span');\n",
              "  element.textContent = text;\n",
              "  for (const key of Object.keys(styleAttributes)) {\n",
              "    element.style[key] = styleAttributes[key];\n",
              "  }\n",
              "  return element;\n",
              "}\n",
              "\n",
              "// Max number of bytes which will be uploaded at a time.\n",
              "const MAX_PAYLOAD_SIZE = 100 * 1024;\n",
              "\n",
              "function _uploadFiles(inputId, outputId) {\n",
              "  const steps = uploadFilesStep(inputId, outputId);\n",
              "  const outputElement = document.getElementById(outputId);\n",
              "  // Cache steps on the outputElement to make it available for the next call\n",
              "  // to uploadFilesContinue from Python.\n",
              "  outputElement.steps = steps;\n",
              "\n",
              "  return _uploadFilesContinue(outputId);\n",
              "}\n",
              "\n",
              "// This is roughly an async generator (not supported in the browser yet),\n",
              "// where there are multiple asynchronous steps and the Python side is going\n",
              "// to poll for completion of each step.\n",
              "// This uses a Promise to block the python side on completion of each step,\n",
              "// then passes the result of the previous step as the input to the next step.\n",
              "function _uploadFilesContinue(outputId) {\n",
              "  const outputElement = document.getElementById(outputId);\n",
              "  const steps = outputElement.steps;\n",
              "\n",
              "  const next = steps.next(outputElement.lastPromiseValue);\n",
              "  return Promise.resolve(next.value.promise).then((value) => {\n",
              "    // Cache the last promise value to make it available to the next\n",
              "    // step of the generator.\n",
              "    outputElement.lastPromiseValue = value;\n",
              "    return next.value.response;\n",
              "  });\n",
              "}\n",
              "\n",
              "/**\n",
              " * Generator function which is called between each async step of the upload\n",
              " * process.\n",
              " * @param {string} inputId Element ID of the input file picker element.\n",
              " * @param {string} outputId Element ID of the output display.\n",
              " * @return {!Iterable<!Object>} Iterable of next steps.\n",
              " */\n",
              "function* uploadFilesStep(inputId, outputId) {\n",
              "  const inputElement = document.getElementById(inputId);\n",
              "  inputElement.disabled = false;\n",
              "\n",
              "  const outputElement = document.getElementById(outputId);\n",
              "  outputElement.innerHTML = '';\n",
              "\n",
              "  const pickedPromise = new Promise((resolve) => {\n",
              "    inputElement.addEventListener('change', (e) => {\n",
              "      resolve(e.target.files);\n",
              "    });\n",
              "  });\n",
              "\n",
              "  const cancel = document.createElement('button');\n",
              "  inputElement.parentElement.appendChild(cancel);\n",
              "  cancel.textContent = 'Cancel upload';\n",
              "  const cancelPromise = new Promise((resolve) => {\n",
              "    cancel.onclick = () => {\n",
              "      resolve(null);\n",
              "    };\n",
              "  });\n",
              "\n",
              "  // Wait for the user to pick the files.\n",
              "  const files = yield {\n",
              "    promise: Promise.race([pickedPromise, cancelPromise]),\n",
              "    response: {\n",
              "      action: 'starting',\n",
              "    }\n",
              "  };\n",
              "\n",
              "  cancel.remove();\n",
              "\n",
              "  // Disable the input element since further picks are not allowed.\n",
              "  inputElement.disabled = true;\n",
              "\n",
              "  if (!files) {\n",
              "    return {\n",
              "      response: {\n",
              "        action: 'complete',\n",
              "      }\n",
              "    };\n",
              "  }\n",
              "\n",
              "  for (const file of files) {\n",
              "    const li = document.createElement('li');\n",
              "    li.append(span(file.name, {fontWeight: 'bold'}));\n",
              "    li.append(span(\n",
              "        `(${file.type || 'n/a'}) - ${file.size} bytes, ` +\n",
              "        `last modified: ${\n",
              "            file.lastModifiedDate ? file.lastModifiedDate.toLocaleDateString() :\n",
              "                                    'n/a'} - `));\n",
              "    const percent = span('0% done');\n",
              "    li.appendChild(percent);\n",
              "\n",
              "    outputElement.appendChild(li);\n",
              "\n",
              "    const fileDataPromise = new Promise((resolve) => {\n",
              "      const reader = new FileReader();\n",
              "      reader.onload = (e) => {\n",
              "        resolve(e.target.result);\n",
              "      };\n",
              "      reader.readAsArrayBuffer(file);\n",
              "    });\n",
              "    // Wait for the data to be ready.\n",
              "    let fileData = yield {\n",
              "      promise: fileDataPromise,\n",
              "      response: {\n",
              "        action: 'continue',\n",
              "      }\n",
              "    };\n",
              "\n",
              "    // Use a chunked sending to avoid message size limits. See b/62115660.\n",
              "    let position = 0;\n",
              "    do {\n",
              "      const length = Math.min(fileData.byteLength - position, MAX_PAYLOAD_SIZE);\n",
              "      const chunk = new Uint8Array(fileData, position, length);\n",
              "      position += length;\n",
              "\n",
              "      const base64 = btoa(String.fromCharCode.apply(null, chunk));\n",
              "      yield {\n",
              "        response: {\n",
              "          action: 'append',\n",
              "          file: file.name,\n",
              "          data: base64,\n",
              "        },\n",
              "      };\n",
              "\n",
              "      let percentDone = fileData.byteLength === 0 ?\n",
              "          100 :\n",
              "          Math.round((position / fileData.byteLength) * 100);\n",
              "      percent.textContent = `${percentDone}% done`;\n",
              "\n",
              "    } while (position < fileData.byteLength);\n",
              "  }\n",
              "\n",
              "  // All done.\n",
              "  yield {\n",
              "    response: {\n",
              "      action: 'complete',\n",
              "    }\n",
              "  };\n",
              "}\n",
              "\n",
              "scope.google = scope.google || {};\n",
              "scope.google.colab = scope.google.colab || {};\n",
              "scope.google.colab._files = {\n",
              "  _uploadFiles,\n",
              "  _uploadFilesContinue,\n",
              "};\n",
              "})(self);\n",
              "</script> "
            ]
          },
          "metadata": {}
        },
        {
          "output_type": "stream",
          "name": "stdout",
          "text": [
            "Saving babi_aluih.jpg to babi_aluih (1).jpg\n",
            "1/1 [==============================] - 0s 26ms/step\n",
            "babi_aluih.jpg\n",
            "babi_aluih\n"
          ]
        },
        {
          "output_type": "display_data",
          "data": {
            "text/plain": [
              "<Figure size 432x288 with 1 Axes>"
            ],
            "image/png": "[encoded data removed]"
          },
          "metadata": {
            "needs_background": "light"
          }
        }
      ],
      "source": [
        "#Output prediksi dari model \n",
        "\n",
        "import tensorflow.keras\n",
        "import numpy as np\n",
        "from google.colab import files\n",
        "from tensorflow.keras.preprocessing import image\n",
        "import matplotlib.pyplot as plt\n",
        "import matplotlib.image as mpimg\n",
        "%matplotlib inline\n",
        "\n",
        "uploaded = files.upload()\n",
        " \n",
        "for fn in uploaded.keys():\n",
        "  #memprediksi\n",
        "  path = fn\n",
        "  gambar = image.load_img(path, target_size=(200,100))\n",
        "  imgplot = plt.imshow(gambar)\n",
        "  x = image.img_to_array(gambar)\n",
        "  x = np.expand_dims(x, axis=0)\n",
        " \n",
        "  images = np.vstack([x])\n",
        "  classes = model.predict(images, batch_size=16)\n",
        "  \n",
        "  print(fn)\n",
        "  if classes[0, 0] == 1:\n",
        "    print(\"babi_aluih\")\n",
        "  elif classes[0, 1] == 1:\n",
        "    print(\"babi_gadang\")\n",
        "  elif classes[0, 2] == 1:\n",
        "    print(\"babi_pusek\")\n",
        "  elif classes[0, 3] == 1:\n",
        "    print(\"batuang_aluih\")\n",
        "  elif classes[0, 4] == 1:\n",
        "    print(\"batuang_anam\")\n",
        "  elif classes[0, 5] == 1:\n",
        "    print(\"batuang_manih\")\n",
        "  elif classes[0, 6] == 1:\n",
        "    print(\"bengkok_aluih\")\n",
        "  elif classes[0, 7] == 1:\n",
        "    print(\"bengkok_gadang\")\n",
        "  elif classes[0, 8] == 1:\n",
        "    print(\"bengkok_hitam\")\n",
        "  elif classes[0, 9] == 1:\n",
        "    print(\"hiu_babak\")\n",
        "  elif classes[0, 10] == 1:\n",
        "    print(\"hiu_bungo\")\n",
        "  elif classes[0, 11] == 1:\n",
        "    print(\"hiu_gadang\")\n",
        "  elif classes[0, 12] == 1:\n",
        "    print(\"hiu_hitam\")\n",
        "  elif classes[0, 13] == 1:\n",
        "    print(\"hiu_kuciang\")\n",
        "  elif classes[0, 14] == 1:\n",
        "    print(\"hiu_pinci\")\n",
        "  elif classes[0, 15] == 1:\n",
        "    print(\"jarum_aluih\")\n",
        "  elif classes[0, 16] == 1:\n",
        "    print(\"jarum_gadang\")\n",
        "  elif classes[0, 17] == 1:\n",
        "    print(\"jarum_hitam\")\n",
        "  elif classes[0, 18] == 1:\n",
        "    print(\"pacah_aluih\")\n",
        "  elif classes[0, 19] == 1:\n",
        "    print(\"pacah_delapan\")\n",
        "  elif classes[0, 20] == 1:\n",
        "    print(\"pacah_manih\")\n",
        "  elif classes[0, 21] == 1:\n",
        "    print(\"sisiak_aluih\")\n",
        "  elif classes[0, 22] == 1:\n",
        "    print(\"sisiak_bendera\")\n",
        "  elif classes[0, 23] == 1:\n",
        "    print(\"sisiak_gadang\")\n",
        "  elif classes[0, 24] == 1:\n",
        "    print(\"suduang_aluih\")\n",
        "  elif classes[0, 25] == 1:\n",
        "    print(\"suduang_hitam\")\n",
        "  elif classes[0, 26] == 1:\n",
        "    print(\"suduang_pinggang\")\n",
        "  elif classes[0, 27] == 1:\n",
        "    print(\"tali_aluih\")\n",
        "  elif classes[0, 28] == 1:\n",
        "    print(\"tali_bulek\")\n",
        "  elif classes[0, 29] == 1:\n",
        "    print(\"tali_merah\")\n",
        "  else:\n",
        "    print(\"no matching data\")"
      ]
    },
    {
      "cell_type": "code",
      "execution_count": 20,
      "metadata": {
        "colab": {
          "base_uri": "https://localhost:8080/"
        },
        "id": "Jkqld1g6t69X",
        "outputId": "931ebcbd-2af4-4327-d5c2-d780d6a867f6"
      },
      "outputs": [
        {
          "output_type": "stream",
          "name": "stdout",
          "text": [
            "32/32 [==============================] - 10s 305ms/step\n",
            "Confusion Matrix\n",
            "[[1 1 0 1 1 1 0 2 1 0 2 2 0 2 2 1 1 1 1 1 2 2 0 0 0 0 1 2 3 3]\n",
            " [2 1 0 1 0 0 1 2 3 1 2 1 0 1 2 3 0 2 0 0 2 1 0 2 1 1 1 1 1 2]\n",
            " [0 1 2 1 2 1 1 0 1 2 2 4 2 1 1 1 1 0 0 3 1 0 0 0 0 4 0 0 2 1]\n",
            " [2 1 2 1 2 1 2 0 0 0 0 2 0 0 1 2 0 1 2 1 1 0 1 1 2 5 1 2 1 0]\n",
            " [2 0 1 1 1 0 2 2 1 2 1 1 1 0 1 1 0 2 0 1 2 1 0 2 1 1 1 1 3 2]\n",
            " [2 0 1 2 1 0 2 2 2 0 1 2 1 1 1 0 2 0 2 0 1 3 0 1 1 1 2 1 1 1]\n",
            " [0 1 1 3 1 2 0 0 2 0 0 0 2 0 1 0 0 3 2 2 3 0 1 1 2 0 1 0 2 4]\n",
            " [0 4 1 0 1 1 2 3 3 0 2 2 2 3 0 0 1 0 1 0 2 1 0 1 1 2 0 1 0 0]\n",
            " [2 2 1 0 1 1 1 0 1 1 0 0 1 3 0 3 0 1 2 1 2 1 1 3 3 0 0 1 1 1]\n",
            " [2 1 1 2 1 1 1 0 1 0 0 3 1 1 1 2 2 0 0 3 1 1 1 1 1 0 3 2 1 0]\n",
            " [2 0 1 1 1 0 2 1 2 2 3 1 0 2 3 0 0 2 0 0 1 1 2 0 0 1 1 0 4 1]\n",
            " [0 1 1 1 1 1 0 2 1 3 1 3 3 2 1 0 2 1 0 1 1 1 1 0 0 1 1 2 0 2]\n",
            " [0 1 2 4 4 1 1 1 1 0 0 0 0 0 2 2 1 0 3 2 2 1 3 1 0 0 0 0 1 1]\n",
            " [1 3 1 0 0 1 2 2 1 3 2 0 2 2 0 2 1 0 2 0 0 1 2 2 1 1 1 0 1 0]\n",
            " [1 0 1 1 1 0 1 1 2 3 1 0 1 2 3 1 2 2 1 2 0 3 1 0 0 1 1 1 0 1]\n",
            " [2 1 1 1 1 4 0 1 0 1 3 1 1 0 1 0 0 1 0 1 2 0 1 0 4 2 2 1 1 1]\n",
            " [1 0 2 0 2 1 2 1 0 2 0 2 1 2 2 0 1 1 2 0 2 0 2 1 3 2 0 0 2 0]\n",
            " [0 3 1 1 1 1 1 0 0 2 0 0 0 3 0 0 3 1 3 0 1 1 3 3 1 1 2 0 1 1]\n",
            " [1 4 0 0 1 1 2 2 1 0 3 0 1 1 0 4 1 1 1 0 2 1 1 1 2 1 1 0 0 1]\n",
            " [0 2 2 0 1 1 0 2 0 2 0 2 3 2 0 1 2 0 1 1 0 1 1 2 2 0 1 3 1 1]\n",
            " [0 2 0 1 1 0 0 0 0 1 2 0 0 1 2 3 2 2 1 2 2 3 3 1 0 0 1 3 0 1]\n",
            " [0 1 0 2 2 2 1 1 2 2 1 2 1 2 0 1 0 0 0 2 1 2 4 2 0 1 0 2 0 0]\n",
            " [2 1 0 1 1 4 0 1 0 1 0 0 2 1 0 1 2 2 1 1 0 2 0 0 2 1 2 3 0 3]\n",
            " [3 0 2 2 0 1 2 0 1 1 0 4 2 0 1 2 2 1 2 1 0 0 1 1 2 1 1 0 0 1]\n",
            " [2 1 2 1 1 2 0 0 3 1 1 2 1 1 2 0 0 2 0 2 1 2 0 1 0 1 2 0 3 0]\n",
            " [4 1 2 0 1 1 2 1 1 2 1 1 0 0 1 2 0 1 2 3 1 1 2 0 0 0 0 1 1 2]\n",
            " [1 0 2 3 0 1 1 3 0 0 1 1 1 1 2 1 1 1 3 1 1 1 1 2 1 1 1 2 0 0]\n",
            " [1 1 2 2 2 2 1 1 2 1 2 1 0 1 2 0 2 2 0 0 0 1 1 0 0 4 1 1 1 0]\n",
            " [0 2 0 0 1 1 2 2 0 1 1 0 1 1 2 0 2 0 1 1 0 1 0 1 2 2 5 2 1 2]\n",
            " [0 2 2 1 1 1 2 1 1 0 2 0 2 0 0 1 0 3 1 2 0 1 1 0 2 3 1 2 0 2]]\n",
            "\n",
            " Classification Report\n",
            "                  precision    recall  f1-score   support\n",
            "\n",
            "      babi_aluih       0.03      0.03      0.03        34\n",
            "     babi_gadang       0.03      0.03      0.03        34\n",
            "      babi_pusek       0.06      0.06      0.06        34\n",
            "   batuang_aluih       0.03      0.03      0.03        34\n",
            "    batuang_anam       0.03      0.03      0.03        34\n",
            "   batuang_manih       0.00      0.00      0.00        34\n",
            "   bengkok_aluih       0.00      0.00      0.00        34\n",
            "  bengkok_gadang       0.09      0.09      0.09        34\n",
            "   bengkok_hitam       0.03      0.03      0.03        34\n",
            "       hiu_babak       0.00      0.00      0.00        34\n",
            "       hiu_bungo       0.09      0.09      0.09        34\n",
            "      hiu_gadang       0.08      0.09      0.08        34\n",
            "       hiu_hitam       0.00      0.00      0.00        34\n",
            "     hiu_kuciang       0.06      0.06      0.06        34\n",
            "       hiu_pinci       0.09      0.09      0.09        34\n",
            "     jarum_aluih       0.00      0.00      0.00        34\n",
            "    jarum_gadang       0.03      0.03      0.03        34\n",
            "     jarum_hitam       0.03      0.03      0.03        34\n",
            "   suduang_aluih       0.03      0.03      0.03        34\n",
            "   suduang_hitam       0.03      0.03      0.03        34\n",
            "suduang_pinggang       0.06      0.06      0.06        34\n",
            "     pacah_aluih       0.06      0.06      0.06        34\n",
            "   pacah_delapan       0.00      0.00      0.00        34\n",
            "     pacah_manih       0.03      0.03      0.03        34\n",
            "    sisiak_aluih       0.00      0.00      0.00        34\n",
            "   sisiak_gadang       0.00      0.00      0.00        34\n",
            "  sisiak_bendera       0.03      0.03      0.03        34\n",
            "      tali_aluih       0.03      0.03      0.03        34\n",
            "      tali_bulek       0.03      0.03      0.03        34\n",
            "      tali_merah       0.06      0.06      0.06        34\n",
            "\n",
            "        accuracy                           0.03      1020\n",
            "       macro avg       0.03      0.03      0.03      1020\n",
            "    weighted avg       0.03      0.03      0.03      1020\n",
            "\n"
          ]
        }
      ],
      "source": [
        "#Confution Matrix and Classification Report\n",
        "from sklearn.metrics import classification_report, confusion_matrix\n",
        "\n",
        "Y_pred = model.predict(validation_generator)\n",
        "y_pred = np.argmax(Y_pred, axis=1)\n",
        "\n",
        "print('Confusion Matrix')\n",
        "print(confusion_matrix(validation_generator.classes, y_pred))\n",
        "\n",
        "print('\\n Classification Report')\n",
        "target_names = ['babi_aluih',\n",
        " 'babi_gadang',\n",
        " 'babi_pusek',\n",
        " 'batuang_aluih',\n",
        " 'batuang_anam',\n",
        " 'batuang_manih',\n",
        " 'bengkok_aluih',\n",
        " 'bengkok_gadang',\n",
        " 'bengkok_hitam',\n",
        " 'hiu_babak',\n",
        " 'hiu_bungo',\n",
        " 'hiu_gadang',\n",
        " 'hiu_hitam',\n",
        " 'hiu_kuciang',\n",
        " 'hiu_pinci',\n",
        " 'jarum_aluih',\n",
        " 'jarum_gadang',\n",
        " 'jarum_hitam',\n",
        " 'suduang_aluih',\n",
        " 'suduang_hitam',\n",
        " 'suduang_pinggang',\n",
        " 'pacah_aluih',\n",
        " 'pacah_delapan',\n",
        " 'pacah_manih',\n",
        " 'sisiak_aluih',\n",
        " 'sisiak_gadang',\n",
        " 'sisiak_bendera',\n",
        " 'tali_aluih',\n",
        " 'tali_bulek',\n",
        " 'tali_merah']\n",
        "\n",
        "print(classification_report(validation_generator.classes, y_pred, target_names=target_names))"
      ]
    }
  ],
  "metadata": {
    "colab": {
      "provenance": [],
      "authorship_tag": "ABX9TyMOvMNQuQJlHMgcUQKuJsUK",
      "include_colab_link": true
    },
    "kernelspec": {
      "display_name": "Python 3",
      "name": "python3"
    },
    "language_info": {
      "name": "python"
    }
  },
  "nbformat": 4,
  "nbformat_minor": 0
}